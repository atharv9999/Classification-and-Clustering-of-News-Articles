{
  "nbformat": 4,
  "nbformat_minor": 0,
  "metadata": {
    "colab": {
      "provenance": []
    },
    "kernelspec": {
      "name": "python3",
      "display_name": "Python 3"
    },
    "language_info": {
      "name": "python"
    }
  },
  "cells": [
    {
      "cell_type": "code",
      "source": [
        "import pandas as pd"
      ],
      "metadata": {
        "id": "6xIZQJCPq_kE"
      },
      "execution_count": null,
      "outputs": []
    },
    {
      "cell_type": "code",
      "source": [
        "!unzip /content/Indian_News_Data.zip -d /content/newsdata"
      ],
      "metadata": {
        "colab": {
          "base_uri": "https://localhost:8080/"
        },
        "id": "ATxZnRUTu4ru",
        "outputId": "5a7d7923-4771-4783-dc6f-8c4c4b2ac8cf"
      },
      "execution_count": null,
      "outputs": [
        {
          "output_type": "stream",
          "name": "stdout",
          "text": [
            "Archive:  /content/Indian_News_Data.zip\n",
            "  inflating: /content/newsdata/business_data.csv  \n",
            "  inflating: /content/newsdata/education_data.csv  \n",
            "  inflating: /content/newsdata/entertainment_data.csv  \n",
            "  inflating: /content/newsdata/sports_data.csv  \n",
            "  inflating: /content/newsdata/technology_data.csv  \n"
          ]
        }
      ]
    },
    {
      "cell_type": "code",
      "source": [
        "df = pd.read_csv('/content/newsdata/business_data.csv')"
      ],
      "metadata": {
        "id": "oOQUdNqXqS4P"
      },
      "execution_count": null,
      "outputs": []
    },
    {
      "cell_type": "code",
      "source": [
        "df.head()"
      ],
      "metadata": {
        "colab": {
          "base_uri": "https://localhost:8080/",
          "height": 292
        },
        "id": "LQTLaKhkrENu",
        "outputId": "df5995fb-b1ea-467e-e94f-5ab2c483c1f9"
      },
      "execution_count": null,
      "outputs": [
        {
          "output_type": "execute_result",
          "data": {
            "text/plain": [
              "                                           headlines  \\\n",
              "0  Nirmala Sitharaman to equal Morarji Desai’s re...   \n",
              "1  ‘Will densify network, want to be at least no....   \n",
              "2  Air India group to induct an aircraft every si...   \n",
              "3  Red Sea woes: Exporters seek increased credit ...   \n",
              "4  Air India group to induct a plane every 6 days...   \n",
              "\n",
              "                                         description  \\\n",
              "0  With the presentation of the interim budget on...   \n",
              "1  'In terms of market share, we aim to double it...   \n",
              "2  Air India currently has 117 operational aircra...   \n",
              "3  Rising attacks forced shippers to consider the...   \n",
              "4  Apart from fleet expansion, 2024 will also see...   \n",
              "\n",
              "                                             content  \\\n",
              "0  Sitharaman, the first full-time woman finance ...   \n",
              "1  The merger of Tata group’s budget airlines Air...   \n",
              "2  The Air India group plans to induct one aircra...   \n",
              "3  Indian exporters have asked the central govern...   \n",
              "4  The Air India group plans to induct one aircra...   \n",
              "\n",
              "                                                 url  category  \n",
              "0  https://indianexpress.com/article/business/bud...  business  \n",
              "1  https://indianexpress.com/article/business/avi...  business  \n",
              "2  https://indianexpress.com/article/business/avi...  business  \n",
              "3  https://indianexpress.com/article/business/red...  business  \n",
              "4  https://indianexpress.com/article/business/avi...  business  "
            ],
            "text/html": [
              "\n",
              "  <div id=\"df-ad1ead86-b793-4df8-8c0c-ecfd94ae6760\" class=\"colab-df-container\">\n",
              "    <div>\n",
              "<style scoped>\n",
              "    .dataframe tbody tr th:only-of-type {\n",
              "        vertical-align: middle;\n",
              "    }\n",
              "\n",
              "    .dataframe tbody tr th {\n",
              "        vertical-align: top;\n",
              "    }\n",
              "\n",
              "    .dataframe thead th {\n",
              "        text-align: right;\n",
              "    }\n",
              "</style>\n",
              "<table border=\"1\" class=\"dataframe\">\n",
              "  <thead>\n",
              "    <tr style=\"text-align: right;\">\n",
              "      <th></th>\n",
              "      <th>headlines</th>\n",
              "      <th>description</th>\n",
              "      <th>content</th>\n",
              "      <th>url</th>\n",
              "      <th>category</th>\n",
              "    </tr>\n",
              "  </thead>\n",
              "  <tbody>\n",
              "    <tr>\n",
              "      <th>0</th>\n",
              "      <td>Nirmala Sitharaman to equal Morarji Desai’s re...</td>\n",
              "      <td>With the presentation of the interim budget on...</td>\n",
              "      <td>Sitharaman, the first full-time woman finance ...</td>\n",
              "      <td>https://indianexpress.com/article/business/bud...</td>\n",
              "      <td>business</td>\n",
              "    </tr>\n",
              "    <tr>\n",
              "      <th>1</th>\n",
              "      <td>‘Will densify network, want to be at least no....</td>\n",
              "      <td>'In terms of market share, we aim to double it...</td>\n",
              "      <td>The merger of Tata group’s budget airlines Air...</td>\n",
              "      <td>https://indianexpress.com/article/business/avi...</td>\n",
              "      <td>business</td>\n",
              "    </tr>\n",
              "    <tr>\n",
              "      <th>2</th>\n",
              "      <td>Air India group to induct an aircraft every si...</td>\n",
              "      <td>Air India currently has 117 operational aircra...</td>\n",
              "      <td>The Air India group plans to induct one aircra...</td>\n",
              "      <td>https://indianexpress.com/article/business/avi...</td>\n",
              "      <td>business</td>\n",
              "    </tr>\n",
              "    <tr>\n",
              "      <th>3</th>\n",
              "      <td>Red Sea woes: Exporters seek increased credit ...</td>\n",
              "      <td>Rising attacks forced shippers to consider the...</td>\n",
              "      <td>Indian exporters have asked the central govern...</td>\n",
              "      <td>https://indianexpress.com/article/business/red...</td>\n",
              "      <td>business</td>\n",
              "    </tr>\n",
              "    <tr>\n",
              "      <th>4</th>\n",
              "      <td>Air India group to induct a plane every 6 days...</td>\n",
              "      <td>Apart from fleet expansion, 2024 will also see...</td>\n",
              "      <td>The Air India group plans to induct one aircra...</td>\n",
              "      <td>https://indianexpress.com/article/business/avi...</td>\n",
              "      <td>business</td>\n",
              "    </tr>\n",
              "  </tbody>\n",
              "</table>\n",
              "</div>\n",
              "    <div class=\"colab-df-buttons\">\n",
              "\n",
              "  <div class=\"colab-df-container\">\n",
              "    <button class=\"colab-df-convert\" onclick=\"convertToInteractive('df-ad1ead86-b793-4df8-8c0c-ecfd94ae6760')\"\n",
              "            title=\"Convert this dataframe to an interactive table.\"\n",
              "            style=\"display:none;\">\n",
              "\n",
              "  <svg xmlns=\"http://www.w3.org/2000/svg\" height=\"24px\" viewBox=\"0 -960 960 960\">\n",
              "    <path d=\"M120-120v-720h720v720H120Zm60-500h600v-160H180v160Zm220 220h160v-160H400v160Zm0 220h160v-160H400v160ZM180-400h160v-160H180v160Zm440 0h160v-160H620v160ZM180-180h160v-160H180v160Zm440 0h160v-160H620v160Z\"/>\n",
              "  </svg>\n",
              "    </button>\n",
              "\n",
              "  <style>\n",
              "    .colab-df-container {\n",
              "      display:flex;\n",
              "      gap: 12px;\n",
              "    }\n",
              "\n",
              "    .colab-df-convert {\n",
              "      background-color: #E8F0FE;\n",
              "      border: none;\n",
              "      border-radius: 50%;\n",
              "      cursor: pointer;\n",
              "      display: none;\n",
              "      fill: #1967D2;\n",
              "      height: 32px;\n",
              "      padding: 0 0 0 0;\n",
              "      width: 32px;\n",
              "    }\n",
              "\n",
              "    .colab-df-convert:hover {\n",
              "      background-color: #E2EBFA;\n",
              "      box-shadow: 0px 1px 2px rgba(60, 64, 67, 0.3), 0px 1px 3px 1px rgba(60, 64, 67, 0.15);\n",
              "      fill: #174EA6;\n",
              "    }\n",
              "\n",
              "    .colab-df-buttons div {\n",
              "      margin-bottom: 4px;\n",
              "    }\n",
              "\n",
              "    [theme=dark] .colab-df-convert {\n",
              "      background-color: #3B4455;\n",
              "      fill: #D2E3FC;\n",
              "    }\n",
              "\n",
              "    [theme=dark] .colab-df-convert:hover {\n",
              "      background-color: #434B5C;\n",
              "      box-shadow: 0px 1px 3px 1px rgba(0, 0, 0, 0.15);\n",
              "      filter: drop-shadow(0px 1px 2px rgba(0, 0, 0, 0.3));\n",
              "      fill: #FFFFFF;\n",
              "    }\n",
              "  </style>\n",
              "\n",
              "    <script>\n",
              "      const buttonEl =\n",
              "        document.querySelector('#df-ad1ead86-b793-4df8-8c0c-ecfd94ae6760 button.colab-df-convert');\n",
              "      buttonEl.style.display =\n",
              "        google.colab.kernel.accessAllowed ? 'block' : 'none';\n",
              "\n",
              "      async function convertToInteractive(key) {\n",
              "        const element = document.querySelector('#df-ad1ead86-b793-4df8-8c0c-ecfd94ae6760');\n",
              "        const dataTable =\n",
              "          await google.colab.kernel.invokeFunction('convertToInteractive',\n",
              "                                                    [key], {});\n",
              "        if (!dataTable) return;\n",
              "\n",
              "        const docLinkHtml = 'Like what you see? Visit the ' +\n",
              "          '<a target=\"_blank\" href=https://colab.research.google.com/notebooks/data_table.ipynb>data table notebook</a>'\n",
              "          + ' to learn more about interactive tables.';\n",
              "        element.innerHTML = '';\n",
              "        dataTable['output_type'] = 'display_data';\n",
              "        await google.colab.output.renderOutput(dataTable, element);\n",
              "        const docLink = document.createElement('div');\n",
              "        docLink.innerHTML = docLinkHtml;\n",
              "        element.appendChild(docLink);\n",
              "      }\n",
              "    </script>\n",
              "  </div>\n",
              "\n",
              "\n",
              "<div id=\"df-9da8c84e-89e0-49b9-a2e9-6daed990ecd6\">\n",
              "  <button class=\"colab-df-quickchart\" onclick=\"quickchart('df-9da8c84e-89e0-49b9-a2e9-6daed990ecd6')\"\n",
              "            title=\"Suggest charts\"\n",
              "            style=\"display:none;\">\n",
              "\n",
              "<svg xmlns=\"http://www.w3.org/2000/svg\" height=\"24px\"viewBox=\"0 0 24 24\"\n",
              "     width=\"24px\">\n",
              "    <g>\n",
              "        <path d=\"M19 3H5c-1.1 0-2 .9-2 2v14c0 1.1.9 2 2 2h14c1.1 0 2-.9 2-2V5c0-1.1-.9-2-2-2zM9 17H7v-7h2v7zm4 0h-2V7h2v10zm4 0h-2v-4h2v4z\"/>\n",
              "    </g>\n",
              "</svg>\n",
              "  </button>\n",
              "\n",
              "<style>\n",
              "  .colab-df-quickchart {\n",
              "      --bg-color: #E8F0FE;\n",
              "      --fill-color: #1967D2;\n",
              "      --hover-bg-color: #E2EBFA;\n",
              "      --hover-fill-color: #174EA6;\n",
              "      --disabled-fill-color: #AAA;\n",
              "      --disabled-bg-color: #DDD;\n",
              "  }\n",
              "\n",
              "  [theme=dark] .colab-df-quickchart {\n",
              "      --bg-color: #3B4455;\n",
              "      --fill-color: #D2E3FC;\n",
              "      --hover-bg-color: #434B5C;\n",
              "      --hover-fill-color: #FFFFFF;\n",
              "      --disabled-bg-color: #3B4455;\n",
              "      --disabled-fill-color: #666;\n",
              "  }\n",
              "\n",
              "  .colab-df-quickchart {\n",
              "    background-color: var(--bg-color);\n",
              "    border: none;\n",
              "    border-radius: 50%;\n",
              "    cursor: pointer;\n",
              "    display: none;\n",
              "    fill: var(--fill-color);\n",
              "    height: 32px;\n",
              "    padding: 0;\n",
              "    width: 32px;\n",
              "  }\n",
              "\n",
              "  .colab-df-quickchart:hover {\n",
              "    background-color: var(--hover-bg-color);\n",
              "    box-shadow: 0 1px 2px rgba(60, 64, 67, 0.3), 0 1px 3px 1px rgba(60, 64, 67, 0.15);\n",
              "    fill: var(--button-hover-fill-color);\n",
              "  }\n",
              "\n",
              "  .colab-df-quickchart-complete:disabled,\n",
              "  .colab-df-quickchart-complete:disabled:hover {\n",
              "    background-color: var(--disabled-bg-color);\n",
              "    fill: var(--disabled-fill-color);\n",
              "    box-shadow: none;\n",
              "  }\n",
              "\n",
              "  .colab-df-spinner {\n",
              "    border: 2px solid var(--fill-color);\n",
              "    border-color: transparent;\n",
              "    border-bottom-color: var(--fill-color);\n",
              "    animation:\n",
              "      spin 1s steps(1) infinite;\n",
              "  }\n",
              "\n",
              "  @keyframes spin {\n",
              "    0% {\n",
              "      border-color: transparent;\n",
              "      border-bottom-color: var(--fill-color);\n",
              "      border-left-color: var(--fill-color);\n",
              "    }\n",
              "    20% {\n",
              "      border-color: transparent;\n",
              "      border-left-color: var(--fill-color);\n",
              "      border-top-color: var(--fill-color);\n",
              "    }\n",
              "    30% {\n",
              "      border-color: transparent;\n",
              "      border-left-color: var(--fill-color);\n",
              "      border-top-color: var(--fill-color);\n",
              "      border-right-color: var(--fill-color);\n",
              "    }\n",
              "    40% {\n",
              "      border-color: transparent;\n",
              "      border-right-color: var(--fill-color);\n",
              "      border-top-color: var(--fill-color);\n",
              "    }\n",
              "    60% {\n",
              "      border-color: transparent;\n",
              "      border-right-color: var(--fill-color);\n",
              "    }\n",
              "    80% {\n",
              "      border-color: transparent;\n",
              "      border-right-color: var(--fill-color);\n",
              "      border-bottom-color: var(--fill-color);\n",
              "    }\n",
              "    90% {\n",
              "      border-color: transparent;\n",
              "      border-bottom-color: var(--fill-color);\n",
              "    }\n",
              "  }\n",
              "</style>\n",
              "\n",
              "  <script>\n",
              "    async function quickchart(key) {\n",
              "      const quickchartButtonEl =\n",
              "        document.querySelector('#' + key + ' button');\n",
              "      quickchartButtonEl.disabled = true;  // To prevent multiple clicks.\n",
              "      quickchartButtonEl.classList.add('colab-df-spinner');\n",
              "      try {\n",
              "        const charts = await google.colab.kernel.invokeFunction(\n",
              "            'suggestCharts', [key], {});\n",
              "      } catch (error) {\n",
              "        console.error('Error during call to suggestCharts:', error);\n",
              "      }\n",
              "      quickchartButtonEl.classList.remove('colab-df-spinner');\n",
              "      quickchartButtonEl.classList.add('colab-df-quickchart-complete');\n",
              "    }\n",
              "    (() => {\n",
              "      let quickchartButtonEl =\n",
              "        document.querySelector('#df-9da8c84e-89e0-49b9-a2e9-6daed990ecd6 button');\n",
              "      quickchartButtonEl.style.display =\n",
              "        google.colab.kernel.accessAllowed ? 'block' : 'none';\n",
              "    })();\n",
              "  </script>\n",
              "</div>\n",
              "\n",
              "    </div>\n",
              "  </div>\n"
            ],
            "application/vnd.google.colaboratory.intrinsic+json": {
              "type": "dataframe",
              "variable_name": "df",
              "summary": "{\n  \"name\": \"df\",\n  \"rows\": 2000,\n  \"fields\": [\n    {\n      \"column\": \"headlines\",\n      \"properties\": {\n        \"dtype\": \"string\",\n        \"num_unique_values\": 2000,\n        \"samples\": [\n          \"GST Council: 28% tax on online gaming, casinos and horse-racing\",\n          \"High vegetable prices may push up retail inflation in near term: RBI Governor\",\n          \"Sensex rises 213 pts, Nifty advances to 19,440; bank stocks shine, JioFin hits 5% lower circuit\"\n        ],\n        \"semantic_type\": \"\",\n        \"description\": \"\"\n      }\n    },\n    {\n      \"column\": \"description\",\n      \"properties\": {\n        \"dtype\": \"string\",\n        \"num_unique_values\": 1996,\n        \"samples\": [\n          \"The yield on benchmark 10-year government bonds shot up by 12 basis points to 7.34 per cent, the highest level since March 23. The benchmark Sensex rose by 0.55 per cent, or 364 points, to 65,995.63.\",\n          \"Prosus, which this year slashed its valuation of Byju's to $5.1 billion from $22 billion last year, said the decision for its director to step down from Byju's board last month was mainly because he was \\\"unable to fulfil his fiduciary duty to serve the long-term interests of the Company and its stakeholders.\\\"\",\n          \"As per the pricing methodology that these oil marketing companies (OMCs) are supposed to follow, petrol and diesel prices should be revised daily based on the 15-day rolling average of international benchmark prices.\"\n        ],\n        \"semantic_type\": \"\",\n        \"description\": \"\"\n      }\n    },\n    {\n      \"column\": \"content\",\n      \"properties\": {\n        \"dtype\": \"string\",\n        \"num_unique_values\": 2000,\n        \"samples\": [\n          \"Aviation watchdog DGCA has put SpiceJet under \\u201cenhanced surveillance\\u201d amid the budget airline facing multiple financial headwinds in recent months, a senior official said on Tuesday, but the carrier refuted any such development.\\nIt also comes against the backdrop of various lessors seeking repossession of aircraft leased to SpiceJet and some of the cases have been settled by the airline.\\nThe Directorate General of Civil Aviation (DGCA) has put SpiceJet under enhanced surveillance for more than three weeks now and it is an ongoing process, the official told PTI.\\nADVERTISEMENT\\nAccording to the regulatory official, the enhanced surveillance includes increased night surveillance and spot checks.\\nThe focus is to ensure that due to financial issues, there are no potential adverse impact on the flight operations and that there is no \\u201ccutting corners\\u201d on safety, the official said on the condition of anonymity.\\nThe enhanced surveillance is also to check whether safety obligations are being met or not, the official added. When contacted, a SpiceJet spokesperson said, \\u201cthe information is absolutely incorrect and is strongly denied\\u201d.\\nNo such communication has been received by the airline from the DGCA, the spokesperson said in a statement.\\nADVERTISEMENT\\nSpiceJet, which has been facing various headwinds, has settled the issues with certain aircraft lessors.\\nOn June 21, the airline said it has entered into a settlement agreement with Nordic Aviation Capital (NAC), a lessor for its Q400 planes.\",\n          \"Reserve Bank of India Governor Shaktikanta Das Friday said high frequency food price indicators \\u201cpoint to an increase in prices of key vegetables which may push retail inflation higher in the near-term\\u201d.\\n\\u201cThe near-term outlook is masked by risks to food inflation which might lead to an inflation uptick in November and December. This needs to be watched for second round effects, if any,\\u201d Das said.\\nGoing ahead, inflation outlook would be considerably influenced by uncertain food prices, Das said while announcing the monetary policy on Friday. \\u201cThe ongoing rabi sowing progress for key crops like wheat, spices and pulses needs to be closely monitored. Elevated global sugar prices are also a matter of concern,\\u201d he said.\\nADVERTISEMENT\\nThe Monetary Policy Committee has kept the repo rate unchanged at 6.50 per cent.\\nDas said global commodity prices, particularly, agricultural commodity prices, have softened, except for rice. For highly import dependent food items like edible oils, international prices continue to remain soft. Domestic milk prices are also stabilising, said Das. \\u201cPro-active supply side interventions by the government are also containing domestic food price pressures. Crude oil has softened considerably, though it may remain volatile,\\u201d he said.\\nTaking into account these factors and on the assumption of normal monsoons, retail inflation is projected at 5.4 per cent for 2023-24, Das said. It is expected to be at 5.6 per cent in Q3 and 5.2 per cent in Q4. Retail inflation for the first quarter of 2024-25 is projected at 5.2 per cent, Q2 at 4.0 per cent and Q3 at 4.7 per cent.\\n\\u201cWe have made significant progress in bringing down inflation to below 5 per cent in October 2023 despite occasional blips due to intermittent supply shocks. The summer of 2022 is behind us,\\u201d Governor said.\\nADVERTISEMENT\\n\\u201cInflation will start inching up because food inflation is going to increase. We have seen onion and tomato prices going up again. So, there is no case for even thinking of lowering the repo rate. At the same time, core inflation is around 4 per cent, and therefore, there is no reason for the RBI to increase the rate,\\u201d said Madan Sabnavis, chief economist, Bank of Baroda.\\n\\u201cOur policy of prioritising inflation over growth, hiking policy rate by 250 basis points in a calibrated manner and draining out excess liquidity have worked well, alongside supply-side measures taken by the government, to bring about this disinflation,\\u201d Das said.\\n\\u201cThe fact that core inflation has also trended lower and household inflation expectations have become better anchored gives us the confidence and conviction that monetary policy is doing its job. On the other hand, growth remains resilient and robust, surprising everyone on the upside,\\u201d Das said.\\nADVERTISEMENT\\n\\u201cNotwithstanding this progress, the target of 4.0 per cent retail inflation is yet to be reached and we have to stay the course,\\u201d he said. Headline inflation continues to be volatile due to multiple supply side shocks which have become more frequent and intense.\\nRBI said the trajectory of food inflation needs to be closely monitored. Intermittent vegetable price shocks could once again push up headline inflation in November and December. While monetary policy would look-through such one-off shocks, it has to stay alert to the risk of such shocks becoming generalised and derailing the ongoing disinflation process. In the midst of these uncertainties, monetary policy has to remain actively disinflationary to ensure a durable alignment of headline inflation to the target rate of 4.0 per cent, while supporting growth, Das said.\",\n          \"After opening flat, domestic equities jumped higher on Wednesday led by a rally in bank stocks. BSE benchmark Sensex gained 213.27 points, or 0.33 per cent to close at 65,433.30, while broader NSE Nifty50 climbed 43.45 points, or 0.22 per cent to end the session at 19,439.90.\\nShares of Jio Finacial Services Limited hit 5 per cent lower circuit for the third day in a row after the company was listed on exchanges on Monday. The stock closed at Rs 227.25 on BSE. Stock exchanges \\u2014 NSE and BSE \\u2014 on Tuesday deferred the exclusion of JFSL from indices by three more days after the stock hit a lower circuit limit for two sessions straight. They also said they would defer the removal by another three days if the stock continues to break lower circuit for 3 more sessions.\\nShares of Larsen and Toubro hit an all-time high of Rs 2,726 in the intraday session, after the company secured a Rs 2,500-crore contract for setting up a 2.3-MMTPA urea plant for Perdaman Chemicals and Fertilizers Pty in Australia. L&T shares ended 1.40 per cent higher at Rs 2,717.45 on BSE.\\nADVERTISEMENT\\nBroader markets outrun the key indices today, as Nifty Smallcap 50 jumped 1.43 per cent, Nifty Midcap Select climbed 0.77 per cent, Nifty Microcap 250 gained 1.05 per cent, Nifty Smallcap 100 climbed 0.90 per cent, and Nifty Smallcap 250 soared 0.70 per cent. India Vix, on the other hand, slipped 0.51 per cent.\\nSectorally, Nifty PSU Bank gained 1.63 per cent, followed by Nifty PSU Bank at 1.25 per cent, Nifty Bank rose 1.10 per cent, Nifty Financial Services jumped 0.94 per cent, and the media index climbed 0.87 per cent.\\nHindalco, ICICI Bank, Axis Bank, Divis Lab, L&T, SBI, Tata Steel, Maruti Suzuki, Cipla, Nestle India, SBI Life, Kotak Mahindra Bank, Bajaj Auto, Bajaj Finance, Power Grid, and LTI Mindtree were the top gainers in today\\u2019s session.\\nOn the other hand, Adani Enterprises, Jio Financial, Adani Ports, Sun Pharma, Tech Mahindra, Bharti Airtel, Tata Motors, ITC, ONGC, BPCL, Grasim, and Tata Consumers were the top losers.\"\n        ],\n        \"semantic_type\": \"\",\n        \"description\": \"\"\n      }\n    },\n    {\n      \"column\": \"url\",\n      \"properties\": {\n        \"dtype\": \"string\",\n        \"num_unique_values\": 2000,\n        \"samples\": [\n          \"https://indianexpress.com/article/business/aviation/dgca-puts-spicejet-under-enhanced-surveillance-airline-refutes-8826965/\",\n          \"https://indianexpress.com/article/business/high-vegetable-prices-may-push-up-retail-inflation-in-near-term-rbi-governor-9060481/\",\n          \"https://indianexpress.com/article/business/market/stock-market-today-sensex-nifty-jio-financial-services-stock-8904921/\"\n        ],\n        \"semantic_type\": \"\",\n        \"description\": \"\"\n      }\n    },\n    {\n      \"column\": \"category\",\n      \"properties\": {\n        \"dtype\": \"category\",\n        \"num_unique_values\": 1,\n        \"samples\": [\n          \"business\"\n        ],\n        \"semantic_type\": \"\",\n        \"description\": \"\"\n      }\n    }\n  ]\n}"
            }
          },
          "metadata": {},
          "execution_count": 4
        }
      ]
    },
    {
      "cell_type": "code",
      "source": [
        "print(df['headlines'][1])"
      ],
      "metadata": {
        "colab": {
          "base_uri": "https://localhost:8080/"
        },
        "id": "TCoRdIu2zHFE",
        "outputId": "38d2902f-729c-474a-ffdc-a6cdd4c07cb3"
      },
      "execution_count": null,
      "outputs": [
        {
          "output_type": "stream",
          "name": "stdout",
          "text": [
            "‘Will densify network, want to be at least no. 2 in any city pair’: Air India Express MD\n"
          ]
        }
      ]
    },
    {
      "cell_type": "code",
      "source": [
        "print(df[\"description\"][1])"
      ],
      "metadata": {
        "colab": {
          "base_uri": "https://localhost:8080/"
        },
        "id": "2A_kII3Xypma",
        "outputId": "743b3c26-c610-4152-a41d-b3c9487fd639"
      },
      "execution_count": null,
      "outputs": [
        {
          "output_type": "stream",
          "name": "stdout",
          "text": [
            "'In terms of market share, we aim to double it by 2028 in both segments—15 per cent in the domestic and 20 per cent in short-haul international,' says AI Express’s Managing Director Aloke Singh\n"
          ]
        }
      ]
    },
    {
      "cell_type": "code",
      "source": [
        "print(df['content'][1])"
      ],
      "metadata": {
        "colab": {
          "base_uri": "https://localhost:8080/"
        },
        "id": "5AZlY79NxlBO",
        "outputId": "ddec410b-20de-4035-b2d4-9853c098f45e"
      },
      "execution_count": null,
      "outputs": [
        {
          "output_type": "stream",
          "name": "stdout",
          "text": [
            "The merger of Tata group’s budget airlines Air India Express (AI Express) and AIX Connect (formerly AirAsia India) into one carrier — AI Express — is on track for completion in the next three to four months, even as operational integration of the two is nearly complete. According to AI Express’s Managing Director Aloke Singh, the airline in its brand-new avatar aspires to double its market share by 2028, more than triple its fleet size to 180 aircraft, and build a dense network focussed on tier-two and tier-three cities, all while working in synergy with parent Air India to realise the group’s vision of emerging as a formidable player in India and beyond.\n",
            "In an interaction with SUKALP SHARMA, Singh gives a lowdown of AI Express’s vision and strategy to chart ambitious growth in the coming years. Edited Excerpts:\n",
            "How is the integration of AI Express and AIX Connect coming along?\n",
            "The past year has been all about the integration, which involves integrating systems, processes, platforms, people, brand, networks and fleets. We have tweaked the combined network to facilitate flows between the two networks. That integration is now moving into a merger, which we hope to complete in three to four months. Simultaneously, a massive growth agenda has kicked in. We are now inducting aircraft at a rate of three-and-a-half per month, and it will continue for a while.\n",
            "ADVERTISEMENT\n",
            "With steady supply of new aircraft, what shape will your network take?\n",
            "The new capacity will help us grow significantly. This growth will come from our existing markets as well as some new ones. In our existing markets, we will densify the network and plug gaps that we could not address earlier due to capacity constraints. The broad network strategy is that we will first consolidate our presence and become stronger wherever we already operate. We want to be at least the number two player in any city pair. We don’t want to open too many new stations together. We want to open one station, deploy capacity there to increase connectivity, and spread out from there. As we become firm in a market, it will also help us in rationalising costs.\n",
            "AI Express was almost exclusively a short-haul international carrier while AIX Connect was a domestic airline. Should we expect the combined entity to be more focussed on the domestic market?\n",
            "If you put the two networks together, we roughly have 50 per cent capacity each on domestic and international. This will remain so for the next year or two. The domestic portion will then grow to some extent. We will probably end up with about 60 per cent domestic and 40 per cent international. The domestic market is much bigger and our capacity deployment will reflect that.\n",
            "In terms of market share, we aim to double it by 2028 in both segments—15 per cent in the domestic and 20 per cent in short-haul international.\n",
            "What is the status of network optimisation at the group level between the full-service carrier (Air India) and the budget carrier (AI Express)?\n",
            "It has started and will be a continuous process as the nature of markets is dynamic. Route rationalisation at the group level has begun. Different operational models suit different markets. If we see that a market is better served in financial terms by the low-cost model, then we will deploy the relevant product. There will be markets where operating premium products will offer an upside, so the full-service product will be offered there. In markets and segments that are big and deep enough, we would look at straddling both product offerings.\n",
            "ADVERTISEMENT\n",
            " The market sees IndiGo, which has a domestic market share of over 60 per cent, as your biggest competitor. How do you look at that challenge?\n",
            "The market is big enough and deep enough, and has space for a number of players. The broad thrust of our network strategy will be a lot more focus on tier-two and tier-three cities. We will also focus on international operations from tier-two cities, because that is a space we understand very well. We will not be concentrating our capacity on large cities. Of course, there will be some capacity deployed there, but a large part will be for tier-two, tier-three cities.\n",
            "So, you are looking at a point-to-point network instead of hub-and-spoke?\n",
            "Yes, it will not be focussed on a large hub. However, our network will have a number a focus cities, probably 10, where we will also transfer passengers. Like, Kochi may not be a hub per se, but it has significant potential for domestic-to-domestic, international-to-domestic, and even international-to-international transfers. Similarly, we are connecting Bangalore, where we have a dense network, to our points in Kerala. For example, we can offer travel from Ayodhya to Kochi via Bangalore, or a Lucknow-Bangalore-Trivandrum connection.\n",
            "Air India Express operated Boeing 737s while AIX Connect had Airbus A320s. Do you now plan to operate both or retire the A320s?\n",
            "We will have a mixed fleet. You have to look at the fleet from the group perspective. The fleet will be fungible. We want that flexibility. Having a mixed fleet may have some sub-optimality, but with scale, fleet commonality benefits diminish. If you have 200 or 300 or 400 aircraft, due to the large scale of operations, a mixed fleet is not too different from a single-type fleet.\n",
            "ADVERTISEMENT\n",
            "Our plan is to have a fleet size of about 180 aircraft by 2028. We have a legacy fleet of 26 737NGs (737 Next Generation), of which 10 are leased, and 28 A320s, all of which are leased. The leased aircraft will start going back to lessors starting this year.\n",
            "The Air India group’s 470-aircraft order includes 190 Boeing 737 MAX planes. Are all of those going to come to Air India Express?\n",
            "So far, we have not taken that call at the group level. The aircraft deliveries will stretch over years. Some of the Airbus A320s and A321s (also part of the order) may even come our (Air India Express) way. Aircraft type within the group will remain fungible given the long delivery schedule and the decisions will be based on synergies within the group like aircraft engineering and maintenance. But certainly, Air India Express will operate under an all-economy model.\n",
            "Considering Air India Express has mostly been a short-haul international carrier and given the growth trajectory you are eyeing, are you looking to get into wide-body operations as well?\n",
            "No, we have no such plans at present. We first want to grow and scale up with our current model (low-cost domestic and short-haul international operations), before thinking about anything else.\n",
            "By when can we see your legacy fleet in the new Air India Express branding?\n",
            "We are not going to change the livery on the legacy fleet. One reason is that many of those aircraft will be going back to lessors once the leases expire. Secondly, we want to prioritise the new aircraft, as the painting capacity in the MROs (maintenance, repair, and overhaul units) is limited. We want to paint the new aircraft first and then take a call on the older ones. In any airline’s livery change programme, it takes years for 100 per cent of the aircraft to get rebranded.\n",
            "Given your thrust on tier-two and tier-three cities, will we see Air India Express applying for routes under the regional connectivity scheme UDAN (Ude Desh ka Aam Naagrik)?\n",
            "Certainly, we could look at it, if it fits into our route strategy. We would be really interested in international UDAN, but there could be some domestic routes also that could make sense for us.\n"
          ]
        }
      ]
    },
    {
      "cell_type": "code",
      "source": [
        "df1=pd.read_csv('/content/newsdata/entertainment_data.csv')\n",
        "df2=pd.read_csv('/content/newsdata/business_data.csv')\n",
        "df3=pd.read_csv('/content/newsdata/education_data.csv')\n",
        "df4=pd.read_csv('/content/newsdata/sports_data.csv')\n",
        "df5=pd.read_csv('/content/newsdata/technology_data.csv')"
      ],
      "metadata": {
        "id": "Tku7cjay0v7M"
      },
      "execution_count": null,
      "outputs": []
    },
    {
      "cell_type": "code",
      "source": [
        "dfs=[df1,df2,df3,df4,df5]\n",
        "df = pd.concat(dfs)"
      ],
      "metadata": {
        "id": "XKJJufOu0wat"
      },
      "execution_count": null,
      "outputs": []
    },
    {
      "cell_type": "code",
      "source": [
        "from sklearn.utils import shuffle\n",
        "df = shuffle(df)"
      ],
      "metadata": {
        "id": "bHP7z1Jm1TMS"
      },
      "execution_count": null,
      "outputs": []
    },
    {
      "cell_type": "code",
      "source": [
        "df.head()"
      ],
      "metadata": {
        "colab": {
          "base_uri": "https://localhost:8080/",
          "height": 292
        },
        "id": "DtH0Zovl1XS6",
        "outputId": "9c399cb8-be26-44b5-8f0e-f88dcae9c599"
      },
      "execution_count": null,
      "outputs": [
        {
          "output_type": "execute_result",
          "data": {
            "text/plain": [
              "                                              headlines  \\\n",
              "1873  Mohammed Shami: Can’t doubt this Indian team a...   \n",
              "432   Bihar Board 2024 Inter exams to begin on Febru...   \n",
              "1707         India mulls green power trade with SE Asia   \n",
              "1700  ‘Thank you for being such an inspiration’: Aza...   \n",
              "1430  Dilip Kumar was a ‘chatora’, Shabana Azmi reca...   \n",
              "\n",
              "                                            description  \\\n",
              "1873  Speaking on how sure the Indian team was on it...   \n",
              "432   BSEB Bihar Board Exam Date 2024: The datesheet...   \n",
              "1707  On a consolidated net box office basis, the tw...   \n",
              "1700  Sania Mirza became the first Indian woman to b...   \n",
              "1430  Dilip Kumar loved his spicy delicacies but his...   \n",
              "\n",
              "                                                content  \\\n",
              "1873  India’s player of the match against New Zealan...   \n",
              "432   Bihar Board 10th, 12th Exam Date 2024: The Bih...   \n",
              "1707  One movie is bursting with life-size doll hous...   \n",
              "1700  India’s Sania Mirza bid farewell to her grand ...   \n",
              "1430  Dilip Kumar is remembered as one of the most a...   \n",
              "\n",
              "                                                    url       category  \n",
              "1873  https://indianexpress.com/article/sports/crick...         sports  \n",
              "432   https://indianexpress.com/article/education/bs...      education  \n",
              "1707  https://indianexpress.com/article/business/mul...       business  \n",
              "1700  https://indianexpress.com/article/sports/tenni...         sports  \n",
              "1430  https://indianexpress.com/article/entertainmen...  entertainment  "
            ],
            "text/html": [
              "\n",
              "  <div id=\"df-10f4f5fb-9fcd-4a85-8436-a29f282a940d\" class=\"colab-df-container\">\n",
              "    <div>\n",
              "<style scoped>\n",
              "    .dataframe tbody tr th:only-of-type {\n",
              "        vertical-align: middle;\n",
              "    }\n",
              "\n",
              "    .dataframe tbody tr th {\n",
              "        vertical-align: top;\n",
              "    }\n",
              "\n",
              "    .dataframe thead th {\n",
              "        text-align: right;\n",
              "    }\n",
              "</style>\n",
              "<table border=\"1\" class=\"dataframe\">\n",
              "  <thead>\n",
              "    <tr style=\"text-align: right;\">\n",
              "      <th></th>\n",
              "      <th>headlines</th>\n",
              "      <th>description</th>\n",
              "      <th>content</th>\n",
              "      <th>url</th>\n",
              "      <th>category</th>\n",
              "    </tr>\n",
              "  </thead>\n",
              "  <tbody>\n",
              "    <tr>\n",
              "      <th>1873</th>\n",
              "      <td>Mohammed Shami: Can’t doubt this Indian team a...</td>\n",
              "      <td>Speaking on how sure the Indian team was on it...</td>\n",
              "      <td>India’s player of the match against New Zealan...</td>\n",
              "      <td>https://indianexpress.com/article/sports/crick...</td>\n",
              "      <td>sports</td>\n",
              "    </tr>\n",
              "    <tr>\n",
              "      <th>432</th>\n",
              "      <td>Bihar Board 2024 Inter exams to begin on Febru...</td>\n",
              "      <td>BSEB Bihar Board Exam Date 2024: The datesheet...</td>\n",
              "      <td>Bihar Board 10th, 12th Exam Date 2024: The Bih...</td>\n",
              "      <td>https://indianexpress.com/article/education/bs...</td>\n",
              "      <td>education</td>\n",
              "    </tr>\n",
              "    <tr>\n",
              "      <th>1707</th>\n",
              "      <td>India mulls green power trade with SE Asia</td>\n",
              "      <td>On a consolidated net box office basis, the tw...</td>\n",
              "      <td>One movie is bursting with life-size doll hous...</td>\n",
              "      <td>https://indianexpress.com/article/business/mul...</td>\n",
              "      <td>business</td>\n",
              "    </tr>\n",
              "    <tr>\n",
              "      <th>1700</th>\n",
              "      <td>‘Thank you for being such an inspiration’: Aza...</td>\n",
              "      <td>Sania Mirza became the first Indian woman to b...</td>\n",
              "      <td>India’s Sania Mirza bid farewell to her grand ...</td>\n",
              "      <td>https://indianexpress.com/article/sports/tenni...</td>\n",
              "      <td>sports</td>\n",
              "    </tr>\n",
              "    <tr>\n",
              "      <th>1430</th>\n",
              "      <td>Dilip Kumar was a ‘chatora’, Shabana Azmi reca...</td>\n",
              "      <td>Dilip Kumar loved his spicy delicacies but his...</td>\n",
              "      <td>Dilip Kumar is remembered as one of the most a...</td>\n",
              "      <td>https://indianexpress.com/article/entertainmen...</td>\n",
              "      <td>entertainment</td>\n",
              "    </tr>\n",
              "  </tbody>\n",
              "</table>\n",
              "</div>\n",
              "    <div class=\"colab-df-buttons\">\n",
              "\n",
              "  <div class=\"colab-df-container\">\n",
              "    <button class=\"colab-df-convert\" onclick=\"convertToInteractive('df-10f4f5fb-9fcd-4a85-8436-a29f282a940d')\"\n",
              "            title=\"Convert this dataframe to an interactive table.\"\n",
              "            style=\"display:none;\">\n",
              "\n",
              "  <svg xmlns=\"http://www.w3.org/2000/svg\" height=\"24px\" viewBox=\"0 -960 960 960\">\n",
              "    <path d=\"M120-120v-720h720v720H120Zm60-500h600v-160H180v160Zm220 220h160v-160H400v160Zm0 220h160v-160H400v160ZM180-400h160v-160H180v160Zm440 0h160v-160H620v160ZM180-180h160v-160H180v160Zm440 0h160v-160H620v160Z\"/>\n",
              "  </svg>\n",
              "    </button>\n",
              "\n",
              "  <style>\n",
              "    .colab-df-container {\n",
              "      display:flex;\n",
              "      gap: 12px;\n",
              "    }\n",
              "\n",
              "    .colab-df-convert {\n",
              "      background-color: #E8F0FE;\n",
              "      border: none;\n",
              "      border-radius: 50%;\n",
              "      cursor: pointer;\n",
              "      display: none;\n",
              "      fill: #1967D2;\n",
              "      height: 32px;\n",
              "      padding: 0 0 0 0;\n",
              "      width: 32px;\n",
              "    }\n",
              "\n",
              "    .colab-df-convert:hover {\n",
              "      background-color: #E2EBFA;\n",
              "      box-shadow: 0px 1px 2px rgba(60, 64, 67, 0.3), 0px 1px 3px 1px rgba(60, 64, 67, 0.15);\n",
              "      fill: #174EA6;\n",
              "    }\n",
              "\n",
              "    .colab-df-buttons div {\n",
              "      margin-bottom: 4px;\n",
              "    }\n",
              "\n",
              "    [theme=dark] .colab-df-convert {\n",
              "      background-color: #3B4455;\n",
              "      fill: #D2E3FC;\n",
              "    }\n",
              "\n",
              "    [theme=dark] .colab-df-convert:hover {\n",
              "      background-color: #434B5C;\n",
              "      box-shadow: 0px 1px 3px 1px rgba(0, 0, 0, 0.15);\n",
              "      filter: drop-shadow(0px 1px 2px rgba(0, 0, 0, 0.3));\n",
              "      fill: #FFFFFF;\n",
              "    }\n",
              "  </style>\n",
              "\n",
              "    <script>\n",
              "      const buttonEl =\n",
              "        document.querySelector('#df-10f4f5fb-9fcd-4a85-8436-a29f282a940d button.colab-df-convert');\n",
              "      buttonEl.style.display =\n",
              "        google.colab.kernel.accessAllowed ? 'block' : 'none';\n",
              "\n",
              "      async function convertToInteractive(key) {\n",
              "        const element = document.querySelector('#df-10f4f5fb-9fcd-4a85-8436-a29f282a940d');\n",
              "        const dataTable =\n",
              "          await google.colab.kernel.invokeFunction('convertToInteractive',\n",
              "                                                    [key], {});\n",
              "        if (!dataTable) return;\n",
              "\n",
              "        const docLinkHtml = 'Like what you see? Visit the ' +\n",
              "          '<a target=\"_blank\" href=https://colab.research.google.com/notebooks/data_table.ipynb>data table notebook</a>'\n",
              "          + ' to learn more about interactive tables.';\n",
              "        element.innerHTML = '';\n",
              "        dataTable['output_type'] = 'display_data';\n",
              "        await google.colab.output.renderOutput(dataTable, element);\n",
              "        const docLink = document.createElement('div');\n",
              "        docLink.innerHTML = docLinkHtml;\n",
              "        element.appendChild(docLink);\n",
              "      }\n",
              "    </script>\n",
              "  </div>\n",
              "\n",
              "\n",
              "<div id=\"df-c2302ae3-7206-4683-95be-78cfe3b688c5\">\n",
              "  <button class=\"colab-df-quickchart\" onclick=\"quickchart('df-c2302ae3-7206-4683-95be-78cfe3b688c5')\"\n",
              "            title=\"Suggest charts\"\n",
              "            style=\"display:none;\">\n",
              "\n",
              "<svg xmlns=\"http://www.w3.org/2000/svg\" height=\"24px\"viewBox=\"0 0 24 24\"\n",
              "     width=\"24px\">\n",
              "    <g>\n",
              "        <path d=\"M19 3H5c-1.1 0-2 .9-2 2v14c0 1.1.9 2 2 2h14c1.1 0 2-.9 2-2V5c0-1.1-.9-2-2-2zM9 17H7v-7h2v7zm4 0h-2V7h2v10zm4 0h-2v-4h2v4z\"/>\n",
              "    </g>\n",
              "</svg>\n",
              "  </button>\n",
              "\n",
              "<style>\n",
              "  .colab-df-quickchart {\n",
              "      --bg-color: #E8F0FE;\n",
              "      --fill-color: #1967D2;\n",
              "      --hover-bg-color: #E2EBFA;\n",
              "      --hover-fill-color: #174EA6;\n",
              "      --disabled-fill-color: #AAA;\n",
              "      --disabled-bg-color: #DDD;\n",
              "  }\n",
              "\n",
              "  [theme=dark] .colab-df-quickchart {\n",
              "      --bg-color: #3B4455;\n",
              "      --fill-color: #D2E3FC;\n",
              "      --hover-bg-color: #434B5C;\n",
              "      --hover-fill-color: #FFFFFF;\n",
              "      --disabled-bg-color: #3B4455;\n",
              "      --disabled-fill-color: #666;\n",
              "  }\n",
              "\n",
              "  .colab-df-quickchart {\n",
              "    background-color: var(--bg-color);\n",
              "    border: none;\n",
              "    border-radius: 50%;\n",
              "    cursor: pointer;\n",
              "    display: none;\n",
              "    fill: var(--fill-color);\n",
              "    height: 32px;\n",
              "    padding: 0;\n",
              "    width: 32px;\n",
              "  }\n",
              "\n",
              "  .colab-df-quickchart:hover {\n",
              "    background-color: var(--hover-bg-color);\n",
              "    box-shadow: 0 1px 2px rgba(60, 64, 67, 0.3), 0 1px 3px 1px rgba(60, 64, 67, 0.15);\n",
              "    fill: var(--button-hover-fill-color);\n",
              "  }\n",
              "\n",
              "  .colab-df-quickchart-complete:disabled,\n",
              "  .colab-df-quickchart-complete:disabled:hover {\n",
              "    background-color: var(--disabled-bg-color);\n",
              "    fill: var(--disabled-fill-color);\n",
              "    box-shadow: none;\n",
              "  }\n",
              "\n",
              "  .colab-df-spinner {\n",
              "    border: 2px solid var(--fill-color);\n",
              "    border-color: transparent;\n",
              "    border-bottom-color: var(--fill-color);\n",
              "    animation:\n",
              "      spin 1s steps(1) infinite;\n",
              "  }\n",
              "\n",
              "  @keyframes spin {\n",
              "    0% {\n",
              "      border-color: transparent;\n",
              "      border-bottom-color: var(--fill-color);\n",
              "      border-left-color: var(--fill-color);\n",
              "    }\n",
              "    20% {\n",
              "      border-color: transparent;\n",
              "      border-left-color: var(--fill-color);\n",
              "      border-top-color: var(--fill-color);\n",
              "    }\n",
              "    30% {\n",
              "      border-color: transparent;\n",
              "      border-left-color: var(--fill-color);\n",
              "      border-top-color: var(--fill-color);\n",
              "      border-right-color: var(--fill-color);\n",
              "    }\n",
              "    40% {\n",
              "      border-color: transparent;\n",
              "      border-right-color: var(--fill-color);\n",
              "      border-top-color: var(--fill-color);\n",
              "    }\n",
              "    60% {\n",
              "      border-color: transparent;\n",
              "      border-right-color: var(--fill-color);\n",
              "    }\n",
              "    80% {\n",
              "      border-color: transparent;\n",
              "      border-right-color: var(--fill-color);\n",
              "      border-bottom-color: var(--fill-color);\n",
              "    }\n",
              "    90% {\n",
              "      border-color: transparent;\n",
              "      border-bottom-color: var(--fill-color);\n",
              "    }\n",
              "  }\n",
              "</style>\n",
              "\n",
              "  <script>\n",
              "    async function quickchart(key) {\n",
              "      const quickchartButtonEl =\n",
              "        document.querySelector('#' + key + ' button');\n",
              "      quickchartButtonEl.disabled = true;  // To prevent multiple clicks.\n",
              "      quickchartButtonEl.classList.add('colab-df-spinner');\n",
              "      try {\n",
              "        const charts = await google.colab.kernel.invokeFunction(\n",
              "            'suggestCharts', [key], {});\n",
              "      } catch (error) {\n",
              "        console.error('Error during call to suggestCharts:', error);\n",
              "      }\n",
              "      quickchartButtonEl.classList.remove('colab-df-spinner');\n",
              "      quickchartButtonEl.classList.add('colab-df-quickchart-complete');\n",
              "    }\n",
              "    (() => {\n",
              "      let quickchartButtonEl =\n",
              "        document.querySelector('#df-c2302ae3-7206-4683-95be-78cfe3b688c5 button');\n",
              "      quickchartButtonEl.style.display =\n",
              "        google.colab.kernel.accessAllowed ? 'block' : 'none';\n",
              "    })();\n",
              "  </script>\n",
              "</div>\n",
              "\n",
              "    </div>\n",
              "  </div>\n"
            ],
            "application/vnd.google.colaboratory.intrinsic+json": {
              "type": "dataframe",
              "variable_name": "df",
              "summary": "{\n  \"name\": \"df\",\n  \"rows\": 10000,\n  \"fields\": [\n    {\n      \"column\": \"headlines\",\n      \"properties\": {\n        \"dtype\": \"string\",\n        \"num_unique_values\": 9987,\n        \"samples\": [\n          \"With improved serve and mental resolve, Aryna Sabalenka wins maiden Grand Slam title at Australian Open\",\n          \"Sony launches PlayStation VR2 headset in India, and it\\u2019s not cheap\",\n          \"14 Banaras Hindu University scholars get Prime Minister\\u2019s Research Fellowship\"\n        ],\n        \"semantic_type\": \"\",\n        \"description\": \"\"\n      }\n    },\n    {\n      \"column\": \"description\",\n      \"properties\": {\n        \"dtype\": \"string\",\n        \"num_unique_values\": 9978,\n        \"samples\": [\n          \"Tata Motors posted a profit of Rs 3,783 crore for the quarter ended September 2023 as against a loss of Rs 1,004 crore in the same period a year ago.\",\n          \"Among major markets, the UK led with 16.1 per cent growth, whereas segments such as life sciences and healthcare witnessed 10.1 per cent growth, and manufacturing saw 9.4 per cent rise, TCS said.\",\n          \"The figure could soar on Tuesday, the deadline day, as several clubs are frantically negotiating with players\\u2019 agents before the shutters roll on the window.\"\n        ],\n        \"semantic_type\": \"\",\n        \"description\": \"\"\n      }\n    },\n    {\n      \"column\": \"content\",\n      \"properties\": {\n        \"dtype\": \"string\",\n        \"num_unique_values\": 9991,\n        \"samples\": [\n          \"Aviation safety regulator Directorate General of Civil Aviation (DGCA) on Saturday directed Akasa Air, Air India Express, and SpiceJet to conduct a \\u201cone-time inspection\\u201d of emergency exits on all Boeing 737 MAX-8 aircraft in their fleet by Sunday noon as an \\u201cabundant precautionary measure\\u201d following an incident involving an Alaska Airlines 737 MAX-9 in the United States (US). At present, over 40 Boeing 737 MAX-8 planes are in operation across these three carriers in India, while there are no 737 MAX-9 aircraft in the fleet of any Indian airline.\\nRead Also | Alaska Airlines flight scare: DGCA asks Indian carriers to check emergency exits of Boeing 737-8 Max planes\\n\\u201cPursuant to the Alaska Airlines incident involving Boeing 737-9 MAX aircraft, there have been no inputs/guidance from Boeing so far. None of the Indian air operators have Boeing 737-9 MAX as part of their fleet yet. However, as an abundant precautionary measure, DGCA has directed all the Indian air operators to carry out a one-time inspection of the emergency exits immediately on all Boeing 737-8 MAX aircraft currently operating as part of their fleet,\\u201d a top DGCA official said. The DGCA asked for the inspections to be held during the aircraft\\u2019s night halts so that flight schedules are not affected.\\nThe carriers said that they are in touch with Boeing to get more information on the Alaska Airlines incident. They said that they will comply with the DGCA\\u2019s directive on the one-time inspection of emergency exits.\\nADVERTISEMENT\\nOn Friday, an Alaska Airlines 737 MAX-9 plane operating a flight between Portland and Ontario (in California) made an emergency landing soon after take-off after a mid-air window blowout that led to a section of the fuselage also breaking away, causing decompression in the cabin. All the 171 passengers and six crew on board the aircraft returned safely. Following the incident, Alaska Airlines has temporarily grounded all of its 737 MAX-9 planes.\\n\\ud83d\\udea8#BREAKING: Alaska Airlines Forced to Make an Emergency Landing After Large Aircraft Window Blows Out Mid-Air \\u2070\\u2070\\ud83d\\udccc#Portland | #Oregon\\n\\u2070A Forced emergency landing was made of Alaska Airlines Flight 1282 at Portland International Airport on Friday night. The flight, traveling\\u2026 pic.twitter.com/nt0FwmPALE\\n\\u2014 R A W S A L E R T S (@rawsalerts) January 6, 2024\\nOn Saturday, the American aviation regulator Federal Aviation Administration (FAA) said that it will order temporary grounding of certain 737 MAX-9 aircraft operated by US airlines or in US territory, and they will be allowed to take to the skies again only after being inspected by operators. The inspection is likely to take four to eight hours per plane. This decision is expected to affect 171 aircraft.\\n\\u201cFollowing tonight\\u2019s event on Flight 1282, we have decided to take the precautionary step of temporarily grounding our fleet of 65 Boeing 737-9 aircraft. Each aircraft will be returned to service only after completion of full maintenance and safety inspections. We anticipate all inspections will be completed in the next few days,\\u201d Ben Minicucci, chief executive officer of Alaska Airlines, said in a statement after the incident.\\nAlso Read | Explained: Why India has allowed Boeing 737 Max planes to fly again\\n\\u201cWe are working with Boeing and regulators to understand what occurred tonight, and will share updates as more information is available. The NTSB (National Transportation Safety Board of the US) is investigating this event and we will fully support their investigation,\\u201d Minicucci said.\\nADVERTISEMENT\\nIn a post on X (formerly Twitter), Boeing said, \\u201cWe are aware of the incident involving Alaska Airlines Flight #AS1282. We are working to gather more information and are in contact with our airline customer. A Boeing technical team stands ready to support the investigation\\u201d. The incident comes a few days after Boeing asked 737 MAX operators to carry out inspections after a loose bolt was found in the rudder control system of one of the planes. Rudders are vertical flight control surfaces on the tail of the aircraft and are primarily used to change the airplane\\u2019s yaw, or vertical axis rotation.\\n\\u201cWe are aware of the recent incident involving a Boeing aircraft of Alaska Air. The aircraft involved is a different variant from the B737-8 operated by Air India Express. We are in touch with Boeing for more information regarding this, as well with our regulators and will comply with any advisory,\\u201d an Air India Express spokesperson said.\\nAn Akasa Air spokesperson said, \\u201cEven though the incident has occurred with another airline in the USA, we are in contact with the aircraft manufacturer and regulators to proactively monitor developments and will follow any guidance issued by them. We confirm that, at present, Akasa Air does not have any 737 Max-9 aircraft in its fleet which was the aircraft type involved in the incident\\u201d.\",\n          \"The European Union on Monday said it would launch an investigation of social media company X, formerly known as Twitter, over a suspected breach of obligations in its first such probe under the Digital Services Act (DSA).\\nThe DSA, which entered into force in November last year, requires very large online platforms and search engines to do more to tackle illegal content and risks to public security, and to protect their services against manipulative techniques.\\nThe proceedings will focus on countering the dissemination of illegal content in the EU, and the effectiveness of measures taken to combat information manipulation, notably of the \\u201ccommunity notes\\u201d system, the Commission said.\\nADVERTISEMENT\\nIt will also focus on the measures taken by X to increase the transparency of its platform and a suspected deceptive design of the user interface such as checkmarks linked to subscription products, the so-called Blue checks.\\nAlso Read | How to lock WhatsApp chats and protect them using secret code\\nThe Commission said it will now carry out an in-depth investigation as a matter of priority and continue to gather evidence by sending additional requests for information, conducting interviews and inspections.\\nX, owned by Elon Musk, is part of a group of large tech companies facing increased scrutiny under the DSA.\\nFollowing Hamas\\u2019 attacks on Israel on Oct. 7, EU industry chief Thierry Breton sent letters to X, Meta, TikTok and Alphabet reminding them of their obligations under the DSA to tackle harmful and illegal content.\\nADVERTISEMENT\\nThe platforms responded promptly to Breton, highlighting steps they have taken to stop disinformation on their platforms but Musk challenged Breton over the disinformation charge.\\nOnly X received a formal request for information under the DSA and has responded to the request.\\nThe Commission said a preliminary investigation conducted so far included an analysis of a report submitted by X in September, X\\u2019s transparency report published in November, and X\\u2019s replies to a formal request for information about illegal content in connection to Hamas\\u2019 attacks against Israel.\\nX did not immediately respond to Reuters requests for comment.\\nADVERTISEMENT\\nThe DSA imposes new rules on content moderation, user privacy and transparency. Any firm found in breach faces a fine worth up to 6% of its global turnover.\",\n          \"The Karnataka government on Tuesday issued a government order to constitute a State Education Policy Commission for preparation of draft Karnataka State Education Policy and has appointed former UGC chief Sukhdev Thorat as the chairman of the Commission. Thorat is also an eminent educationist, economist, professor, and a writer.\\nThe government has constituted a 15 member committee consisting of retired IAS officers, writers, professors, retired professors to draft the state education policy. In its order, the government has stated that the commission will undertake careful review of the School and Higher Education in Karnataka and will suggest policies to achieve a higher enrolment in the schools and higher education. The government has directed the commission to submit a report by February 28, 2024.\"\n        ],\n        \"semantic_type\": \"\",\n        \"description\": \"\"\n      }\n    },\n    {\n      \"column\": \"url\",\n      \"properties\": {\n        \"dtype\": \"string\",\n        \"num_unique_values\": 9990,\n        \"samples\": [\n          \"https://indianexpress.com/article/business/economy/rbi-governor-das-asks-fintech-to-focus-on-customer-centricity-self-regulation-8928073/\",\n          \"https://indianexpress.com/article/business/market/stock-market-live-sensex-nifty-today-adani-group-reliance-hdfc-8934141/\",\n          \"https://indianexpress.com/article/education/former-ugc-chief-sukhdev-thorat-to-be-chairman-of-karnatakas-new-state-education-policy-commission-8978607/\"\n        ],\n        \"semantic_type\": \"\",\n        \"description\": \"\"\n      }\n    },\n    {\n      \"column\": \"category\",\n      \"properties\": {\n        \"dtype\": \"category\",\n        \"num_unique_values\": 5,\n        \"samples\": [\n          \"education\",\n          \"technology\",\n          \"business\"\n        ],\n        \"semantic_type\": \"\",\n        \"description\": \"\"\n      }\n    }\n  ]\n}"
            }
          },
          "metadata": {},
          "execution_count": 11
        }
      ]
    },
    {
      "cell_type": "code",
      "source": [
        "df.reset_index(inplace=True)"
      ],
      "metadata": {
        "id": "2qMs7ovM1eTw"
      },
      "execution_count": null,
      "outputs": []
    },
    {
      "cell_type": "code",
      "source": [
        "df.head()"
      ],
      "metadata": {
        "colab": {
          "base_uri": "https://localhost:8080/",
          "height": 292
        },
        "id": "rUQ4fQGg1jOL",
        "outputId": "1ea3c7a7-4bdc-4aac-e80e-1732621f2583"
      },
      "execution_count": null,
      "outputs": [
        {
          "output_type": "execute_result",
          "data": {
            "text/plain": [
              "   index                                          headlines  \\\n",
              "0   1873  Mohammed Shami: Can’t doubt this Indian team a...   \n",
              "1    432  Bihar Board 2024 Inter exams to begin on Febru...   \n",
              "2   1707         India mulls green power trade with SE Asia   \n",
              "3   1700  ‘Thank you for being such an inspiration’: Aza...   \n",
              "4   1430  Dilip Kumar was a ‘chatora’, Shabana Azmi reca...   \n",
              "\n",
              "                                         description  \\\n",
              "0  Speaking on how sure the Indian team was on it...   \n",
              "1  BSEB Bihar Board Exam Date 2024: The datesheet...   \n",
              "2  On a consolidated net box office basis, the tw...   \n",
              "3  Sania Mirza became the first Indian woman to b...   \n",
              "4  Dilip Kumar loved his spicy delicacies but his...   \n",
              "\n",
              "                                             content  \\\n",
              "0  India’s player of the match against New Zealan...   \n",
              "1  Bihar Board 10th, 12th Exam Date 2024: The Bih...   \n",
              "2  One movie is bursting with life-size doll hous...   \n",
              "3  India’s Sania Mirza bid farewell to her grand ...   \n",
              "4  Dilip Kumar is remembered as one of the most a...   \n",
              "\n",
              "                                                 url       category  \n",
              "0  https://indianexpress.com/article/sports/crick...         sports  \n",
              "1  https://indianexpress.com/article/education/bs...      education  \n",
              "2  https://indianexpress.com/article/business/mul...       business  \n",
              "3  https://indianexpress.com/article/sports/tenni...         sports  \n",
              "4  https://indianexpress.com/article/entertainmen...  entertainment  "
            ],
            "text/html": [
              "\n",
              "  <div id=\"df-a41949cd-2e46-4e94-88ee-e2a7d4843cf2\" class=\"colab-df-container\">\n",
              "    <div>\n",
              "<style scoped>\n",
              "    .dataframe tbody tr th:only-of-type {\n",
              "        vertical-align: middle;\n",
              "    }\n",
              "\n",
              "    .dataframe tbody tr th {\n",
              "        vertical-align: top;\n",
              "    }\n",
              "\n",
              "    .dataframe thead th {\n",
              "        text-align: right;\n",
              "    }\n",
              "</style>\n",
              "<table border=\"1\" class=\"dataframe\">\n",
              "  <thead>\n",
              "    <tr style=\"text-align: right;\">\n",
              "      <th></th>\n",
              "      <th>index</th>\n",
              "      <th>headlines</th>\n",
              "      <th>description</th>\n",
              "      <th>content</th>\n",
              "      <th>url</th>\n",
              "      <th>category</th>\n",
              "    </tr>\n",
              "  </thead>\n",
              "  <tbody>\n",
              "    <tr>\n",
              "      <th>0</th>\n",
              "      <td>1873</td>\n",
              "      <td>Mohammed Shami: Can’t doubt this Indian team a...</td>\n",
              "      <td>Speaking on how sure the Indian team was on it...</td>\n",
              "      <td>India’s player of the match against New Zealan...</td>\n",
              "      <td>https://indianexpress.com/article/sports/crick...</td>\n",
              "      <td>sports</td>\n",
              "    </tr>\n",
              "    <tr>\n",
              "      <th>1</th>\n",
              "      <td>432</td>\n",
              "      <td>Bihar Board 2024 Inter exams to begin on Febru...</td>\n",
              "      <td>BSEB Bihar Board Exam Date 2024: The datesheet...</td>\n",
              "      <td>Bihar Board 10th, 12th Exam Date 2024: The Bih...</td>\n",
              "      <td>https://indianexpress.com/article/education/bs...</td>\n",
              "      <td>education</td>\n",
              "    </tr>\n",
              "    <tr>\n",
              "      <th>2</th>\n",
              "      <td>1707</td>\n",
              "      <td>India mulls green power trade with SE Asia</td>\n",
              "      <td>On a consolidated net box office basis, the tw...</td>\n",
              "      <td>One movie is bursting with life-size doll hous...</td>\n",
              "      <td>https://indianexpress.com/article/business/mul...</td>\n",
              "      <td>business</td>\n",
              "    </tr>\n",
              "    <tr>\n",
              "      <th>3</th>\n",
              "      <td>1700</td>\n",
              "      <td>‘Thank you for being such an inspiration’: Aza...</td>\n",
              "      <td>Sania Mirza became the first Indian woman to b...</td>\n",
              "      <td>India’s Sania Mirza bid farewell to her grand ...</td>\n",
              "      <td>https://indianexpress.com/article/sports/tenni...</td>\n",
              "      <td>sports</td>\n",
              "    </tr>\n",
              "    <tr>\n",
              "      <th>4</th>\n",
              "      <td>1430</td>\n",
              "      <td>Dilip Kumar was a ‘chatora’, Shabana Azmi reca...</td>\n",
              "      <td>Dilip Kumar loved his spicy delicacies but his...</td>\n",
              "      <td>Dilip Kumar is remembered as one of the most a...</td>\n",
              "      <td>https://indianexpress.com/article/entertainmen...</td>\n",
              "      <td>entertainment</td>\n",
              "    </tr>\n",
              "  </tbody>\n",
              "</table>\n",
              "</div>\n",
              "    <div class=\"colab-df-buttons\">\n",
              "\n",
              "  <div class=\"colab-df-container\">\n",
              "    <button class=\"colab-df-convert\" onclick=\"convertToInteractive('df-a41949cd-2e46-4e94-88ee-e2a7d4843cf2')\"\n",
              "            title=\"Convert this dataframe to an interactive table.\"\n",
              "            style=\"display:none;\">\n",
              "\n",
              "  <svg xmlns=\"http://www.w3.org/2000/svg\" height=\"24px\" viewBox=\"0 -960 960 960\">\n",
              "    <path d=\"M120-120v-720h720v720H120Zm60-500h600v-160H180v160Zm220 220h160v-160H400v160Zm0 220h160v-160H400v160ZM180-400h160v-160H180v160Zm440 0h160v-160H620v160ZM180-180h160v-160H180v160Zm440 0h160v-160H620v160Z\"/>\n",
              "  </svg>\n",
              "    </button>\n",
              "\n",
              "  <style>\n",
              "    .colab-df-container {\n",
              "      display:flex;\n",
              "      gap: 12px;\n",
              "    }\n",
              "\n",
              "    .colab-df-convert {\n",
              "      background-color: #E8F0FE;\n",
              "      border: none;\n",
              "      border-radius: 50%;\n",
              "      cursor: pointer;\n",
              "      display: none;\n",
              "      fill: #1967D2;\n",
              "      height: 32px;\n",
              "      padding: 0 0 0 0;\n",
              "      width: 32px;\n",
              "    }\n",
              "\n",
              "    .colab-df-convert:hover {\n",
              "      background-color: #E2EBFA;\n",
              "      box-shadow: 0px 1px 2px rgba(60, 64, 67, 0.3), 0px 1px 3px 1px rgba(60, 64, 67, 0.15);\n",
              "      fill: #174EA6;\n",
              "    }\n",
              "\n",
              "    .colab-df-buttons div {\n",
              "      margin-bottom: 4px;\n",
              "    }\n",
              "\n",
              "    [theme=dark] .colab-df-convert {\n",
              "      background-color: #3B4455;\n",
              "      fill: #D2E3FC;\n",
              "    }\n",
              "\n",
              "    [theme=dark] .colab-df-convert:hover {\n",
              "      background-color: #434B5C;\n",
              "      box-shadow: 0px 1px 3px 1px rgba(0, 0, 0, 0.15);\n",
              "      filter: drop-shadow(0px 1px 2px rgba(0, 0, 0, 0.3));\n",
              "      fill: #FFFFFF;\n",
              "    }\n",
              "  </style>\n",
              "\n",
              "    <script>\n",
              "      const buttonEl =\n",
              "        document.querySelector('#df-a41949cd-2e46-4e94-88ee-e2a7d4843cf2 button.colab-df-convert');\n",
              "      buttonEl.style.display =\n",
              "        google.colab.kernel.accessAllowed ? 'block' : 'none';\n",
              "\n",
              "      async function convertToInteractive(key) {\n",
              "        const element = document.querySelector('#df-a41949cd-2e46-4e94-88ee-e2a7d4843cf2');\n",
              "        const dataTable =\n",
              "          await google.colab.kernel.invokeFunction('convertToInteractive',\n",
              "                                                    [key], {});\n",
              "        if (!dataTable) return;\n",
              "\n",
              "        const docLinkHtml = 'Like what you see? Visit the ' +\n",
              "          '<a target=\"_blank\" href=https://colab.research.google.com/notebooks/data_table.ipynb>data table notebook</a>'\n",
              "          + ' to learn more about interactive tables.';\n",
              "        element.innerHTML = '';\n",
              "        dataTable['output_type'] = 'display_data';\n",
              "        await google.colab.output.renderOutput(dataTable, element);\n",
              "        const docLink = document.createElement('div');\n",
              "        docLink.innerHTML = docLinkHtml;\n",
              "        element.appendChild(docLink);\n",
              "      }\n",
              "    </script>\n",
              "  </div>\n",
              "\n",
              "\n",
              "<div id=\"df-e99bdd6b-2704-41b9-8b92-1ae0cfa9c2e6\">\n",
              "  <button class=\"colab-df-quickchart\" onclick=\"quickchart('df-e99bdd6b-2704-41b9-8b92-1ae0cfa9c2e6')\"\n",
              "            title=\"Suggest charts\"\n",
              "            style=\"display:none;\">\n",
              "\n",
              "<svg xmlns=\"http://www.w3.org/2000/svg\" height=\"24px\"viewBox=\"0 0 24 24\"\n",
              "     width=\"24px\">\n",
              "    <g>\n",
              "        <path d=\"M19 3H5c-1.1 0-2 .9-2 2v14c0 1.1.9 2 2 2h14c1.1 0 2-.9 2-2V5c0-1.1-.9-2-2-2zM9 17H7v-7h2v7zm4 0h-2V7h2v10zm4 0h-2v-4h2v4z\"/>\n",
              "    </g>\n",
              "</svg>\n",
              "  </button>\n",
              "\n",
              "<style>\n",
              "  .colab-df-quickchart {\n",
              "      --bg-color: #E8F0FE;\n",
              "      --fill-color: #1967D2;\n",
              "      --hover-bg-color: #E2EBFA;\n",
              "      --hover-fill-color: #174EA6;\n",
              "      --disabled-fill-color: #AAA;\n",
              "      --disabled-bg-color: #DDD;\n",
              "  }\n",
              "\n",
              "  [theme=dark] .colab-df-quickchart {\n",
              "      --bg-color: #3B4455;\n",
              "      --fill-color: #D2E3FC;\n",
              "      --hover-bg-color: #434B5C;\n",
              "      --hover-fill-color: #FFFFFF;\n",
              "      --disabled-bg-color: #3B4455;\n",
              "      --disabled-fill-color: #666;\n",
              "  }\n",
              "\n",
              "  .colab-df-quickchart {\n",
              "    background-color: var(--bg-color);\n",
              "    border: none;\n",
              "    border-radius: 50%;\n",
              "    cursor: pointer;\n",
              "    display: none;\n",
              "    fill: var(--fill-color);\n",
              "    height: 32px;\n",
              "    padding: 0;\n",
              "    width: 32px;\n",
              "  }\n",
              "\n",
              "  .colab-df-quickchart:hover {\n",
              "    background-color: var(--hover-bg-color);\n",
              "    box-shadow: 0 1px 2px rgba(60, 64, 67, 0.3), 0 1px 3px 1px rgba(60, 64, 67, 0.15);\n",
              "    fill: var(--button-hover-fill-color);\n",
              "  }\n",
              "\n",
              "  .colab-df-quickchart-complete:disabled,\n",
              "  .colab-df-quickchart-complete:disabled:hover {\n",
              "    background-color: var(--disabled-bg-color);\n",
              "    fill: var(--disabled-fill-color);\n",
              "    box-shadow: none;\n",
              "  }\n",
              "\n",
              "  .colab-df-spinner {\n",
              "    border: 2px solid var(--fill-color);\n",
              "    border-color: transparent;\n",
              "    border-bottom-color: var(--fill-color);\n",
              "    animation:\n",
              "      spin 1s steps(1) infinite;\n",
              "  }\n",
              "\n",
              "  @keyframes spin {\n",
              "    0% {\n",
              "      border-color: transparent;\n",
              "      border-bottom-color: var(--fill-color);\n",
              "      border-left-color: var(--fill-color);\n",
              "    }\n",
              "    20% {\n",
              "      border-color: transparent;\n",
              "      border-left-color: var(--fill-color);\n",
              "      border-top-color: var(--fill-color);\n",
              "    }\n",
              "    30% {\n",
              "      border-color: transparent;\n",
              "      border-left-color: var(--fill-color);\n",
              "      border-top-color: var(--fill-color);\n",
              "      border-right-color: var(--fill-color);\n",
              "    }\n",
              "    40% {\n",
              "      border-color: transparent;\n",
              "      border-right-color: var(--fill-color);\n",
              "      border-top-color: var(--fill-color);\n",
              "    }\n",
              "    60% {\n",
              "      border-color: transparent;\n",
              "      border-right-color: var(--fill-color);\n",
              "    }\n",
              "    80% {\n",
              "      border-color: transparent;\n",
              "      border-right-color: var(--fill-color);\n",
              "      border-bottom-color: var(--fill-color);\n",
              "    }\n",
              "    90% {\n",
              "      border-color: transparent;\n",
              "      border-bottom-color: var(--fill-color);\n",
              "    }\n",
              "  }\n",
              "</style>\n",
              "\n",
              "  <script>\n",
              "    async function quickchart(key) {\n",
              "      const quickchartButtonEl =\n",
              "        document.querySelector('#' + key + ' button');\n",
              "      quickchartButtonEl.disabled = true;  // To prevent multiple clicks.\n",
              "      quickchartButtonEl.classList.add('colab-df-spinner');\n",
              "      try {\n",
              "        const charts = await google.colab.kernel.invokeFunction(\n",
              "            'suggestCharts', [key], {});\n",
              "      } catch (error) {\n",
              "        console.error('Error during call to suggestCharts:', error);\n",
              "      }\n",
              "      quickchartButtonEl.classList.remove('colab-df-spinner');\n",
              "      quickchartButtonEl.classList.add('colab-df-quickchart-complete');\n",
              "    }\n",
              "    (() => {\n",
              "      let quickchartButtonEl =\n",
              "        document.querySelector('#df-e99bdd6b-2704-41b9-8b92-1ae0cfa9c2e6 button');\n",
              "      quickchartButtonEl.style.display =\n",
              "        google.colab.kernel.accessAllowed ? 'block' : 'none';\n",
              "    })();\n",
              "  </script>\n",
              "</div>\n",
              "\n",
              "    </div>\n",
              "  </div>\n"
            ],
            "application/vnd.google.colaboratory.intrinsic+json": {
              "type": "dataframe",
              "variable_name": "df",
              "summary": "{\n  \"name\": \"df\",\n  \"rows\": 10000,\n  \"fields\": [\n    {\n      \"column\": \"index\",\n      \"properties\": {\n        \"dtype\": \"number\",\n        \"std\": 577,\n        \"min\": 0,\n        \"max\": 1999,\n        \"num_unique_values\": 2000,\n        \"samples\": [\n          605,\n          567,\n          1910\n        ],\n        \"semantic_type\": \"\",\n        \"description\": \"\"\n      }\n    },\n    {\n      \"column\": \"headlines\",\n      \"properties\": {\n        \"dtype\": \"string\",\n        \"num_unique_values\": 9987,\n        \"samples\": [\n          \"With improved serve and mental resolve, Aryna Sabalenka wins maiden Grand Slam title at Australian Open\",\n          \"Sony launches PlayStation VR2 headset in India, and it\\u2019s not cheap\",\n          \"14 Banaras Hindu University scholars get Prime Minister\\u2019s Research Fellowship\"\n        ],\n        \"semantic_type\": \"\",\n        \"description\": \"\"\n      }\n    },\n    {\n      \"column\": \"description\",\n      \"properties\": {\n        \"dtype\": \"string\",\n        \"num_unique_values\": 9978,\n        \"samples\": [\n          \"Tata Motors posted a profit of Rs 3,783 crore for the quarter ended September 2023 as against a loss of Rs 1,004 crore in the same period a year ago.\",\n          \"Among major markets, the UK led with 16.1 per cent growth, whereas segments such as life sciences and healthcare witnessed 10.1 per cent growth, and manufacturing saw 9.4 per cent rise, TCS said.\",\n          \"The figure could soar on Tuesday, the deadline day, as several clubs are frantically negotiating with players\\u2019 agents before the shutters roll on the window.\"\n        ],\n        \"semantic_type\": \"\",\n        \"description\": \"\"\n      }\n    },\n    {\n      \"column\": \"content\",\n      \"properties\": {\n        \"dtype\": \"string\",\n        \"num_unique_values\": 9991,\n        \"samples\": [\n          \"Aviation safety regulator Directorate General of Civil Aviation (DGCA) on Saturday directed Akasa Air, Air India Express, and SpiceJet to conduct a \\u201cone-time inspection\\u201d of emergency exits on all Boeing 737 MAX-8 aircraft in their fleet by Sunday noon as an \\u201cabundant precautionary measure\\u201d following an incident involving an Alaska Airlines 737 MAX-9 in the United States (US). At present, over 40 Boeing 737 MAX-8 planes are in operation across these three carriers in India, while there are no 737 MAX-9 aircraft in the fleet of any Indian airline.\\nRead Also | Alaska Airlines flight scare: DGCA asks Indian carriers to check emergency exits of Boeing 737-8 Max planes\\n\\u201cPursuant to the Alaska Airlines incident involving Boeing 737-9 MAX aircraft, there have been no inputs/guidance from Boeing so far. None of the Indian air operators have Boeing 737-9 MAX as part of their fleet yet. However, as an abundant precautionary measure, DGCA has directed all the Indian air operators to carry out a one-time inspection of the emergency exits immediately on all Boeing 737-8 MAX aircraft currently operating as part of their fleet,\\u201d a top DGCA official said. The DGCA asked for the inspections to be held during the aircraft\\u2019s night halts so that flight schedules are not affected.\\nThe carriers said that they are in touch with Boeing to get more information on the Alaska Airlines incident. They said that they will comply with the DGCA\\u2019s directive on the one-time inspection of emergency exits.\\nADVERTISEMENT\\nOn Friday, an Alaska Airlines 737 MAX-9 plane operating a flight between Portland and Ontario (in California) made an emergency landing soon after take-off after a mid-air window blowout that led to a section of the fuselage also breaking away, causing decompression in the cabin. All the 171 passengers and six crew on board the aircraft returned safely. Following the incident, Alaska Airlines has temporarily grounded all of its 737 MAX-9 planes.\\n\\ud83d\\udea8#BREAKING: Alaska Airlines Forced to Make an Emergency Landing After Large Aircraft Window Blows Out Mid-Air \\u2070\\u2070\\ud83d\\udccc#Portland | #Oregon\\n\\u2070A Forced emergency landing was made of Alaska Airlines Flight 1282 at Portland International Airport on Friday night. The flight, traveling\\u2026 pic.twitter.com/nt0FwmPALE\\n\\u2014 R A W S A L E R T S (@rawsalerts) January 6, 2024\\nOn Saturday, the American aviation regulator Federal Aviation Administration (FAA) said that it will order temporary grounding of certain 737 MAX-9 aircraft operated by US airlines or in US territory, and they will be allowed to take to the skies again only after being inspected by operators. The inspection is likely to take four to eight hours per plane. This decision is expected to affect 171 aircraft.\\n\\u201cFollowing tonight\\u2019s event on Flight 1282, we have decided to take the precautionary step of temporarily grounding our fleet of 65 Boeing 737-9 aircraft. Each aircraft will be returned to service only after completion of full maintenance and safety inspections. We anticipate all inspections will be completed in the next few days,\\u201d Ben Minicucci, chief executive officer of Alaska Airlines, said in a statement after the incident.\\nAlso Read | Explained: Why India has allowed Boeing 737 Max planes to fly again\\n\\u201cWe are working with Boeing and regulators to understand what occurred tonight, and will share updates as more information is available. The NTSB (National Transportation Safety Board of the US) is investigating this event and we will fully support their investigation,\\u201d Minicucci said.\\nADVERTISEMENT\\nIn a post on X (formerly Twitter), Boeing said, \\u201cWe are aware of the incident involving Alaska Airlines Flight #AS1282. We are working to gather more information and are in contact with our airline customer. A Boeing technical team stands ready to support the investigation\\u201d. The incident comes a few days after Boeing asked 737 MAX operators to carry out inspections after a loose bolt was found in the rudder control system of one of the planes. Rudders are vertical flight control surfaces on the tail of the aircraft and are primarily used to change the airplane\\u2019s yaw, or vertical axis rotation.\\n\\u201cWe are aware of the recent incident involving a Boeing aircraft of Alaska Air. The aircraft involved is a different variant from the B737-8 operated by Air India Express. We are in touch with Boeing for more information regarding this, as well with our regulators and will comply with any advisory,\\u201d an Air India Express spokesperson said.\\nAn Akasa Air spokesperson said, \\u201cEven though the incident has occurred with another airline in the USA, we are in contact with the aircraft manufacturer and regulators to proactively monitor developments and will follow any guidance issued by them. We confirm that, at present, Akasa Air does not have any 737 Max-9 aircraft in its fleet which was the aircraft type involved in the incident\\u201d.\",\n          \"The European Union on Monday said it would launch an investigation of social media company X, formerly known as Twitter, over a suspected breach of obligations in its first such probe under the Digital Services Act (DSA).\\nThe DSA, which entered into force in November last year, requires very large online platforms and search engines to do more to tackle illegal content and risks to public security, and to protect their services against manipulative techniques.\\nThe proceedings will focus on countering the dissemination of illegal content in the EU, and the effectiveness of measures taken to combat information manipulation, notably of the \\u201ccommunity notes\\u201d system, the Commission said.\\nADVERTISEMENT\\nIt will also focus on the measures taken by X to increase the transparency of its platform and a suspected deceptive design of the user interface such as checkmarks linked to subscription products, the so-called Blue checks.\\nAlso Read | How to lock WhatsApp chats and protect them using secret code\\nThe Commission said it will now carry out an in-depth investigation as a matter of priority and continue to gather evidence by sending additional requests for information, conducting interviews and inspections.\\nX, owned by Elon Musk, is part of a group of large tech companies facing increased scrutiny under the DSA.\\nFollowing Hamas\\u2019 attacks on Israel on Oct. 7, EU industry chief Thierry Breton sent letters to X, Meta, TikTok and Alphabet reminding them of their obligations under the DSA to tackle harmful and illegal content.\\nADVERTISEMENT\\nThe platforms responded promptly to Breton, highlighting steps they have taken to stop disinformation on their platforms but Musk challenged Breton over the disinformation charge.\\nOnly X received a formal request for information under the DSA and has responded to the request.\\nThe Commission said a preliminary investigation conducted so far included an analysis of a report submitted by X in September, X\\u2019s transparency report published in November, and X\\u2019s replies to a formal request for information about illegal content in connection to Hamas\\u2019 attacks against Israel.\\nX did not immediately respond to Reuters requests for comment.\\nADVERTISEMENT\\nThe DSA imposes new rules on content moderation, user privacy and transparency. Any firm found in breach faces a fine worth up to 6% of its global turnover.\",\n          \"The Karnataka government on Tuesday issued a government order to constitute a State Education Policy Commission for preparation of draft Karnataka State Education Policy and has appointed former UGC chief Sukhdev Thorat as the chairman of the Commission. Thorat is also an eminent educationist, economist, professor, and a writer.\\nThe government has constituted a 15 member committee consisting of retired IAS officers, writers, professors, retired professors to draft the state education policy. In its order, the government has stated that the commission will undertake careful review of the School and Higher Education in Karnataka and will suggest policies to achieve a higher enrolment in the schools and higher education. The government has directed the commission to submit a report by February 28, 2024.\"\n        ],\n        \"semantic_type\": \"\",\n        \"description\": \"\"\n      }\n    },\n    {\n      \"column\": \"url\",\n      \"properties\": {\n        \"dtype\": \"string\",\n        \"num_unique_values\": 9990,\n        \"samples\": [\n          \"https://indianexpress.com/article/business/economy/rbi-governor-das-asks-fintech-to-focus-on-customer-centricity-self-regulation-8928073/\",\n          \"https://indianexpress.com/article/business/market/stock-market-live-sensex-nifty-today-adani-group-reliance-hdfc-8934141/\",\n          \"https://indianexpress.com/article/education/former-ugc-chief-sukhdev-thorat-to-be-chairman-of-karnatakas-new-state-education-policy-commission-8978607/\"\n        ],\n        \"semantic_type\": \"\",\n        \"description\": \"\"\n      }\n    },\n    {\n      \"column\": \"category\",\n      \"properties\": {\n        \"dtype\": \"category\",\n        \"num_unique_values\": 5,\n        \"samples\": [\n          \"education\",\n          \"technology\",\n          \"business\"\n        ],\n        \"semantic_type\": \"\",\n        \"description\": \"\"\n      }\n    }\n  ]\n}"
            }
          },
          "metadata": {},
          "execution_count": 13
        }
      ]
    },
    {
      "cell_type": "code",
      "source": [
        "df.drop(columns=[\"index\",\"url\"],inplace=True)"
      ],
      "metadata": {
        "id": "dkvM6SID1ipM"
      },
      "execution_count": null,
      "outputs": []
    },
    {
      "cell_type": "code",
      "source": [
        "df['category'].unique()"
      ],
      "metadata": {
        "colab": {
          "base_uri": "https://localhost:8080/"
        },
        "id": "GwVI7_wCs6s-",
        "outputId": "3e998a2b-7008-4465-ffe7-650088989db5"
      },
      "execution_count": null,
      "outputs": [
        {
          "output_type": "execute_result",
          "data": {
            "text/plain": [
              "array(['sports', 'education', 'business', 'entertainment', 'technology'],\n",
              "      dtype=object)"
            ]
          },
          "metadata": {},
          "execution_count": 15
        }
      ]
    },
    {
      "cell_type": "code",
      "source": [
        "df.info()"
      ],
      "metadata": {
        "colab": {
          "base_uri": "https://localhost:8080/"
        },
        "id": "zr8GpssntIFn",
        "outputId": "f71ec875-afa7-4770-8172-3127c1a3135c"
      },
      "execution_count": null,
      "outputs": [
        {
          "output_type": "stream",
          "name": "stdout",
          "text": [
            "<class 'pandas.core.frame.DataFrame'>\n",
            "RangeIndex: 10000 entries, 0 to 9999\n",
            "Data columns (total 4 columns):\n",
            " #   Column       Non-Null Count  Dtype \n",
            "---  ------       --------------  ----- \n",
            " 0   headlines    10000 non-null  object\n",
            " 1   description  10000 non-null  object\n",
            " 2   content      10000 non-null  object\n",
            " 3   category     10000 non-null  object\n",
            "dtypes: object(4)\n",
            "memory usage: 312.6+ KB\n"
          ]
        }
      ]
    },
    {
      "cell_type": "code",
      "source": [
        "df['category'].value_counts()"
      ],
      "metadata": {
        "colab": {
          "base_uri": "https://localhost:8080/",
          "height": 272
        },
        "id": "WMiUFbNftLD8",
        "outputId": "10f66f27-6a25-473f-b804-5c559ae3e006"
      },
      "execution_count": null,
      "outputs": [
        {
          "output_type": "execute_result",
          "data": {
            "text/plain": [
              "category\n",
              "sports           2000\n",
              "education        2000\n",
              "business         2000\n",
              "entertainment    2000\n",
              "technology       2000\n",
              "Name: count, dtype: int64"
            ],
            "text/html": [
              "<div>\n",
              "<style scoped>\n",
              "    .dataframe tbody tr th:only-of-type {\n",
              "        vertical-align: middle;\n",
              "    }\n",
              "\n",
              "    .dataframe tbody tr th {\n",
              "        vertical-align: top;\n",
              "    }\n",
              "\n",
              "    .dataframe thead th {\n",
              "        text-align: right;\n",
              "    }\n",
              "</style>\n",
              "<table border=\"1\" class=\"dataframe\">\n",
              "  <thead>\n",
              "    <tr style=\"text-align: right;\">\n",
              "      <th></th>\n",
              "      <th>count</th>\n",
              "    </tr>\n",
              "    <tr>\n",
              "      <th>category</th>\n",
              "      <th></th>\n",
              "    </tr>\n",
              "  </thead>\n",
              "  <tbody>\n",
              "    <tr>\n",
              "      <th>sports</th>\n",
              "      <td>2000</td>\n",
              "    </tr>\n",
              "    <tr>\n",
              "      <th>education</th>\n",
              "      <td>2000</td>\n",
              "    </tr>\n",
              "    <tr>\n",
              "      <th>business</th>\n",
              "      <td>2000</td>\n",
              "    </tr>\n",
              "    <tr>\n",
              "      <th>entertainment</th>\n",
              "      <td>2000</td>\n",
              "    </tr>\n",
              "    <tr>\n",
              "      <th>technology</th>\n",
              "      <td>2000</td>\n",
              "    </tr>\n",
              "  </tbody>\n",
              "</table>\n",
              "</div><br><label><b>dtype:</b> int64</label>"
            ]
          },
          "metadata": {},
          "execution_count": 17
        }
      ]
    },
    {
      "cell_type": "code",
      "source": [
        "df.head()"
      ],
      "metadata": {
        "id": "_jvISxp_tbn0",
        "colab": {
          "base_uri": "https://localhost:8080/",
          "height": 206
        },
        "outputId": "47feba89-fcfc-4c5b-cf8d-c6cb26fc1e6e"
      },
      "execution_count": null,
      "outputs": [
        {
          "output_type": "execute_result",
          "data": {
            "text/plain": [
              "                                           headlines  \\\n",
              "0  Mohammed Shami: Can’t doubt this Indian team a...   \n",
              "1  Bihar Board 2024 Inter exams to begin on Febru...   \n",
              "2         India mulls green power trade with SE Asia   \n",
              "3  ‘Thank you for being such an inspiration’: Aza...   \n",
              "4  Dilip Kumar was a ‘chatora’, Shabana Azmi reca...   \n",
              "\n",
              "                                         description  \\\n",
              "0  Speaking on how sure the Indian team was on it...   \n",
              "1  BSEB Bihar Board Exam Date 2024: The datesheet...   \n",
              "2  On a consolidated net box office basis, the tw...   \n",
              "3  Sania Mirza became the first Indian woman to b...   \n",
              "4  Dilip Kumar loved his spicy delicacies but his...   \n",
              "\n",
              "                                             content       category  \n",
              "0  India’s player of the match against New Zealan...         sports  \n",
              "1  Bihar Board 10th, 12th Exam Date 2024: The Bih...      education  \n",
              "2  One movie is bursting with life-size doll hous...       business  \n",
              "3  India’s Sania Mirza bid farewell to her grand ...         sports  \n",
              "4  Dilip Kumar is remembered as one of the most a...  entertainment  "
            ],
            "text/html": [
              "\n",
              "  <div id=\"df-7ad7c738-de25-44de-bc08-81a079cabda1\" class=\"colab-df-container\">\n",
              "    <div>\n",
              "<style scoped>\n",
              "    .dataframe tbody tr th:only-of-type {\n",
              "        vertical-align: middle;\n",
              "    }\n",
              "\n",
              "    .dataframe tbody tr th {\n",
              "        vertical-align: top;\n",
              "    }\n",
              "\n",
              "    .dataframe thead th {\n",
              "        text-align: right;\n",
              "    }\n",
              "</style>\n",
              "<table border=\"1\" class=\"dataframe\">\n",
              "  <thead>\n",
              "    <tr style=\"text-align: right;\">\n",
              "      <th></th>\n",
              "      <th>headlines</th>\n",
              "      <th>description</th>\n",
              "      <th>content</th>\n",
              "      <th>category</th>\n",
              "    </tr>\n",
              "  </thead>\n",
              "  <tbody>\n",
              "    <tr>\n",
              "      <th>0</th>\n",
              "      <td>Mohammed Shami: Can’t doubt this Indian team a...</td>\n",
              "      <td>Speaking on how sure the Indian team was on it...</td>\n",
              "      <td>India’s player of the match against New Zealan...</td>\n",
              "      <td>sports</td>\n",
              "    </tr>\n",
              "    <tr>\n",
              "      <th>1</th>\n",
              "      <td>Bihar Board 2024 Inter exams to begin on Febru...</td>\n",
              "      <td>BSEB Bihar Board Exam Date 2024: The datesheet...</td>\n",
              "      <td>Bihar Board 10th, 12th Exam Date 2024: The Bih...</td>\n",
              "      <td>education</td>\n",
              "    </tr>\n",
              "    <tr>\n",
              "      <th>2</th>\n",
              "      <td>India mulls green power trade with SE Asia</td>\n",
              "      <td>On a consolidated net box office basis, the tw...</td>\n",
              "      <td>One movie is bursting with life-size doll hous...</td>\n",
              "      <td>business</td>\n",
              "    </tr>\n",
              "    <tr>\n",
              "      <th>3</th>\n",
              "      <td>‘Thank you for being such an inspiration’: Aza...</td>\n",
              "      <td>Sania Mirza became the first Indian woman to b...</td>\n",
              "      <td>India’s Sania Mirza bid farewell to her grand ...</td>\n",
              "      <td>sports</td>\n",
              "    </tr>\n",
              "    <tr>\n",
              "      <th>4</th>\n",
              "      <td>Dilip Kumar was a ‘chatora’, Shabana Azmi reca...</td>\n",
              "      <td>Dilip Kumar loved his spicy delicacies but his...</td>\n",
              "      <td>Dilip Kumar is remembered as one of the most a...</td>\n",
              "      <td>entertainment</td>\n",
              "    </tr>\n",
              "  </tbody>\n",
              "</table>\n",
              "</div>\n",
              "    <div class=\"colab-df-buttons\">\n",
              "\n",
              "  <div class=\"colab-df-container\">\n",
              "    <button class=\"colab-df-convert\" onclick=\"convertToInteractive('df-7ad7c738-de25-44de-bc08-81a079cabda1')\"\n",
              "            title=\"Convert this dataframe to an interactive table.\"\n",
              "            style=\"display:none;\">\n",
              "\n",
              "  <svg xmlns=\"http://www.w3.org/2000/svg\" height=\"24px\" viewBox=\"0 -960 960 960\">\n",
              "    <path d=\"M120-120v-720h720v720H120Zm60-500h600v-160H180v160Zm220 220h160v-160H400v160Zm0 220h160v-160H400v160ZM180-400h160v-160H180v160Zm440 0h160v-160H620v160ZM180-180h160v-160H180v160Zm440 0h160v-160H620v160Z\"/>\n",
              "  </svg>\n",
              "    </button>\n",
              "\n",
              "  <style>\n",
              "    .colab-df-container {\n",
              "      display:flex;\n",
              "      gap: 12px;\n",
              "    }\n",
              "\n",
              "    .colab-df-convert {\n",
              "      background-color: #E8F0FE;\n",
              "      border: none;\n",
              "      border-radius: 50%;\n",
              "      cursor: pointer;\n",
              "      display: none;\n",
              "      fill: #1967D2;\n",
              "      height: 32px;\n",
              "      padding: 0 0 0 0;\n",
              "      width: 32px;\n",
              "    }\n",
              "\n",
              "    .colab-df-convert:hover {\n",
              "      background-color: #E2EBFA;\n",
              "      box-shadow: 0px 1px 2px rgba(60, 64, 67, 0.3), 0px 1px 3px 1px rgba(60, 64, 67, 0.15);\n",
              "      fill: #174EA6;\n",
              "    }\n",
              "\n",
              "    .colab-df-buttons div {\n",
              "      margin-bottom: 4px;\n",
              "    }\n",
              "\n",
              "    [theme=dark] .colab-df-convert {\n",
              "      background-color: #3B4455;\n",
              "      fill: #D2E3FC;\n",
              "    }\n",
              "\n",
              "    [theme=dark] .colab-df-convert:hover {\n",
              "      background-color: #434B5C;\n",
              "      box-shadow: 0px 1px 3px 1px rgba(0, 0, 0, 0.15);\n",
              "      filter: drop-shadow(0px 1px 2px rgba(0, 0, 0, 0.3));\n",
              "      fill: #FFFFFF;\n",
              "    }\n",
              "  </style>\n",
              "\n",
              "    <script>\n",
              "      const buttonEl =\n",
              "        document.querySelector('#df-7ad7c738-de25-44de-bc08-81a079cabda1 button.colab-df-convert');\n",
              "      buttonEl.style.display =\n",
              "        google.colab.kernel.accessAllowed ? 'block' : 'none';\n",
              "\n",
              "      async function convertToInteractive(key) {\n",
              "        const element = document.querySelector('#df-7ad7c738-de25-44de-bc08-81a079cabda1');\n",
              "        const dataTable =\n",
              "          await google.colab.kernel.invokeFunction('convertToInteractive',\n",
              "                                                    [key], {});\n",
              "        if (!dataTable) return;\n",
              "\n",
              "        const docLinkHtml = 'Like what you see? Visit the ' +\n",
              "          '<a target=\"_blank\" href=https://colab.research.google.com/notebooks/data_table.ipynb>data table notebook</a>'\n",
              "          + ' to learn more about interactive tables.';\n",
              "        element.innerHTML = '';\n",
              "        dataTable['output_type'] = 'display_data';\n",
              "        await google.colab.output.renderOutput(dataTable, element);\n",
              "        const docLink = document.createElement('div');\n",
              "        docLink.innerHTML = docLinkHtml;\n",
              "        element.appendChild(docLink);\n",
              "      }\n",
              "    </script>\n",
              "  </div>\n",
              "\n",
              "\n",
              "<div id=\"df-b4f5c7ec-4ead-4db0-b278-650cb6841cb4\">\n",
              "  <button class=\"colab-df-quickchart\" onclick=\"quickchart('df-b4f5c7ec-4ead-4db0-b278-650cb6841cb4')\"\n",
              "            title=\"Suggest charts\"\n",
              "            style=\"display:none;\">\n",
              "\n",
              "<svg xmlns=\"http://www.w3.org/2000/svg\" height=\"24px\"viewBox=\"0 0 24 24\"\n",
              "     width=\"24px\">\n",
              "    <g>\n",
              "        <path d=\"M19 3H5c-1.1 0-2 .9-2 2v14c0 1.1.9 2 2 2h14c1.1 0 2-.9 2-2V5c0-1.1-.9-2-2-2zM9 17H7v-7h2v7zm4 0h-2V7h2v10zm4 0h-2v-4h2v4z\"/>\n",
              "    </g>\n",
              "</svg>\n",
              "  </button>\n",
              "\n",
              "<style>\n",
              "  .colab-df-quickchart {\n",
              "      --bg-color: #E8F0FE;\n",
              "      --fill-color: #1967D2;\n",
              "      --hover-bg-color: #E2EBFA;\n",
              "      --hover-fill-color: #174EA6;\n",
              "      --disabled-fill-color: #AAA;\n",
              "      --disabled-bg-color: #DDD;\n",
              "  }\n",
              "\n",
              "  [theme=dark] .colab-df-quickchart {\n",
              "      --bg-color: #3B4455;\n",
              "      --fill-color: #D2E3FC;\n",
              "      --hover-bg-color: #434B5C;\n",
              "      --hover-fill-color: #FFFFFF;\n",
              "      --disabled-bg-color: #3B4455;\n",
              "      --disabled-fill-color: #666;\n",
              "  }\n",
              "\n",
              "  .colab-df-quickchart {\n",
              "    background-color: var(--bg-color);\n",
              "    border: none;\n",
              "    border-radius: 50%;\n",
              "    cursor: pointer;\n",
              "    display: none;\n",
              "    fill: var(--fill-color);\n",
              "    height: 32px;\n",
              "    padding: 0;\n",
              "    width: 32px;\n",
              "  }\n",
              "\n",
              "  .colab-df-quickchart:hover {\n",
              "    background-color: var(--hover-bg-color);\n",
              "    box-shadow: 0 1px 2px rgba(60, 64, 67, 0.3), 0 1px 3px 1px rgba(60, 64, 67, 0.15);\n",
              "    fill: var(--button-hover-fill-color);\n",
              "  }\n",
              "\n",
              "  .colab-df-quickchart-complete:disabled,\n",
              "  .colab-df-quickchart-complete:disabled:hover {\n",
              "    background-color: var(--disabled-bg-color);\n",
              "    fill: var(--disabled-fill-color);\n",
              "    box-shadow: none;\n",
              "  }\n",
              "\n",
              "  .colab-df-spinner {\n",
              "    border: 2px solid var(--fill-color);\n",
              "    border-color: transparent;\n",
              "    border-bottom-color: var(--fill-color);\n",
              "    animation:\n",
              "      spin 1s steps(1) infinite;\n",
              "  }\n",
              "\n",
              "  @keyframes spin {\n",
              "    0% {\n",
              "      border-color: transparent;\n",
              "      border-bottom-color: var(--fill-color);\n",
              "      border-left-color: var(--fill-color);\n",
              "    }\n",
              "    20% {\n",
              "      border-color: transparent;\n",
              "      border-left-color: var(--fill-color);\n",
              "      border-top-color: var(--fill-color);\n",
              "    }\n",
              "    30% {\n",
              "      border-color: transparent;\n",
              "      border-left-color: var(--fill-color);\n",
              "      border-top-color: var(--fill-color);\n",
              "      border-right-color: var(--fill-color);\n",
              "    }\n",
              "    40% {\n",
              "      border-color: transparent;\n",
              "      border-right-color: var(--fill-color);\n",
              "      border-top-color: var(--fill-color);\n",
              "    }\n",
              "    60% {\n",
              "      border-color: transparent;\n",
              "      border-right-color: var(--fill-color);\n",
              "    }\n",
              "    80% {\n",
              "      border-color: transparent;\n",
              "      border-right-color: var(--fill-color);\n",
              "      border-bottom-color: var(--fill-color);\n",
              "    }\n",
              "    90% {\n",
              "      border-color: transparent;\n",
              "      border-bottom-color: var(--fill-color);\n",
              "    }\n",
              "  }\n",
              "</style>\n",
              "\n",
              "  <script>\n",
              "    async function quickchart(key) {\n",
              "      const quickchartButtonEl =\n",
              "        document.querySelector('#' + key + ' button');\n",
              "      quickchartButtonEl.disabled = true;  // To prevent multiple clicks.\n",
              "      quickchartButtonEl.classList.add('colab-df-spinner');\n",
              "      try {\n",
              "        const charts = await google.colab.kernel.invokeFunction(\n",
              "            'suggestCharts', [key], {});\n",
              "      } catch (error) {\n",
              "        console.error('Error during call to suggestCharts:', error);\n",
              "      }\n",
              "      quickchartButtonEl.classList.remove('colab-df-spinner');\n",
              "      quickchartButtonEl.classList.add('colab-df-quickchart-complete');\n",
              "    }\n",
              "    (() => {\n",
              "      let quickchartButtonEl =\n",
              "        document.querySelector('#df-b4f5c7ec-4ead-4db0-b278-650cb6841cb4 button');\n",
              "      quickchartButtonEl.style.display =\n",
              "        google.colab.kernel.accessAllowed ? 'block' : 'none';\n",
              "    })();\n",
              "  </script>\n",
              "</div>\n",
              "\n",
              "    </div>\n",
              "  </div>\n"
            ],
            "application/vnd.google.colaboratory.intrinsic+json": {
              "type": "dataframe",
              "variable_name": "df",
              "summary": "{\n  \"name\": \"df\",\n  \"rows\": 10000,\n  \"fields\": [\n    {\n      \"column\": \"headlines\",\n      \"properties\": {\n        \"dtype\": \"string\",\n        \"num_unique_values\": 9987,\n        \"samples\": [\n          \"With improved serve and mental resolve, Aryna Sabalenka wins maiden Grand Slam title at Australian Open\",\n          \"Sony launches PlayStation VR2 headset in India, and it\\u2019s not cheap\",\n          \"14 Banaras Hindu University scholars get Prime Minister\\u2019s Research Fellowship\"\n        ],\n        \"semantic_type\": \"\",\n        \"description\": \"\"\n      }\n    },\n    {\n      \"column\": \"description\",\n      \"properties\": {\n        \"dtype\": \"string\",\n        \"num_unique_values\": 9978,\n        \"samples\": [\n          \"Tata Motors posted a profit of Rs 3,783 crore for the quarter ended September 2023 as against a loss of Rs 1,004 crore in the same period a year ago.\",\n          \"Among major markets, the UK led with 16.1 per cent growth, whereas segments such as life sciences and healthcare witnessed 10.1 per cent growth, and manufacturing saw 9.4 per cent rise, TCS said.\",\n          \"The figure could soar on Tuesday, the deadline day, as several clubs are frantically negotiating with players\\u2019 agents before the shutters roll on the window.\"\n        ],\n        \"semantic_type\": \"\",\n        \"description\": \"\"\n      }\n    },\n    {\n      \"column\": \"content\",\n      \"properties\": {\n        \"dtype\": \"string\",\n        \"num_unique_values\": 9991,\n        \"samples\": [\n          \"Aviation safety regulator Directorate General of Civil Aviation (DGCA) on Saturday directed Akasa Air, Air India Express, and SpiceJet to conduct a \\u201cone-time inspection\\u201d of emergency exits on all Boeing 737 MAX-8 aircraft in their fleet by Sunday noon as an \\u201cabundant precautionary measure\\u201d following an incident involving an Alaska Airlines 737 MAX-9 in the United States (US). At present, over 40 Boeing 737 MAX-8 planes are in operation across these three carriers in India, while there are no 737 MAX-9 aircraft in the fleet of any Indian airline.\\nRead Also | Alaska Airlines flight scare: DGCA asks Indian carriers to check emergency exits of Boeing 737-8 Max planes\\n\\u201cPursuant to the Alaska Airlines incident involving Boeing 737-9 MAX aircraft, there have been no inputs/guidance from Boeing so far. None of the Indian air operators have Boeing 737-9 MAX as part of their fleet yet. However, as an abundant precautionary measure, DGCA has directed all the Indian air operators to carry out a one-time inspection of the emergency exits immediately on all Boeing 737-8 MAX aircraft currently operating as part of their fleet,\\u201d a top DGCA official said. The DGCA asked for the inspections to be held during the aircraft\\u2019s night halts so that flight schedules are not affected.\\nThe carriers said that they are in touch with Boeing to get more information on the Alaska Airlines incident. They said that they will comply with the DGCA\\u2019s directive on the one-time inspection of emergency exits.\\nADVERTISEMENT\\nOn Friday, an Alaska Airlines 737 MAX-9 plane operating a flight between Portland and Ontario (in California) made an emergency landing soon after take-off after a mid-air window blowout that led to a section of the fuselage also breaking away, causing decompression in the cabin. All the 171 passengers and six crew on board the aircraft returned safely. Following the incident, Alaska Airlines has temporarily grounded all of its 737 MAX-9 planes.\\n\\ud83d\\udea8#BREAKING: Alaska Airlines Forced to Make an Emergency Landing After Large Aircraft Window Blows Out Mid-Air \\u2070\\u2070\\ud83d\\udccc#Portland | #Oregon\\n\\u2070A Forced emergency landing was made of Alaska Airlines Flight 1282 at Portland International Airport on Friday night. The flight, traveling\\u2026 pic.twitter.com/nt0FwmPALE\\n\\u2014 R A W S A L E R T S (@rawsalerts) January 6, 2024\\nOn Saturday, the American aviation regulator Federal Aviation Administration (FAA) said that it will order temporary grounding of certain 737 MAX-9 aircraft operated by US airlines or in US territory, and they will be allowed to take to the skies again only after being inspected by operators. The inspection is likely to take four to eight hours per plane. This decision is expected to affect 171 aircraft.\\n\\u201cFollowing tonight\\u2019s event on Flight 1282, we have decided to take the precautionary step of temporarily grounding our fleet of 65 Boeing 737-9 aircraft. Each aircraft will be returned to service only after completion of full maintenance and safety inspections. We anticipate all inspections will be completed in the next few days,\\u201d Ben Minicucci, chief executive officer of Alaska Airlines, said in a statement after the incident.\\nAlso Read | Explained: Why India has allowed Boeing 737 Max planes to fly again\\n\\u201cWe are working with Boeing and regulators to understand what occurred tonight, and will share updates as more information is available. The NTSB (National Transportation Safety Board of the US) is investigating this event and we will fully support their investigation,\\u201d Minicucci said.\\nADVERTISEMENT\\nIn a post on X (formerly Twitter), Boeing said, \\u201cWe are aware of the incident involving Alaska Airlines Flight #AS1282. We are working to gather more information and are in contact with our airline customer. A Boeing technical team stands ready to support the investigation\\u201d. The incident comes a few days after Boeing asked 737 MAX operators to carry out inspections after a loose bolt was found in the rudder control system of one of the planes. Rudders are vertical flight control surfaces on the tail of the aircraft and are primarily used to change the airplane\\u2019s yaw, or vertical axis rotation.\\n\\u201cWe are aware of the recent incident involving a Boeing aircraft of Alaska Air. The aircraft involved is a different variant from the B737-8 operated by Air India Express. We are in touch with Boeing for more information regarding this, as well with our regulators and will comply with any advisory,\\u201d an Air India Express spokesperson said.\\nAn Akasa Air spokesperson said, \\u201cEven though the incident has occurred with another airline in the USA, we are in contact with the aircraft manufacturer and regulators to proactively monitor developments and will follow any guidance issued by them. We confirm that, at present, Akasa Air does not have any 737 Max-9 aircraft in its fleet which was the aircraft type involved in the incident\\u201d.\",\n          \"The European Union on Monday said it would launch an investigation of social media company X, formerly known as Twitter, over a suspected breach of obligations in its first such probe under the Digital Services Act (DSA).\\nThe DSA, which entered into force in November last year, requires very large online platforms and search engines to do more to tackle illegal content and risks to public security, and to protect their services against manipulative techniques.\\nThe proceedings will focus on countering the dissemination of illegal content in the EU, and the effectiveness of measures taken to combat information manipulation, notably of the \\u201ccommunity notes\\u201d system, the Commission said.\\nADVERTISEMENT\\nIt will also focus on the measures taken by X to increase the transparency of its platform and a suspected deceptive design of the user interface such as checkmarks linked to subscription products, the so-called Blue checks.\\nAlso Read | How to lock WhatsApp chats and protect them using secret code\\nThe Commission said it will now carry out an in-depth investigation as a matter of priority and continue to gather evidence by sending additional requests for information, conducting interviews and inspections.\\nX, owned by Elon Musk, is part of a group of large tech companies facing increased scrutiny under the DSA.\\nFollowing Hamas\\u2019 attacks on Israel on Oct. 7, EU industry chief Thierry Breton sent letters to X, Meta, TikTok and Alphabet reminding them of their obligations under the DSA to tackle harmful and illegal content.\\nADVERTISEMENT\\nThe platforms responded promptly to Breton, highlighting steps they have taken to stop disinformation on their platforms but Musk challenged Breton over the disinformation charge.\\nOnly X received a formal request for information under the DSA and has responded to the request.\\nThe Commission said a preliminary investigation conducted so far included an analysis of a report submitted by X in September, X\\u2019s transparency report published in November, and X\\u2019s replies to a formal request for information about illegal content in connection to Hamas\\u2019 attacks against Israel.\\nX did not immediately respond to Reuters requests for comment.\\nADVERTISEMENT\\nThe DSA imposes new rules on content moderation, user privacy and transparency. Any firm found in breach faces a fine worth up to 6% of its global turnover.\",\n          \"The Karnataka government on Tuesday issued a government order to constitute a State Education Policy Commission for preparation of draft Karnataka State Education Policy and has appointed former UGC chief Sukhdev Thorat as the chairman of the Commission. Thorat is also an eminent educationist, economist, professor, and a writer.\\nThe government has constituted a 15 member committee consisting of retired IAS officers, writers, professors, retired professors to draft the state education policy. In its order, the government has stated that the commission will undertake careful review of the School and Higher Education in Karnataka and will suggest policies to achieve a higher enrolment in the schools and higher education. The government has directed the commission to submit a report by February 28, 2024.\"\n        ],\n        \"semantic_type\": \"\",\n        \"description\": \"\"\n      }\n    },\n    {\n      \"column\": \"category\",\n      \"properties\": {\n        \"dtype\": \"category\",\n        \"num_unique_values\": 5,\n        \"samples\": [\n          \"education\",\n          \"technology\",\n          \"business\"\n        ],\n        \"semantic_type\": \"\",\n        \"description\": \"\"\n      }\n    }\n  ]\n}"
            }
          },
          "metadata": {},
          "execution_count": 18
        }
      ]
    },
    {
      "cell_type": "code",
      "source": [
        "def map_category(category):\n",
        "    category_map = {\n",
        "        'sports': 0,\n",
        "        'business': 1,\n",
        "        'entertainment': 2,\n",
        "        'education': 3,\n",
        "        'technology': 4\n",
        "    }\n",
        "    return category_map.get(category, -1)\n",
        "df['Category'] = df['category'].apply(map_category)"
      ],
      "metadata": {
        "id": "mr1r0zFh1vHp"
      },
      "execution_count": null,
      "outputs": []
    },
    {
      "cell_type": "code",
      "source": [
        "df.drop(columns=['category'],inplace=True)"
      ],
      "metadata": {
        "id": "fSVkJWl32qdc"
      },
      "execution_count": null,
      "outputs": []
    },
    {
      "cell_type": "code",
      "source": [
        "df.head()"
      ],
      "metadata": {
        "colab": {
          "base_uri": "https://localhost:8080/",
          "height": 206
        },
        "id": "wWH_Gn2I2s9U",
        "outputId": "ac1a84fa-4b98-41d5-b5ec-93c615dbc2e1"
      },
      "execution_count": null,
      "outputs": [
        {
          "output_type": "execute_result",
          "data": {
            "text/plain": [
              "                                           headlines  \\\n",
              "0  Mohammed Shami: Can’t doubt this Indian team a...   \n",
              "1  Bihar Board 2024 Inter exams to begin on Febru...   \n",
              "2         India mulls green power trade with SE Asia   \n",
              "3  ‘Thank you for being such an inspiration’: Aza...   \n",
              "4  Dilip Kumar was a ‘chatora’, Shabana Azmi reca...   \n",
              "\n",
              "                                         description  \\\n",
              "0  Speaking on how sure the Indian team was on it...   \n",
              "1  BSEB Bihar Board Exam Date 2024: The datesheet...   \n",
              "2  On a consolidated net box office basis, the tw...   \n",
              "3  Sania Mirza became the first Indian woman to b...   \n",
              "4  Dilip Kumar loved his spicy delicacies but his...   \n",
              "\n",
              "                                             content  Category  \n",
              "0  India’s player of the match against New Zealan...         0  \n",
              "1  Bihar Board 10th, 12th Exam Date 2024: The Bih...         3  \n",
              "2  One movie is bursting with life-size doll hous...         1  \n",
              "3  India’s Sania Mirza bid farewell to her grand ...         0  \n",
              "4  Dilip Kumar is remembered as one of the most a...         2  "
            ],
            "text/html": [
              "\n",
              "  <div id=\"df-2264e6a4-4409-46d5-a2d5-8d293052a2a6\" class=\"colab-df-container\">\n",
              "    <div>\n",
              "<style scoped>\n",
              "    .dataframe tbody tr th:only-of-type {\n",
              "        vertical-align: middle;\n",
              "    }\n",
              "\n",
              "    .dataframe tbody tr th {\n",
              "        vertical-align: top;\n",
              "    }\n",
              "\n",
              "    .dataframe thead th {\n",
              "        text-align: right;\n",
              "    }\n",
              "</style>\n",
              "<table border=\"1\" class=\"dataframe\">\n",
              "  <thead>\n",
              "    <tr style=\"text-align: right;\">\n",
              "      <th></th>\n",
              "      <th>headlines</th>\n",
              "      <th>description</th>\n",
              "      <th>content</th>\n",
              "      <th>Category</th>\n",
              "    </tr>\n",
              "  </thead>\n",
              "  <tbody>\n",
              "    <tr>\n",
              "      <th>0</th>\n",
              "      <td>Mohammed Shami: Can’t doubt this Indian team a...</td>\n",
              "      <td>Speaking on how sure the Indian team was on it...</td>\n",
              "      <td>India’s player of the match against New Zealan...</td>\n",
              "      <td>0</td>\n",
              "    </tr>\n",
              "    <tr>\n",
              "      <th>1</th>\n",
              "      <td>Bihar Board 2024 Inter exams to begin on Febru...</td>\n",
              "      <td>BSEB Bihar Board Exam Date 2024: The datesheet...</td>\n",
              "      <td>Bihar Board 10th, 12th Exam Date 2024: The Bih...</td>\n",
              "      <td>3</td>\n",
              "    </tr>\n",
              "    <tr>\n",
              "      <th>2</th>\n",
              "      <td>India mulls green power trade with SE Asia</td>\n",
              "      <td>On a consolidated net box office basis, the tw...</td>\n",
              "      <td>One movie is bursting with life-size doll hous...</td>\n",
              "      <td>1</td>\n",
              "    </tr>\n",
              "    <tr>\n",
              "      <th>3</th>\n",
              "      <td>‘Thank you for being such an inspiration’: Aza...</td>\n",
              "      <td>Sania Mirza became the first Indian woman to b...</td>\n",
              "      <td>India’s Sania Mirza bid farewell to her grand ...</td>\n",
              "      <td>0</td>\n",
              "    </tr>\n",
              "    <tr>\n",
              "      <th>4</th>\n",
              "      <td>Dilip Kumar was a ‘chatora’, Shabana Azmi reca...</td>\n",
              "      <td>Dilip Kumar loved his spicy delicacies but his...</td>\n",
              "      <td>Dilip Kumar is remembered as one of the most a...</td>\n",
              "      <td>2</td>\n",
              "    </tr>\n",
              "  </tbody>\n",
              "</table>\n",
              "</div>\n",
              "    <div class=\"colab-df-buttons\">\n",
              "\n",
              "  <div class=\"colab-df-container\">\n",
              "    <button class=\"colab-df-convert\" onclick=\"convertToInteractive('df-2264e6a4-4409-46d5-a2d5-8d293052a2a6')\"\n",
              "            title=\"Convert this dataframe to an interactive table.\"\n",
              "            style=\"display:none;\">\n",
              "\n",
              "  <svg xmlns=\"http://www.w3.org/2000/svg\" height=\"24px\" viewBox=\"0 -960 960 960\">\n",
              "    <path d=\"M120-120v-720h720v720H120Zm60-500h600v-160H180v160Zm220 220h160v-160H400v160Zm0 220h160v-160H400v160ZM180-400h160v-160H180v160Zm440 0h160v-160H620v160ZM180-180h160v-160H180v160Zm440 0h160v-160H620v160Z\"/>\n",
              "  </svg>\n",
              "    </button>\n",
              "\n",
              "  <style>\n",
              "    .colab-df-container {\n",
              "      display:flex;\n",
              "      gap: 12px;\n",
              "    }\n",
              "\n",
              "    .colab-df-convert {\n",
              "      background-color: #E8F0FE;\n",
              "      border: none;\n",
              "      border-radius: 50%;\n",
              "      cursor: pointer;\n",
              "      display: none;\n",
              "      fill: #1967D2;\n",
              "      height: 32px;\n",
              "      padding: 0 0 0 0;\n",
              "      width: 32px;\n",
              "    }\n",
              "\n",
              "    .colab-df-convert:hover {\n",
              "      background-color: #E2EBFA;\n",
              "      box-shadow: 0px 1px 2px rgba(60, 64, 67, 0.3), 0px 1px 3px 1px rgba(60, 64, 67, 0.15);\n",
              "      fill: #174EA6;\n",
              "    }\n",
              "\n",
              "    .colab-df-buttons div {\n",
              "      margin-bottom: 4px;\n",
              "    }\n",
              "\n",
              "    [theme=dark] .colab-df-convert {\n",
              "      background-color: #3B4455;\n",
              "      fill: #D2E3FC;\n",
              "    }\n",
              "\n",
              "    [theme=dark] .colab-df-convert:hover {\n",
              "      background-color: #434B5C;\n",
              "      box-shadow: 0px 1px 3px 1px rgba(0, 0, 0, 0.15);\n",
              "      filter: drop-shadow(0px 1px 2px rgba(0, 0, 0, 0.3));\n",
              "      fill: #FFFFFF;\n",
              "    }\n",
              "  </style>\n",
              "\n",
              "    <script>\n",
              "      const buttonEl =\n",
              "        document.querySelector('#df-2264e6a4-4409-46d5-a2d5-8d293052a2a6 button.colab-df-convert');\n",
              "      buttonEl.style.display =\n",
              "        google.colab.kernel.accessAllowed ? 'block' : 'none';\n",
              "\n",
              "      async function convertToInteractive(key) {\n",
              "        const element = document.querySelector('#df-2264e6a4-4409-46d5-a2d5-8d293052a2a6');\n",
              "        const dataTable =\n",
              "          await google.colab.kernel.invokeFunction('convertToInteractive',\n",
              "                                                    [key], {});\n",
              "        if (!dataTable) return;\n",
              "\n",
              "        const docLinkHtml = 'Like what you see? Visit the ' +\n",
              "          '<a target=\"_blank\" href=https://colab.research.google.com/notebooks/data_table.ipynb>data table notebook</a>'\n",
              "          + ' to learn more about interactive tables.';\n",
              "        element.innerHTML = '';\n",
              "        dataTable['output_type'] = 'display_data';\n",
              "        await google.colab.output.renderOutput(dataTable, element);\n",
              "        const docLink = document.createElement('div');\n",
              "        docLink.innerHTML = docLinkHtml;\n",
              "        element.appendChild(docLink);\n",
              "      }\n",
              "    </script>\n",
              "  </div>\n",
              "\n",
              "\n",
              "<div id=\"df-46f89e1d-cb99-4a6b-b6c7-9a4ec822226d\">\n",
              "  <button class=\"colab-df-quickchart\" onclick=\"quickchart('df-46f89e1d-cb99-4a6b-b6c7-9a4ec822226d')\"\n",
              "            title=\"Suggest charts\"\n",
              "            style=\"display:none;\">\n",
              "\n",
              "<svg xmlns=\"http://www.w3.org/2000/svg\" height=\"24px\"viewBox=\"0 0 24 24\"\n",
              "     width=\"24px\">\n",
              "    <g>\n",
              "        <path d=\"M19 3H5c-1.1 0-2 .9-2 2v14c0 1.1.9 2 2 2h14c1.1 0 2-.9 2-2V5c0-1.1-.9-2-2-2zM9 17H7v-7h2v7zm4 0h-2V7h2v10zm4 0h-2v-4h2v4z\"/>\n",
              "    </g>\n",
              "</svg>\n",
              "  </button>\n",
              "\n",
              "<style>\n",
              "  .colab-df-quickchart {\n",
              "      --bg-color: #E8F0FE;\n",
              "      --fill-color: #1967D2;\n",
              "      --hover-bg-color: #E2EBFA;\n",
              "      --hover-fill-color: #174EA6;\n",
              "      --disabled-fill-color: #AAA;\n",
              "      --disabled-bg-color: #DDD;\n",
              "  }\n",
              "\n",
              "  [theme=dark] .colab-df-quickchart {\n",
              "      --bg-color: #3B4455;\n",
              "      --fill-color: #D2E3FC;\n",
              "      --hover-bg-color: #434B5C;\n",
              "      --hover-fill-color: #FFFFFF;\n",
              "      --disabled-bg-color: #3B4455;\n",
              "      --disabled-fill-color: #666;\n",
              "  }\n",
              "\n",
              "  .colab-df-quickchart {\n",
              "    background-color: var(--bg-color);\n",
              "    border: none;\n",
              "    border-radius: 50%;\n",
              "    cursor: pointer;\n",
              "    display: none;\n",
              "    fill: var(--fill-color);\n",
              "    height: 32px;\n",
              "    padding: 0;\n",
              "    width: 32px;\n",
              "  }\n",
              "\n",
              "  .colab-df-quickchart:hover {\n",
              "    background-color: var(--hover-bg-color);\n",
              "    box-shadow: 0 1px 2px rgba(60, 64, 67, 0.3), 0 1px 3px 1px rgba(60, 64, 67, 0.15);\n",
              "    fill: var(--button-hover-fill-color);\n",
              "  }\n",
              "\n",
              "  .colab-df-quickchart-complete:disabled,\n",
              "  .colab-df-quickchart-complete:disabled:hover {\n",
              "    background-color: var(--disabled-bg-color);\n",
              "    fill: var(--disabled-fill-color);\n",
              "    box-shadow: none;\n",
              "  }\n",
              "\n",
              "  .colab-df-spinner {\n",
              "    border: 2px solid var(--fill-color);\n",
              "    border-color: transparent;\n",
              "    border-bottom-color: var(--fill-color);\n",
              "    animation:\n",
              "      spin 1s steps(1) infinite;\n",
              "  }\n",
              "\n",
              "  @keyframes spin {\n",
              "    0% {\n",
              "      border-color: transparent;\n",
              "      border-bottom-color: var(--fill-color);\n",
              "      border-left-color: var(--fill-color);\n",
              "    }\n",
              "    20% {\n",
              "      border-color: transparent;\n",
              "      border-left-color: var(--fill-color);\n",
              "      border-top-color: var(--fill-color);\n",
              "    }\n",
              "    30% {\n",
              "      border-color: transparent;\n",
              "      border-left-color: var(--fill-color);\n",
              "      border-top-color: var(--fill-color);\n",
              "      border-right-color: var(--fill-color);\n",
              "    }\n",
              "    40% {\n",
              "      border-color: transparent;\n",
              "      border-right-color: var(--fill-color);\n",
              "      border-top-color: var(--fill-color);\n",
              "    }\n",
              "    60% {\n",
              "      border-color: transparent;\n",
              "      border-right-color: var(--fill-color);\n",
              "    }\n",
              "    80% {\n",
              "      border-color: transparent;\n",
              "      border-right-color: var(--fill-color);\n",
              "      border-bottom-color: var(--fill-color);\n",
              "    }\n",
              "    90% {\n",
              "      border-color: transparent;\n",
              "      border-bottom-color: var(--fill-color);\n",
              "    }\n",
              "  }\n",
              "</style>\n",
              "\n",
              "  <script>\n",
              "    async function quickchart(key) {\n",
              "      const quickchartButtonEl =\n",
              "        document.querySelector('#' + key + ' button');\n",
              "      quickchartButtonEl.disabled = true;  // To prevent multiple clicks.\n",
              "      quickchartButtonEl.classList.add('colab-df-spinner');\n",
              "      try {\n",
              "        const charts = await google.colab.kernel.invokeFunction(\n",
              "            'suggestCharts', [key], {});\n",
              "      } catch (error) {\n",
              "        console.error('Error during call to suggestCharts:', error);\n",
              "      }\n",
              "      quickchartButtonEl.classList.remove('colab-df-spinner');\n",
              "      quickchartButtonEl.classList.add('colab-df-quickchart-complete');\n",
              "    }\n",
              "    (() => {\n",
              "      let quickchartButtonEl =\n",
              "        document.querySelector('#df-46f89e1d-cb99-4a6b-b6c7-9a4ec822226d button');\n",
              "      quickchartButtonEl.style.display =\n",
              "        google.colab.kernel.accessAllowed ? 'block' : 'none';\n",
              "    })();\n",
              "  </script>\n",
              "</div>\n",
              "\n",
              "    </div>\n",
              "  </div>\n"
            ],
            "application/vnd.google.colaboratory.intrinsic+json": {
              "type": "dataframe",
              "variable_name": "df",
              "summary": "{\n  \"name\": \"df\",\n  \"rows\": 10000,\n  \"fields\": [\n    {\n      \"column\": \"headlines\",\n      \"properties\": {\n        \"dtype\": \"string\",\n        \"num_unique_values\": 9987,\n        \"samples\": [\n          \"With improved serve and mental resolve, Aryna Sabalenka wins maiden Grand Slam title at Australian Open\",\n          \"Sony launches PlayStation VR2 headset in India, and it\\u2019s not cheap\",\n          \"14 Banaras Hindu University scholars get Prime Minister\\u2019s Research Fellowship\"\n        ],\n        \"semantic_type\": \"\",\n        \"description\": \"\"\n      }\n    },\n    {\n      \"column\": \"description\",\n      \"properties\": {\n        \"dtype\": \"string\",\n        \"num_unique_values\": 9978,\n        \"samples\": [\n          \"Tata Motors posted a profit of Rs 3,783 crore for the quarter ended September 2023 as against a loss of Rs 1,004 crore in the same period a year ago.\",\n          \"Among major markets, the UK led with 16.1 per cent growth, whereas segments such as life sciences and healthcare witnessed 10.1 per cent growth, and manufacturing saw 9.4 per cent rise, TCS said.\",\n          \"The figure could soar on Tuesday, the deadline day, as several clubs are frantically negotiating with players\\u2019 agents before the shutters roll on the window.\"\n        ],\n        \"semantic_type\": \"\",\n        \"description\": \"\"\n      }\n    },\n    {\n      \"column\": \"content\",\n      \"properties\": {\n        \"dtype\": \"string\",\n        \"num_unique_values\": 9991,\n        \"samples\": [\n          \"Aviation safety regulator Directorate General of Civil Aviation (DGCA) on Saturday directed Akasa Air, Air India Express, and SpiceJet to conduct a \\u201cone-time inspection\\u201d of emergency exits on all Boeing 737 MAX-8 aircraft in their fleet by Sunday noon as an \\u201cabundant precautionary measure\\u201d following an incident involving an Alaska Airlines 737 MAX-9 in the United States (US). At present, over 40 Boeing 737 MAX-8 planes are in operation across these three carriers in India, while there are no 737 MAX-9 aircraft in the fleet of any Indian airline.\\nRead Also | Alaska Airlines flight scare: DGCA asks Indian carriers to check emergency exits of Boeing 737-8 Max planes\\n\\u201cPursuant to the Alaska Airlines incident involving Boeing 737-9 MAX aircraft, there have been no inputs/guidance from Boeing so far. None of the Indian air operators have Boeing 737-9 MAX as part of their fleet yet. However, as an abundant precautionary measure, DGCA has directed all the Indian air operators to carry out a one-time inspection of the emergency exits immediately on all Boeing 737-8 MAX aircraft currently operating as part of their fleet,\\u201d a top DGCA official said. The DGCA asked for the inspections to be held during the aircraft\\u2019s night halts so that flight schedules are not affected.\\nThe carriers said that they are in touch with Boeing to get more information on the Alaska Airlines incident. They said that they will comply with the DGCA\\u2019s directive on the one-time inspection of emergency exits.\\nADVERTISEMENT\\nOn Friday, an Alaska Airlines 737 MAX-9 plane operating a flight between Portland and Ontario (in California) made an emergency landing soon after take-off after a mid-air window blowout that led to a section of the fuselage also breaking away, causing decompression in the cabin. All the 171 passengers and six crew on board the aircraft returned safely. Following the incident, Alaska Airlines has temporarily grounded all of its 737 MAX-9 planes.\\n\\ud83d\\udea8#BREAKING: Alaska Airlines Forced to Make an Emergency Landing After Large Aircraft Window Blows Out Mid-Air \\u2070\\u2070\\ud83d\\udccc#Portland | #Oregon\\n\\u2070A Forced emergency landing was made of Alaska Airlines Flight 1282 at Portland International Airport on Friday night. The flight, traveling\\u2026 pic.twitter.com/nt0FwmPALE\\n\\u2014 R A W S A L E R T S (@rawsalerts) January 6, 2024\\nOn Saturday, the American aviation regulator Federal Aviation Administration (FAA) said that it will order temporary grounding of certain 737 MAX-9 aircraft operated by US airlines or in US territory, and they will be allowed to take to the skies again only after being inspected by operators. The inspection is likely to take four to eight hours per plane. This decision is expected to affect 171 aircraft.\\n\\u201cFollowing tonight\\u2019s event on Flight 1282, we have decided to take the precautionary step of temporarily grounding our fleet of 65 Boeing 737-9 aircraft. Each aircraft will be returned to service only after completion of full maintenance and safety inspections. We anticipate all inspections will be completed in the next few days,\\u201d Ben Minicucci, chief executive officer of Alaska Airlines, said in a statement after the incident.\\nAlso Read | Explained: Why India has allowed Boeing 737 Max planes to fly again\\n\\u201cWe are working with Boeing and regulators to understand what occurred tonight, and will share updates as more information is available. The NTSB (National Transportation Safety Board of the US) is investigating this event and we will fully support their investigation,\\u201d Minicucci said.\\nADVERTISEMENT\\nIn a post on X (formerly Twitter), Boeing said, \\u201cWe are aware of the incident involving Alaska Airlines Flight #AS1282. We are working to gather more information and are in contact with our airline customer. A Boeing technical team stands ready to support the investigation\\u201d. The incident comes a few days after Boeing asked 737 MAX operators to carry out inspections after a loose bolt was found in the rudder control system of one of the planes. Rudders are vertical flight control surfaces on the tail of the aircraft and are primarily used to change the airplane\\u2019s yaw, or vertical axis rotation.\\n\\u201cWe are aware of the recent incident involving a Boeing aircraft of Alaska Air. The aircraft involved is a different variant from the B737-8 operated by Air India Express. We are in touch with Boeing for more information regarding this, as well with our regulators and will comply with any advisory,\\u201d an Air India Express spokesperson said.\\nAn Akasa Air spokesperson said, \\u201cEven though the incident has occurred with another airline in the USA, we are in contact with the aircraft manufacturer and regulators to proactively monitor developments and will follow any guidance issued by them. We confirm that, at present, Akasa Air does not have any 737 Max-9 aircraft in its fleet which was the aircraft type involved in the incident\\u201d.\",\n          \"The European Union on Monday said it would launch an investigation of social media company X, formerly known as Twitter, over a suspected breach of obligations in its first such probe under the Digital Services Act (DSA).\\nThe DSA, which entered into force in November last year, requires very large online platforms and search engines to do more to tackle illegal content and risks to public security, and to protect their services against manipulative techniques.\\nThe proceedings will focus on countering the dissemination of illegal content in the EU, and the effectiveness of measures taken to combat information manipulation, notably of the \\u201ccommunity notes\\u201d system, the Commission said.\\nADVERTISEMENT\\nIt will also focus on the measures taken by X to increase the transparency of its platform and a suspected deceptive design of the user interface such as checkmarks linked to subscription products, the so-called Blue checks.\\nAlso Read | How to lock WhatsApp chats and protect them using secret code\\nThe Commission said it will now carry out an in-depth investigation as a matter of priority and continue to gather evidence by sending additional requests for information, conducting interviews and inspections.\\nX, owned by Elon Musk, is part of a group of large tech companies facing increased scrutiny under the DSA.\\nFollowing Hamas\\u2019 attacks on Israel on Oct. 7, EU industry chief Thierry Breton sent letters to X, Meta, TikTok and Alphabet reminding them of their obligations under the DSA to tackle harmful and illegal content.\\nADVERTISEMENT\\nThe platforms responded promptly to Breton, highlighting steps they have taken to stop disinformation on their platforms but Musk challenged Breton over the disinformation charge.\\nOnly X received a formal request for information under the DSA and has responded to the request.\\nThe Commission said a preliminary investigation conducted so far included an analysis of a report submitted by X in September, X\\u2019s transparency report published in November, and X\\u2019s replies to a formal request for information about illegal content in connection to Hamas\\u2019 attacks against Israel.\\nX did not immediately respond to Reuters requests for comment.\\nADVERTISEMENT\\nThe DSA imposes new rules on content moderation, user privacy and transparency. Any firm found in breach faces a fine worth up to 6% of its global turnover.\",\n          \"The Karnataka government on Tuesday issued a government order to constitute a State Education Policy Commission for preparation of draft Karnataka State Education Policy and has appointed former UGC chief Sukhdev Thorat as the chairman of the Commission. Thorat is also an eminent educationist, economist, professor, and a writer.\\nThe government has constituted a 15 member committee consisting of retired IAS officers, writers, professors, retired professors to draft the state education policy. In its order, the government has stated that the commission will undertake careful review of the School and Higher Education in Karnataka and will suggest policies to achieve a higher enrolment in the schools and higher education. The government has directed the commission to submit a report by February 28, 2024.\"\n        ],\n        \"semantic_type\": \"\",\n        \"description\": \"\"\n      }\n    },\n    {\n      \"column\": \"Category\",\n      \"properties\": {\n        \"dtype\": \"number\",\n        \"std\": 1,\n        \"min\": 0,\n        \"max\": 4,\n        \"num_unique_values\": 5,\n        \"samples\": [\n          3,\n          4,\n          1\n        ],\n        \"semantic_type\": \"\",\n        \"description\": \"\"\n      }\n    }\n  ]\n}"
            }
          },
          "metadata": {},
          "execution_count": 21
        }
      ]
    },
    {
      "cell_type": "code",
      "source": [
        "df['Content'] = df['headlines'] + ' ' + df['description'] + ' ' + df['content']\n",
        "\n",
        "df.drop(['headlines', 'description', 'content'], axis=1, inplace=True)"
      ],
      "metadata": {
        "id": "ZqsJ_-1d2uDW"
      },
      "execution_count": null,
      "outputs": []
    },
    {
      "cell_type": "code",
      "source": [
        "df.head()"
      ],
      "metadata": {
        "colab": {
          "base_uri": "https://localhost:8080/",
          "height": 206
        },
        "id": "l9_ZSGWE2zDX",
        "outputId": "336977c6-106d-4110-d7f7-f30afab04968"
      },
      "execution_count": null,
      "outputs": [
        {
          "output_type": "execute_result",
          "data": {
            "text/plain": [
              "   Category                                            Content\n",
              "0         0  Mohammed Shami: Can’t doubt this Indian team a...\n",
              "1         3  Bihar Board 2024 Inter exams to begin on Febru...\n",
              "2         1  India mulls green power trade with SE Asia On ...\n",
              "3         0  ‘Thank you for being such an inspiration’: Aza...\n",
              "4         2  Dilip Kumar was a ‘chatora’, Shabana Azmi reca..."
            ],
            "text/html": [
              "\n",
              "  <div id=\"df-e197f7e6-98f3-4908-8282-db60ab6753d5\" class=\"colab-df-container\">\n",
              "    <div>\n",
              "<style scoped>\n",
              "    .dataframe tbody tr th:only-of-type {\n",
              "        vertical-align: middle;\n",
              "    }\n",
              "\n",
              "    .dataframe tbody tr th {\n",
              "        vertical-align: top;\n",
              "    }\n",
              "\n",
              "    .dataframe thead th {\n",
              "        text-align: right;\n",
              "    }\n",
              "</style>\n",
              "<table border=\"1\" class=\"dataframe\">\n",
              "  <thead>\n",
              "    <tr style=\"text-align: right;\">\n",
              "      <th></th>\n",
              "      <th>Category</th>\n",
              "      <th>Content</th>\n",
              "    </tr>\n",
              "  </thead>\n",
              "  <tbody>\n",
              "    <tr>\n",
              "      <th>0</th>\n",
              "      <td>0</td>\n",
              "      <td>Mohammed Shami: Can’t doubt this Indian team a...</td>\n",
              "    </tr>\n",
              "    <tr>\n",
              "      <th>1</th>\n",
              "      <td>3</td>\n",
              "      <td>Bihar Board 2024 Inter exams to begin on Febru...</td>\n",
              "    </tr>\n",
              "    <tr>\n",
              "      <th>2</th>\n",
              "      <td>1</td>\n",
              "      <td>India mulls green power trade with SE Asia On ...</td>\n",
              "    </tr>\n",
              "    <tr>\n",
              "      <th>3</th>\n",
              "      <td>0</td>\n",
              "      <td>‘Thank you for being such an inspiration’: Aza...</td>\n",
              "    </tr>\n",
              "    <tr>\n",
              "      <th>4</th>\n",
              "      <td>2</td>\n",
              "      <td>Dilip Kumar was a ‘chatora’, Shabana Azmi reca...</td>\n",
              "    </tr>\n",
              "  </tbody>\n",
              "</table>\n",
              "</div>\n",
              "    <div class=\"colab-df-buttons\">\n",
              "\n",
              "  <div class=\"colab-df-container\">\n",
              "    <button class=\"colab-df-convert\" onclick=\"convertToInteractive('df-e197f7e6-98f3-4908-8282-db60ab6753d5')\"\n",
              "            title=\"Convert this dataframe to an interactive table.\"\n",
              "            style=\"display:none;\">\n",
              "\n",
              "  <svg xmlns=\"http://www.w3.org/2000/svg\" height=\"24px\" viewBox=\"0 -960 960 960\">\n",
              "    <path d=\"M120-120v-720h720v720H120Zm60-500h600v-160H180v160Zm220 220h160v-160H400v160Zm0 220h160v-160H400v160ZM180-400h160v-160H180v160Zm440 0h160v-160H620v160ZM180-180h160v-160H180v160Zm440 0h160v-160H620v160Z\"/>\n",
              "  </svg>\n",
              "    </button>\n",
              "\n",
              "  <style>\n",
              "    .colab-df-container {\n",
              "      display:flex;\n",
              "      gap: 12px;\n",
              "    }\n",
              "\n",
              "    .colab-df-convert {\n",
              "      background-color: #E8F0FE;\n",
              "      border: none;\n",
              "      border-radius: 50%;\n",
              "      cursor: pointer;\n",
              "      display: none;\n",
              "      fill: #1967D2;\n",
              "      height: 32px;\n",
              "      padding: 0 0 0 0;\n",
              "      width: 32px;\n",
              "    }\n",
              "\n",
              "    .colab-df-convert:hover {\n",
              "      background-color: #E2EBFA;\n",
              "      box-shadow: 0px 1px 2px rgba(60, 64, 67, 0.3), 0px 1px 3px 1px rgba(60, 64, 67, 0.15);\n",
              "      fill: #174EA6;\n",
              "    }\n",
              "\n",
              "    .colab-df-buttons div {\n",
              "      margin-bottom: 4px;\n",
              "    }\n",
              "\n",
              "    [theme=dark] .colab-df-convert {\n",
              "      background-color: #3B4455;\n",
              "      fill: #D2E3FC;\n",
              "    }\n",
              "\n",
              "    [theme=dark] .colab-df-convert:hover {\n",
              "      background-color: #434B5C;\n",
              "      box-shadow: 0px 1px 3px 1px rgba(0, 0, 0, 0.15);\n",
              "      filter: drop-shadow(0px 1px 2px rgba(0, 0, 0, 0.3));\n",
              "      fill: #FFFFFF;\n",
              "    }\n",
              "  </style>\n",
              "\n",
              "    <script>\n",
              "      const buttonEl =\n",
              "        document.querySelector('#df-e197f7e6-98f3-4908-8282-db60ab6753d5 button.colab-df-convert');\n",
              "      buttonEl.style.display =\n",
              "        google.colab.kernel.accessAllowed ? 'block' : 'none';\n",
              "\n",
              "      async function convertToInteractive(key) {\n",
              "        const element = document.querySelector('#df-e197f7e6-98f3-4908-8282-db60ab6753d5');\n",
              "        const dataTable =\n",
              "          await google.colab.kernel.invokeFunction('convertToInteractive',\n",
              "                                                    [key], {});\n",
              "        if (!dataTable) return;\n",
              "\n",
              "        const docLinkHtml = 'Like what you see? Visit the ' +\n",
              "          '<a target=\"_blank\" href=https://colab.research.google.com/notebooks/data_table.ipynb>data table notebook</a>'\n",
              "          + ' to learn more about interactive tables.';\n",
              "        element.innerHTML = '';\n",
              "        dataTable['output_type'] = 'display_data';\n",
              "        await google.colab.output.renderOutput(dataTable, element);\n",
              "        const docLink = document.createElement('div');\n",
              "        docLink.innerHTML = docLinkHtml;\n",
              "        element.appendChild(docLink);\n",
              "      }\n",
              "    </script>\n",
              "  </div>\n",
              "\n",
              "\n",
              "<div id=\"df-4462cb92-5de2-455b-8c30-dd37b4548a1b\">\n",
              "  <button class=\"colab-df-quickchart\" onclick=\"quickchart('df-4462cb92-5de2-455b-8c30-dd37b4548a1b')\"\n",
              "            title=\"Suggest charts\"\n",
              "            style=\"display:none;\">\n",
              "\n",
              "<svg xmlns=\"http://www.w3.org/2000/svg\" height=\"24px\"viewBox=\"0 0 24 24\"\n",
              "     width=\"24px\">\n",
              "    <g>\n",
              "        <path d=\"M19 3H5c-1.1 0-2 .9-2 2v14c0 1.1.9 2 2 2h14c1.1 0 2-.9 2-2V5c0-1.1-.9-2-2-2zM9 17H7v-7h2v7zm4 0h-2V7h2v10zm4 0h-2v-4h2v4z\"/>\n",
              "    </g>\n",
              "</svg>\n",
              "  </button>\n",
              "\n",
              "<style>\n",
              "  .colab-df-quickchart {\n",
              "      --bg-color: #E8F0FE;\n",
              "      --fill-color: #1967D2;\n",
              "      --hover-bg-color: #E2EBFA;\n",
              "      --hover-fill-color: #174EA6;\n",
              "      --disabled-fill-color: #AAA;\n",
              "      --disabled-bg-color: #DDD;\n",
              "  }\n",
              "\n",
              "  [theme=dark] .colab-df-quickchart {\n",
              "      --bg-color: #3B4455;\n",
              "      --fill-color: #D2E3FC;\n",
              "      --hover-bg-color: #434B5C;\n",
              "      --hover-fill-color: #FFFFFF;\n",
              "      --disabled-bg-color: #3B4455;\n",
              "      --disabled-fill-color: #666;\n",
              "  }\n",
              "\n",
              "  .colab-df-quickchart {\n",
              "    background-color: var(--bg-color);\n",
              "    border: none;\n",
              "    border-radius: 50%;\n",
              "    cursor: pointer;\n",
              "    display: none;\n",
              "    fill: var(--fill-color);\n",
              "    height: 32px;\n",
              "    padding: 0;\n",
              "    width: 32px;\n",
              "  }\n",
              "\n",
              "  .colab-df-quickchart:hover {\n",
              "    background-color: var(--hover-bg-color);\n",
              "    box-shadow: 0 1px 2px rgba(60, 64, 67, 0.3), 0 1px 3px 1px rgba(60, 64, 67, 0.15);\n",
              "    fill: var(--button-hover-fill-color);\n",
              "  }\n",
              "\n",
              "  .colab-df-quickchart-complete:disabled,\n",
              "  .colab-df-quickchart-complete:disabled:hover {\n",
              "    background-color: var(--disabled-bg-color);\n",
              "    fill: var(--disabled-fill-color);\n",
              "    box-shadow: none;\n",
              "  }\n",
              "\n",
              "  .colab-df-spinner {\n",
              "    border: 2px solid var(--fill-color);\n",
              "    border-color: transparent;\n",
              "    border-bottom-color: var(--fill-color);\n",
              "    animation:\n",
              "      spin 1s steps(1) infinite;\n",
              "  }\n",
              "\n",
              "  @keyframes spin {\n",
              "    0% {\n",
              "      border-color: transparent;\n",
              "      border-bottom-color: var(--fill-color);\n",
              "      border-left-color: var(--fill-color);\n",
              "    }\n",
              "    20% {\n",
              "      border-color: transparent;\n",
              "      border-left-color: var(--fill-color);\n",
              "      border-top-color: var(--fill-color);\n",
              "    }\n",
              "    30% {\n",
              "      border-color: transparent;\n",
              "      border-left-color: var(--fill-color);\n",
              "      border-top-color: var(--fill-color);\n",
              "      border-right-color: var(--fill-color);\n",
              "    }\n",
              "    40% {\n",
              "      border-color: transparent;\n",
              "      border-right-color: var(--fill-color);\n",
              "      border-top-color: var(--fill-color);\n",
              "    }\n",
              "    60% {\n",
              "      border-color: transparent;\n",
              "      border-right-color: var(--fill-color);\n",
              "    }\n",
              "    80% {\n",
              "      border-color: transparent;\n",
              "      border-right-color: var(--fill-color);\n",
              "      border-bottom-color: var(--fill-color);\n",
              "    }\n",
              "    90% {\n",
              "      border-color: transparent;\n",
              "      border-bottom-color: var(--fill-color);\n",
              "    }\n",
              "  }\n",
              "</style>\n",
              "\n",
              "  <script>\n",
              "    async function quickchart(key) {\n",
              "      const quickchartButtonEl =\n",
              "        document.querySelector('#' + key + ' button');\n",
              "      quickchartButtonEl.disabled = true;  // To prevent multiple clicks.\n",
              "      quickchartButtonEl.classList.add('colab-df-spinner');\n",
              "      try {\n",
              "        const charts = await google.colab.kernel.invokeFunction(\n",
              "            'suggestCharts', [key], {});\n",
              "      } catch (error) {\n",
              "        console.error('Error during call to suggestCharts:', error);\n",
              "      }\n",
              "      quickchartButtonEl.classList.remove('colab-df-spinner');\n",
              "      quickchartButtonEl.classList.add('colab-df-quickchart-complete');\n",
              "    }\n",
              "    (() => {\n",
              "      let quickchartButtonEl =\n",
              "        document.querySelector('#df-4462cb92-5de2-455b-8c30-dd37b4548a1b button');\n",
              "      quickchartButtonEl.style.display =\n",
              "        google.colab.kernel.accessAllowed ? 'block' : 'none';\n",
              "    })();\n",
              "  </script>\n",
              "</div>\n",
              "\n",
              "    </div>\n",
              "  </div>\n"
            ],
            "application/vnd.google.colaboratory.intrinsic+json": {
              "type": "dataframe",
              "variable_name": "df",
              "summary": "{\n  \"name\": \"df\",\n  \"rows\": 10000,\n  \"fields\": [\n    {\n      \"column\": \"Category\",\n      \"properties\": {\n        \"dtype\": \"number\",\n        \"std\": 1,\n        \"min\": 0,\n        \"max\": 4,\n        \"num_unique_values\": 5,\n        \"samples\": [\n          3,\n          4,\n          1\n        ],\n        \"semantic_type\": \"\",\n        \"description\": \"\"\n      }\n    },\n    {\n      \"column\": \"Content\",\n      \"properties\": {\n        \"dtype\": \"string\",\n        \"num_unique_values\": 10000,\n        \"samples\": [\n          \"KGF\\u2019s ruthless gangster Yash aka Rocky bhai was once your boy-next-door lover boy who ruled box office with romantic dramas On Yash's birthday today, here's looking at how the actor went from being a daily soap actor to becoming a global box office sensation. \\u2018Rocking star Yash\\u2019, the undisputed titan of the Kannada film industry, has etched a place in the hearts of audiences. His movies are like magic \\u2013 each role he takes on is a new adventure. But before stepping into the shoes of the ruthless gangster in the KGF series, Yash was the quintessential boy-next-door lover boy on the screen.\\nAt the age of 16, he insisted on chasing his aspirations and hopped on a bus to Bengaluru, the heart of the Kannada film industry. Leaving Mysore and embarking on an unknown journey, Yash shared his past experiences of starting as an assistant director. He revealed that when he landed the job, his tasks included fetching tea and cigarettes. A week before the film shoot began, Yash found himself without a penny, having spent his days and nights in Majestic (Bengaluru)  and leaving his belongings at a friend\\u2019s house.\\nYou have exhausted your monthly limit of free stories.\\nRegister to read more stories\\nContinue With:-\\nGoogle\\nFacebook\\nEmail\\nAlready have an account? Sign in\",\n          \"\\u2018Conditions next season won\\u2019t be as favourable\\u2019: Arsene Wenger warns the Gunners before Man City clash After a break of nearly two decades, Arsenal finally have a huge opportunity to lift the coveted trophy and the former manager doesn't want them to blow it in the second half of the season. Arsenal\\u2019s hopes of winning the Premier League for the first time since 2003-04 appear to be fading after losses to Everton at Goodison Park by a score of 1-0 and Brentford by a score of 1-1 in their last two games.\\nThe Gunners still sit atop the table with a lead of three points over Manchester City with a game remaining as they prepare to host the defending champions at the Emirates Stadium tomorrow.\\nYou need a subscription to read this archive article.\\nBUY NOW\\nAlready a subscriber? Sign in\",\n          \"Jio offering upto 21GB extra data with Rs 299, Rs 749 & Rs 2999 plans Celebrating its 7th anniversary, Reliance Jio is offering additional mobile data and special discount vouchers with select plans Reliance Jio is celebrating its 7th anniversary and offering special benefits like extra mobile data and discount vouchers with select plans. The offer is valid for users who recharge between September 5 and September 30.\\nJio users who go with the Rs 299 plan, which has a validity of 28 days and offers benefits like unlimited calling, 2GB mobile data per day and 100 SMS every day will get 7GB additional mobile data.\"\n        ],\n        \"semantic_type\": \"\",\n        \"description\": \"\"\n      }\n    }\n  ]\n}"
            }
          },
          "metadata": {},
          "execution_count": 23
        }
      ]
    },
    {
      "cell_type": "code",
      "source": [
        "df['Content'][1]"
      ],
      "metadata": {
        "colab": {
          "base_uri": "https://localhost:8080/",
          "height": 144
        },
        "id": "-kXg03Pd21qn",
        "outputId": "b794698a-5f56-450b-9da1-9b867bc2051e"
      },
      "execution_count": null,
      "outputs": [
        {
          "output_type": "execute_result",
          "data": {
            "text/plain": [
              "'Bihar Board 2024 Inter exams to begin on February 1, Matric on February 15 BSEB Bihar Board Exam Date 2024: The datesheet will be available at the official BSEB website -- secondary.biharboardonline.com. Bihar Board 10th, 12th Exam Date 2024: The Bihar School Examination Board (BSEB) today announced the datesheet for Class 10 (matric) and Class 12 (Intermediate) board exams 2024 for arts, commerce and science streams. The Bihar board Class 10 theory exams will start with the mother tongue papers on February 15, 2024 and the Class 12 exams will start on February 1, 2024. The exams will be held in two shifts — one in the morning from 9:30 am to 12:45 pm, and the next in the afternoon between 2 pm and 5:15 pm.\\nThe datesheets are available at the official BSEB website — secondary.biharboardonline.com. The Bihar board Class 10 and Class 12 exams will end on February 23 and February 12 respectively.\\nRegister to continue reading this story\\nGoogle\\nFacebook\\nEmail\\nAlready have an account? Sign in'"
            ],
            "application/vnd.google.colaboratory.intrinsic+json": {
              "type": "string"
            }
          },
          "metadata": {},
          "execution_count": 24
        }
      ]
    },
    {
      "cell_type": "code",
      "source": [
        "import nltk\n",
        "nltk.download('wordnet')"
      ],
      "metadata": {
        "colab": {
          "base_uri": "https://localhost:8080/"
        },
        "id": "U9I8eHIg-OPM",
        "outputId": "bd07b64f-73bf-4def-a68c-6b0ea743d0f5"
      },
      "execution_count": null,
      "outputs": [
        {
          "output_type": "stream",
          "name": "stderr",
          "text": [
            "[nltk_data] Downloading package wordnet to /root/nltk_data...\n"
          ]
        },
        {
          "output_type": "execute_result",
          "data": {
            "text/plain": [
              "True"
            ]
          },
          "metadata": {},
          "execution_count": 25
        }
      ]
    },
    {
      "cell_type": "code",
      "source": [
        "import spacy\n",
        "import string\n",
        "from spacy.lang.en.stop_words import STOP_WORDS\n",
        "from nltk.stem import WordNetLemmatizer\n",
        "\n",
        "nlp = spacy.load(\"en_core_web_sm\")\n",
        "lemmatizer = WordNetLemmatizer()\n",
        "\n",
        "def clean_text(text):\n",
        "    text_no_namedentities = []\n",
        "    document = nlp(text)\n",
        "    ents = {e.text for e in document.ents}\n",
        "\n",
        "    for token in document:\n",
        "        if token.text not in ents:\n",
        "            text_no_namedentities.append(token.text)\n",
        "\n",
        "    text = \" \".join(text_no_namedentities).lower().strip()\n",
        "    text = text.replace(\"</br>\", \" \").replace(\"-\", \" \").replace(\"\\n\", \" \")\n",
        "    text = \"\".join([char for char in text if char not in string.punctuation and not char.isdigit()])\n",
        "    text = \" \".join([word for word in text.split() if word not in STOP_WORDS])\n",
        "    text = \" \".join([lemmatizer.lemmatize(word) for word in text.split()])\n",
        "\n",
        "    return text"
      ],
      "metadata": {
        "id": "DhRamEb78aC_"
      },
      "execution_count": null,
      "outputs": []
    },
    {
      "cell_type": "code",
      "source": [
        "df[\"Content\"] = df[\"Content\"].apply(clean_text)"
      ],
      "metadata": {
        "id": "Npzc_2cN8gBU"
      },
      "execution_count": null,
      "outputs": []
    },
    {
      "cell_type": "code",
      "source": [
        "df.to_csv('cleaned_data.csv', index=False)"
      ],
      "metadata": {
        "id": "nnYRkJOsxRwY"
      },
      "execution_count": null,
      "outputs": []
    },
    {
      "cell_type": "code",
      "source": [
        "df[\"Content\"][1]"
      ],
      "metadata": {
        "id": "exjYbdRTAt-a",
        "colab": {
          "base_uri": "https://localhost:8080/",
          "height": 90
        },
        "outputId": "23234f4a-3fbe-4544-acb6-e44079a692f2"
      },
      "execution_count": null,
      "outputs": [
        {
          "output_type": "execute_result",
          "data": {
            "text/plain": [
              "'board inter exam begin february february board exam date datesheet available official website secondarybiharboardonlinecom board th exam date school examination board announced datesheet class matric class intermediate board exam art commerce science stream board class theory exam start mother tongue paper february class exam start february exam held shift — morning pm afternoon pm pm datesheets available official website — secondarybiharboardonlinecom board class class exam end february february respectively register continue reading story google facebook email account sign'"
            ],
            "application/vnd.google.colaboratory.intrinsic+json": {
              "type": "string"
            }
          },
          "metadata": {},
          "execution_count": 32
        }
      ]
    },
    {
      "cell_type": "markdown",
      "source": [
        "# Using TF-IDF for text representation"
      ],
      "metadata": {
        "id": "_pRMYGyp4z6y"
      }
    },
    {
      "cell_type": "code",
      "source": [
        "from sklearn.feature_extraction.text import TfidfVectorizer\n",
        "\n",
        "tfidf_vectorizer = TfidfVectorizer(max_features=2000)\n",
        "tfidf_matrix = tfidf_vectorizer.fit_transform(df[\"Content\"].fillna(\"\"))\n",
        "\n",
        "tfidf_df = pd.DataFrame(tfidf_matrix.toarray(), columns=tfidf_vectorizer.get_feature_names_out())\n",
        "\n",
        "print(tfidf_df.head())"
      ],
      "metadata": {
        "colab": {
          "base_uri": "https://localhost:8080/"
        },
        "id": "NiOGoNnd32Gl",
        "outputId": "4d6fc5c4-6294-468a-f77f-73bd1f316f6b"
      },
      "execution_count": null,
      "outputs": [
        {
          "output_type": "stream",
          "name": "stdout",
          "text": [
            "   ability  able  abroad  academic  academy  access  according   account  \\\n",
            "0      0.0   0.0     0.0       0.0      0.0     0.0        0.0  0.000000   \n",
            "1      0.0   0.0     0.0       0.0      0.0     0.0        0.0  0.034248   \n",
            "2      0.0   0.0     0.0       0.0      0.0     0.0        0.0  0.000000   \n",
            "3      0.0   0.0     0.0       0.0      0.0     0.0        0.0  0.000000   \n",
            "4      0.0   0.0     0.0       0.0      0.0     0.0        0.0  0.048766   \n",
            "\n",
            "   accused  achieve  ...  xabi  yadav      year  yes  yield  york  young  \\\n",
            "0      0.0      0.0  ...   0.0    0.0  0.137601  0.0    0.0   0.0    0.0   \n",
            "1      0.0      0.0  ...   0.0    0.0  0.000000  0.0    0.0   0.0    0.0   \n",
            "2      0.0      0.0  ...   0.0    0.0  0.000000  0.0    0.0   0.0    0.0   \n",
            "3      0.0      0.0  ...   0.0    0.0  0.051596  0.0    0.0   0.0    0.0   \n",
            "4      0.0      0.0  ...   0.0    0.0  0.000000  0.0    0.0   0.0    0.0   \n",
            "\n",
            "   youth   zealand  zone  \n",
            "0    0.0  0.113955   0.0  \n",
            "1    0.0  0.000000   0.0  \n",
            "2    0.0  0.000000   0.0  \n",
            "3    0.0  0.000000   0.0  \n",
            "4    0.0  0.000000   0.0  \n",
            "\n",
            "[5 rows x 2000 columns]\n"
          ]
        }
      ]
    },
    {
      "cell_type": "code",
      "source": [
        "tfidf_df.shape"
      ],
      "metadata": {
        "colab": {
          "base_uri": "https://localhost:8080/"
        },
        "id": "3KH3fF0A5Kup",
        "outputId": "1312c3e6-3c4c-4823-f3de-e32b697b3db5"
      },
      "execution_count": null,
      "outputs": [
        {
          "output_type": "execute_result",
          "data": {
            "text/plain": [
              "(10000, 2000)"
            ]
          },
          "metadata": {},
          "execution_count": 34
        }
      ]
    },
    {
      "cell_type": "code",
      "source": [
        "tfidf_df[\"Category\"] = df[\"Category\"].values\n",
        "\n",
        "print(tfidf_df.shape)\n",
        "print(tfidf_df.head())"
      ],
      "metadata": {
        "colab": {
          "base_uri": "https://localhost:8080/"
        },
        "id": "aW0nM6gY5soI",
        "outputId": "41ec5123-e513-4f55-ace8-73e5c6c0dedb"
      },
      "execution_count": null,
      "outputs": [
        {
          "output_type": "stream",
          "name": "stdout",
          "text": [
            "(10000, 2001)\n",
            "   ability  able  abroad  academic  academy  access  according   account  \\\n",
            "0      0.0   0.0     0.0       0.0      0.0     0.0        0.0  0.000000   \n",
            "1      0.0   0.0     0.0       0.0      0.0     0.0        0.0  0.034248   \n",
            "2      0.0   0.0     0.0       0.0      0.0     0.0        0.0  0.000000   \n",
            "3      0.0   0.0     0.0       0.0      0.0     0.0        0.0  0.000000   \n",
            "4      0.0   0.0     0.0       0.0      0.0     0.0        0.0  0.048766   \n",
            "\n",
            "   accused  achieve  ...  yadav      year  yes  yield  york  young  youth  \\\n",
            "0      0.0      0.0  ...    0.0  0.137601  0.0    0.0   0.0    0.0    0.0   \n",
            "1      0.0      0.0  ...    0.0  0.000000  0.0    0.0   0.0    0.0    0.0   \n",
            "2      0.0      0.0  ...    0.0  0.000000  0.0    0.0   0.0    0.0    0.0   \n",
            "3      0.0      0.0  ...    0.0  0.051596  0.0    0.0   0.0    0.0    0.0   \n",
            "4      0.0      0.0  ...    0.0  0.000000  0.0    0.0   0.0    0.0    0.0   \n",
            "\n",
            "    zealand  zone  Category  \n",
            "0  0.113955   0.0         0  \n",
            "1  0.000000   0.0         3  \n",
            "2  0.000000   0.0         1  \n",
            "3  0.000000   0.0         0  \n",
            "4  0.000000   0.0         2  \n",
            "\n",
            "[5 rows x 2001 columns]\n"
          ]
        }
      ]
    },
    {
      "cell_type": "code",
      "source": [
        "tfidf_df.to_csv(\"tfidf_df.csv\", index=False)"
      ],
      "metadata": {
        "id": "htQU0dIP3NZL"
      },
      "execution_count": null,
      "outputs": []
    },
    {
      "cell_type": "markdown",
      "source": [
        "## Classification Models"
      ],
      "metadata": {
        "id": "xQwPnBRA9gdO"
      }
    },
    {
      "cell_type": "code",
      "source": [
        "tfidf_df = pd.read_csv(\"/content/tfidf_df.csv\")"
      ],
      "metadata": {
        "id": "CnVRWa0xFxXb"
      },
      "execution_count": null,
      "outputs": []
    },
    {
      "cell_type": "code",
      "source": [
        "from sklearn.model_selection import train_test_split\n",
        "X = tfidf_df.drop(columns=[\"Category\"])  # Features (TF-IDF)\n",
        "y = tfidf_df[\"Category\"]\n",
        "X_train, X_test, y_train, y_test = train_test_split(X, y, test_size=0.2, random_state=42, stratify=y)"
      ],
      "metadata": {
        "id": "Phh4eivU9uVX"
      },
      "execution_count": null,
      "outputs": []
    },
    {
      "cell_type": "code",
      "source": [
        "from sklearn.metrics import ( accuracy_score, precision_score, recall_score, f1_score, classification_report, confusion_matrix, roc_auc_score, log_loss)"
      ],
      "metadata": {
        "id": "WRWf5HuxAoGV"
      },
      "execution_count": null,
      "outputs": []
    },
    {
      "cell_type": "code",
      "source": [
        "import time"
      ],
      "metadata": {
        "id": "N8CKy-KtIifn"
      },
      "execution_count": null,
      "outputs": []
    },
    {
      "cell_type": "code",
      "source": [
        "import joblib"
      ],
      "metadata": {
        "id": "epcPyf2907qL"
      },
      "execution_count": null,
      "outputs": []
    },
    {
      "cell_type": "markdown",
      "source": [
        "### Logistic Regression (Multinomial)"
      ],
      "metadata": {
        "id": "h1OTwJJa9km3"
      }
    },
    {
      "cell_type": "code",
      "source": [
        "from sklearn.linear_model import LogisticRegression\n",
        "from sklearn.metrics import accuracy_score, classification_report\n",
        "\n",
        "tfidf_log_reg = LogisticRegression(multi_class=\"multinomial\", max_iter=1000)\n",
        "\n",
        "start_time = time.time()\n",
        "\n",
        "tfidf_log_reg.fit(X_train, y_train)\n",
        "\n",
        "end_time = time.time()\n",
        "tfidf_log_reg_training_time = end_time - start_time"
      ],
      "metadata": {
        "colab": {
          "base_uri": "https://localhost:8080/"
        },
        "id": "onsNKksw8QYp",
        "outputId": "14275aab-91ce-4275-cfdc-0a0c9362c392"
      },
      "execution_count": null,
      "outputs": [
        {
          "output_type": "stream",
          "name": "stderr",
          "text": [
            "/usr/local/lib/python3.11/dist-packages/sklearn/linear_model/_logistic.py:1247: FutureWarning: 'multi_class' was deprecated in version 1.5 and will be removed in 1.7. From then on, it will always use 'multinomial'. Leave it to its default value to avoid this warning.\n",
            "  warnings.warn(\n"
          ]
        }
      ]
    },
    {
      "cell_type": "code",
      "source": [
        "joblib.dump(tfidf_log_reg, 'tfidf_log_reg.pkl')"
      ],
      "metadata": {
        "colab": {
          "base_uri": "https://localhost:8080/"
        },
        "id": "qz3tO46J0-k8",
        "outputId": "5c748bd9-6856-412b-99eb-32f41fd59aa4"
      },
      "execution_count": null,
      "outputs": [
        {
          "output_type": "execute_result",
          "data": {
            "text/plain": [
              "['tfidf_log_reg.pkl']"
            ]
          },
          "metadata": {},
          "execution_count": 44
        }
      ]
    },
    {
      "cell_type": "code",
      "source": [
        "y_pred = tfidf_log_reg.predict(X_test)"
      ],
      "metadata": {
        "id": "xByAQ6OuBN8m"
      },
      "execution_count": null,
      "outputs": []
    },
    {
      "cell_type": "code",
      "source": [
        "tfidf_log_reg_accuracy = accuracy_score(y_test, y_pred)\n",
        "tfidf_log_reg_precision = precision_score(y_test, y_pred, average='weighted')\n",
        "tfidf_log_reg_recall = recall_score(y_test, y_pred, average='weighted')\n",
        "tfidf_log_reg_f1 = f1_score(y_test, y_pred, average='weighted')\n",
        "tfidf_log_reg_class_report = classification_report(y_test, y_pred)\n",
        "tfidf_log_reg_conf_matrix = confusion_matrix(y_test, y_pred)"
      ],
      "metadata": {
        "id": "FMjZ5Wr9BphK"
      },
      "execution_count": null,
      "outputs": []
    },
    {
      "cell_type": "code",
      "source": [
        "print(\"Logistic Regression Model\")\n",
        "print(f\"Accuracy: {tfidf_log_reg_accuracy}\")\n",
        "print(f\"Precision: {tfidf_log_reg_precision}\")\n",
        "print(f\"Recall: {tfidf_log_reg_recall}\")\n",
        "print(f\"F1 Score: {tfidf_log_reg_f1}\")\n",
        "print(\"Classification Report:\\n\", tfidf_log_reg_class_report)\n",
        "print(\"Confusion Matrix:\\n\", tfidf_log_reg_conf_matrix)\n",
        "print(f\"Model training time: {tfidf_log_reg_training_time:.4f} seconds\")"
      ],
      "metadata": {
        "colab": {
          "base_uri": "https://localhost:8080/"
        },
        "id": "55FrzFe8CKiz",
        "outputId": "825b3ab7-2802-4f25-a440-f635348cf8ce"
      },
      "execution_count": null,
      "outputs": [
        {
          "output_type": "stream",
          "name": "stdout",
          "text": [
            "Logistic Regression Model\n",
            "Accuracy: 0.9765\n",
            "Precision: 0.9765273503424339\n",
            "Recall: 0.9765\n",
            "F1 Score: 0.9764846515384014\n",
            "Classification Report:\n",
            "               precision    recall  f1-score   support\n",
            "\n",
            "           0       0.98      0.99      0.99       400\n",
            "           1       0.96      0.97      0.96       400\n",
            "           2       0.99      0.99      0.99       400\n",
            "           3       0.99      0.99      0.99       400\n",
            "           4       0.96      0.94      0.95       400\n",
            "\n",
            "    accuracy                           0.98      2000\n",
            "   macro avg       0.98      0.98      0.98      2000\n",
            "weighted avg       0.98      0.98      0.98      2000\n",
            "\n",
            "Confusion Matrix:\n",
            " [[397   1   1   0   1]\n",
            " [  1 387   1   1  10]\n",
            " [  4   0 395   0   1]\n",
            " [  0   0   0 396   4]\n",
            " [  3  17   0   2 378]]\n",
            "Model training time: 5.2140 seconds\n"
          ]
        }
      ]
    },
    {
      "cell_type": "markdown",
      "source": [
        "### Decision Tree Classifier"
      ],
      "metadata": {
        "id": "qsIPctaBJZ8y"
      }
    },
    {
      "cell_type": "code",
      "source": [
        "from sklearn.tree import DecisionTreeClassifier\n",
        "\n",
        "tfidf_dt = DecisionTreeClassifier(random_state=42)\n",
        "\n",
        "start_time = time.time()\n",
        "\n",
        "tfidf_dt.fit(X_train, y_train)\n",
        "\n",
        "end_time = time.time()\n",
        "tfidf_dt_training_time = end_time - start_time\n"
      ],
      "metadata": {
        "id": "1_-CWCSeCgbG"
      },
      "execution_count": null,
      "outputs": []
    },
    {
      "cell_type": "code",
      "source": [
        "joblib.dump(tfidf_dt, 'tfidf_dt.pkl')"
      ],
      "metadata": {
        "colab": {
          "base_uri": "https://localhost:8080/"
        },
        "id": "WES13Wwo1RUX",
        "outputId": "25f575eb-7af9-471a-e50c-4198f2376948"
      },
      "execution_count": null,
      "outputs": [
        {
          "output_type": "execute_result",
          "data": {
            "text/plain": [
              "['tfidf_dt.pkl']"
            ]
          },
          "metadata": {},
          "execution_count": 49
        }
      ]
    },
    {
      "cell_type": "code",
      "source": [
        "y_pred_dt = tfidf_dt.predict(X_test)"
      ],
      "metadata": {
        "id": "HnHbHOB-FEo0"
      },
      "execution_count": null,
      "outputs": []
    },
    {
      "cell_type": "code",
      "source": [
        "tfidf_dt_accuracy = accuracy_score(y_test, y_pred_dt)\n",
        "tfidf_dt_precision = precision_score(y_test, y_pred_dt, average='weighted')\n",
        "tfidf_dt_recall = recall_score(y_test, y_pred_dt, average='weighted')\n",
        "tfidf_dt_f1 = f1_score(y_test, y_pred_dt, average='weighted')\n",
        "tfidf_dt_class_report = classification_report(y_test, y_pred_dt)\n",
        "tfidf_dt_conf_matrix = confusion_matrix(y_test, y_pred_dt)\n",
        "\n",
        "print(\"Decision Tree Model\")\n",
        "print(f\"Accuracy: {tfidf_dt_accuracy}\")\n",
        "print(f\"Precision: {tfidf_dt_precision}\")\n",
        "print(f\"Recall: {tfidf_dt_recall}\")\n",
        "print(f\"F1 Score: {tfidf_dt_f1}\")\n",
        "print(\"Classification Report:\\n\", tfidf_dt_class_report)\n",
        "print(\"Confusion Matrix:\\n\", tfidf_dt_conf_matrix)\n",
        "print(f\"Model training time: {tfidf_dt_training_time:.4f} seconds\")"
      ],
      "metadata": {
        "colab": {
          "base_uri": "https://localhost:8080/"
        },
        "id": "cIdcQWnDF9dO",
        "outputId": "5ac4e52c-35b0-4fc3-c232-e53620008937"
      },
      "execution_count": null,
      "outputs": [
        {
          "output_type": "stream",
          "name": "stdout",
          "text": [
            "Decision Tree Model\n",
            "Accuracy: 0.892\n",
            "Precision: 0.8926745901817474\n",
            "Recall: 0.892\n",
            "F1 Score: 0.8921520624084526\n",
            "Classification Report:\n",
            "               precision    recall  f1-score   support\n",
            "\n",
            "           0       0.92      0.88      0.90       400\n",
            "           1       0.84      0.86      0.85       400\n",
            "           2       0.97      0.95      0.96       400\n",
            "           3       0.91      0.95      0.93       400\n",
            "           4       0.81      0.82      0.82       400\n",
            "\n",
            "    accuracy                           0.89      2000\n",
            "   macro avg       0.89      0.89      0.89      2000\n",
            "weighted avg       0.89      0.89      0.89      2000\n",
            "\n",
            "Confusion Matrix:\n",
            " [[352  14   2   7  25]\n",
            " [  8 344   1  12  35]\n",
            " [  5   0 382   3  10]\n",
            " [  7   9   0 379   5]\n",
            " [ 11  41   7  14 327]]\n",
            "Model training time: 2.8600 seconds\n"
          ]
        }
      ]
    },
    {
      "cell_type": "markdown",
      "source": [
        "### Random Forest Classsifier"
      ],
      "metadata": {
        "id": "FL5kAydxJhpC"
      }
    },
    {
      "cell_type": "code",
      "source": [
        "from sklearn.ensemble import RandomForestClassifier\n",
        "tfidf_rf_model = RandomForestClassifier(n_estimators=100, random_state=42)\n",
        "\n",
        "start_time = time.time()\n",
        "\n",
        "tfidf_rf_model.fit(X_train, y_train)\n",
        "\n",
        "end_time = time.time()\n",
        "tfidf_rf_model_training_time = end_time - start_time\n",
        "\n",
        "\n",
        "y_pred_rf = tfidf_rf_model.predict(X_test)\n",
        "\n",
        "tfidf_rf_accuracy = accuracy_score(y_test, y_pred_rf)\n",
        "tfidf_rf_precision = precision_score(y_test, y_pred_rf, average='weighted')\n",
        "tfidf_rf_recall = recall_score(y_test, y_pred_rf, average='weighted')\n",
        "tfidf_rf_f1 = f1_score(y_test, y_pred_rf, average='weighted')\n",
        "tfidf_rf_class_report = classification_report(y_test, y_pred_rf)\n",
        "tfidf_rf_conf_matrix = confusion_matrix(y_test, y_pred_rf)\n",
        "\n",
        "print(\"Random Forest Model\")\n",
        "print(f\"Accuracy: {tfidf_rf_accuracy}\")\n",
        "print(f\"Precision: {tfidf_rf_precision}\")\n",
        "print(f\"Recall: {tfidf_rf_recall}\")\n",
        "print(f\"F1 Score: {tfidf_rf_f1}\")\n",
        "print(\"Classification Report:\\n\", tfidf_rf_class_report)\n",
        "print(\"Confusion Matrix:\\n\", tfidf_rf_conf_matrix)\n",
        "print(f\"Model training time: {tfidf_rf_model_training_time:.4f} seconds\")"
      ],
      "metadata": {
        "colab": {
          "base_uri": "https://localhost:8080/"
        },
        "id": "ks8xvvCDHbTA",
        "outputId": "83f54c44-cd66-4fe9-f3a0-789c30d33aa9"
      },
      "execution_count": null,
      "outputs": [
        {
          "output_type": "stream",
          "name": "stdout",
          "text": [
            "Random Forest Model\n",
            "Accuracy: 0.971\n",
            "Precision: 0.97111870335843\n",
            "Recall: 0.971\n",
            "F1 Score: 0.9710034676578637\n",
            "Classification Report:\n",
            "               precision    recall  f1-score   support\n",
            "\n",
            "           0       0.98      0.98      0.98       400\n",
            "           1       0.95      0.97      0.96       400\n",
            "           2       1.00      0.98      0.99       400\n",
            "           3       0.98      1.00      0.99       400\n",
            "           4       0.94      0.94      0.94       400\n",
            "\n",
            "    accuracy                           0.97      2000\n",
            "   macro avg       0.97      0.97      0.97      2000\n",
            "weighted avg       0.97      0.97      0.97      2000\n",
            "\n",
            "Confusion Matrix:\n",
            " [[391   3   0   1   5]\n",
            " [  1 387   0   2  10]\n",
            " [  1   0 391   1   7]\n",
            " [  1   0   0 399   0]\n",
            " [  4  18   1   3 374]]\n",
            "Model training time: 5.9196 seconds\n"
          ]
        }
      ]
    },
    {
      "cell_type": "code",
      "source": [
        "joblib.dump(tfidf_rf_model, 'tfidf_rf_model.pkl')"
      ],
      "metadata": {
        "colab": {
          "base_uri": "https://localhost:8080/"
        },
        "id": "m-ZmbCyK1fKI",
        "outputId": "2433a25e-d798-462d-a13d-684061e830c9"
      },
      "execution_count": null,
      "outputs": [
        {
          "output_type": "execute_result",
          "data": {
            "text/plain": [
              "['tfidf_rf_model.pkl']"
            ]
          },
          "metadata": {},
          "execution_count": 53
        }
      ]
    },
    {
      "cell_type": "markdown",
      "source": [
        "### Multinomial Naive Bayes"
      ],
      "metadata": {
        "id": "c359U2PPKXCE"
      }
    },
    {
      "cell_type": "code",
      "source": [
        "from sklearn.naive_bayes import MultinomialNB\n",
        "\n",
        "tfidf_nb_model = MultinomialNB()\n",
        "\n",
        "start_time = time.time()\n",
        "\n",
        "tfidf_nb_model.fit(X_train, y_train)\n",
        "\n",
        "end_time = time.time()\n",
        "tfidf_nb_model_training_time = end_time - start_time\n",
        "\n",
        "y_pred_nb = tfidf_nb_model.predict(X_test)\n",
        "\n",
        "tfidf_nb_accuracy = accuracy_score(y_test, y_pred_nb)\n",
        "tfidf_nb_precision = precision_score(y_test, y_pred_nb, average='weighted')\n",
        "tfidf_nb_recall = recall_score(y_test, y_pred_nb, average='weighted')\n",
        "tfidf_nb_f1 = f1_score(y_test, y_pred_nb, average='weighted')\n",
        "tfidf_nb_class_report = classification_report(y_test, y_pred_nb)\n",
        "tfidf_nb_conf_matrix = confusion_matrix(y_test, y_pred_nb)\n",
        "\n",
        "print(\"Multinomial Naive Bayes Model\")\n",
        "print(f\"Accuracy: {tfidf_nb_accuracy}\")\n",
        "print(f\"Precision: {tfidf_nb_precision}\")\n",
        "print(f\"Recall: {tfidf_nb_recall}\")\n",
        "print(f\"F1 Score: {tfidf_nb_f1}\")\n",
        "print(\"Classification Report:\\n\", tfidf_nb_class_report)\n",
        "print(\"Confusion Matrix:\\n\", tfidf_nb_conf_matrix)\n",
        "print(f\"Model training time: {tfidf_nb_model_training_time:.4f} seconds\")"
      ],
      "metadata": {
        "colab": {
          "base_uri": "https://localhost:8080/"
        },
        "id": "cOb-c3sRIKty",
        "outputId": "beafed58-6238-4dfd-b09d-dab62e5983c0"
      },
      "execution_count": null,
      "outputs": [
        {
          "output_type": "stream",
          "name": "stdout",
          "text": [
            "Multinomial Naive Bayes Model\n",
            "Accuracy: 0.968\n",
            "Precision: 0.9680128954254861\n",
            "Recall: 0.968\n",
            "F1 Score: 0.9679851320908366\n",
            "Classification Report:\n",
            "               precision    recall  f1-score   support\n",
            "\n",
            "           0       0.98      0.97      0.98       400\n",
            "           1       0.95      0.95      0.95       400\n",
            "           2       0.98      0.99      0.99       400\n",
            "           3       0.99      0.98      0.99       400\n",
            "           4       0.94      0.94      0.94       400\n",
            "\n",
            "    accuracy                           0.97      2000\n",
            "   macro avg       0.97      0.97      0.97      2000\n",
            "weighted avg       0.97      0.97      0.97      2000\n",
            "\n",
            "Confusion Matrix:\n",
            " [[388   1   5   2   4]\n",
            " [  2 381   2   2  13]\n",
            " [  2   0 397   0   1]\n",
            " [  1   0   1 394   4]\n",
            " [  2  20   1   1 376]]\n",
            "Model training time: 0.0725 seconds\n"
          ]
        }
      ]
    },
    {
      "cell_type": "code",
      "source": [
        "joblib.dump(tfidf_nb_model, 'tfidf_nb_model.pkl')"
      ],
      "metadata": {
        "colab": {
          "base_uri": "https://localhost:8080/"
        },
        "id": "WK2IWVyj1pz6",
        "outputId": "48cbd400-26f4-4c55-a604-ad807f5d23ba"
      },
      "execution_count": null,
      "outputs": [
        {
          "output_type": "execute_result",
          "data": {
            "text/plain": [
              "['tfidf_nb_model.pkl']"
            ]
          },
          "metadata": {},
          "execution_count": 55
        }
      ]
    },
    {
      "cell_type": "markdown",
      "source": [
        "### XGBoost Classifier"
      ],
      "metadata": {
        "id": "mPbDnoeGH3RG"
      }
    },
    {
      "cell_type": "code",
      "source": [
        "from xgboost import XGBClassifier\n",
        "\n",
        "tfidf_xgb_model = XGBClassifier(use_label_encoder=False, eval_metric='mlogloss', random_state=42)\n",
        "\n",
        "start_time = time.time()\n",
        "\n",
        "tfidf_xgb_model.fit(X_train, y_train)\n",
        "\n",
        "end_time = time.time()\n",
        "tfidf_xgb_model_training_time = end_time - start_time\n",
        "\n",
        "y_pred_xgb = tfidf_xgb_model.predict(X_test)\n",
        "\n",
        "tfidf_xgb_accuracy = accuracy_score(y_test, y_pred_xgb)\n",
        "tfidf_xgb_precision = precision_score(y_test, y_pred_xgb, average='weighted')\n",
        "tfidf_xgb_recall = recall_score(y_test, y_pred_xgb, average='weighted')\n",
        "tfidf_xgb_f1 = f1_score(y_test, y_pred_xgb, average='weighted')\n",
        "tfidf_xgb_class_report = classification_report(y_test, y_pred_xgb)\n",
        "tfidf_xgb_conf_matrix = confusion_matrix(y_test, y_pred_xgb)\n",
        "\n",
        "print(\"XGBoost Model\")\n",
        "print(f\"Accuracy: {tfidf_xgb_accuracy}\")\n",
        "print(f\"Precision: {tfidf_xgb_precision}\")\n",
        "print(f\"Recall: {tfidf_xgb_recall}\")\n",
        "print(f\"F1 Score: {tfidf_xgb_f1}\")\n",
        "print(\"Classification Report:\\n\", tfidf_xgb_class_report)\n",
        "print(\"Confusion Matrix:\\n\", tfidf_xgb_conf_matrix)\n",
        "print(f\"Model training time: {tfidf_xgb_model_training_time:.4f} seconds\")\n"
      ],
      "metadata": {
        "colab": {
          "base_uri": "https://localhost:8080/"
        },
        "id": "w3u_2tVlK6rU",
        "outputId": "2b3e0036-dd28-4bdf-9484-ac393added8f"
      },
      "execution_count": null,
      "outputs": [
        {
          "output_type": "stream",
          "name": "stderr",
          "text": [
            "/usr/local/lib/python3.11/dist-packages/xgboost/core.py:158: UserWarning: [17:56:03] WARNING: /workspace/src/learner.cc:740: \n",
            "Parameters: { \"use_label_encoder\" } are not used.\n",
            "\n",
            "  warnings.warn(smsg, UserWarning)\n"
          ]
        },
        {
          "output_type": "stream",
          "name": "stdout",
          "text": [
            "XGBoost Model\n",
            "Accuracy: 0.9745\n",
            "Precision: 0.9747144959841025\n",
            "Recall: 0.9745\n",
            "F1 Score: 0.9745779912185626\n",
            "Classification Report:\n",
            "               precision    recall  f1-score   support\n",
            "\n",
            "           0       0.99      0.98      0.99       400\n",
            "           1       0.95      0.97      0.96       400\n",
            "           2       1.00      0.98      0.99       400\n",
            "           3       0.99      0.99      0.99       400\n",
            "           4       0.94      0.95      0.95       400\n",
            "\n",
            "    accuracy                           0.97      2000\n",
            "   macro avg       0.97      0.97      0.97      2000\n",
            "weighted avg       0.97      0.97      0.97      2000\n",
            "\n",
            "Confusion Matrix:\n",
            " [[393   2   1   0   4]\n",
            " [  1 387   0   1  11]\n",
            " [  0   0 394   1   5]\n",
            " [  0   2   0 395   3]\n",
            " [  1  15   0   4 380]]\n",
            "Model training time: 81.1613 seconds\n"
          ]
        }
      ]
    },
    {
      "cell_type": "code",
      "source": [
        "joblib.dump(tfidf_xgb_model, 'tfidf_xgb_model.pkl')"
      ],
      "metadata": {
        "colab": {
          "base_uri": "https://localhost:8080/"
        },
        "id": "Xxf4w0ls17N3",
        "outputId": "47793db0-00f7-4157-fd26-77bb67212bcb"
      },
      "execution_count": null,
      "outputs": [
        {
          "output_type": "execute_result",
          "data": {
            "text/plain": [
              "['tfidf_xgb_model.pkl']"
            ]
          },
          "metadata": {},
          "execution_count": 57
        }
      ]
    },
    {
      "cell_type": "markdown",
      "source": [
        "## Clustering"
      ],
      "metadata": {
        "id": "4cOsEUSgMEm1"
      }
    },
    {
      "cell_type": "code",
      "source": [
        "from sklearn.cluster import KMeans, DBSCAN, AgglomerativeClustering\n",
        "from sklearn.metrics import silhouette_score, adjusted_rand_score, normalized_mutual_info_score\n",
        "import matplotlib.pyplot as plt\n",
        "import seaborn as sns"
      ],
      "metadata": {
        "id": "5u5WdYLpLIwq"
      },
      "execution_count": null,
      "outputs": []
    },
    {
      "cell_type": "markdown",
      "source": [
        "### K-Means Clustering (k=5)"
      ],
      "metadata": {
        "id": "huBtl3HKOdy3"
      }
    },
    {
      "cell_type": "code",
      "source": [
        "tfidf_kmeans_model = KMeans(n_clusters=5, random_state=42, n_init=10)\n",
        "\n",
        "start_time = time.time()\n",
        "\n",
        "tfidf_kmeans_labels = tfidf_kmeans_model.fit_predict(tfidf_df)\n",
        "\n",
        "end_time = time.time()\n",
        "tfidf_kmeans_training_time = end_time - start_time\n",
        "\n",
        "tfidf_silhouette_kmeans = silhouette_score(tfidf_df, tfidf_kmeans_labels)\n",
        "tfidf_rand_index_kmeans = adjusted_rand_score(y, tfidf_kmeans_labels)\n",
        "tfidf_nmi_kmeans = normalized_mutual_info_score(y, tfidf_kmeans_labels)\n",
        "\n",
        "print(\"K-Means Clustering\")\n",
        "print(f\"Silhouette Score: {tfidf_silhouette_kmeans}\")\n",
        "print(f\"Adjusted Rand Index: {tfidf_rand_index_kmeans}\")\n",
        "print(f\"Normalized Mutual Info Score: {tfidf_nmi_kmeans}\")\n",
        "print(f\"Model training time: {tfidf_kmeans_training_time:.4f} seconds\")"
      ],
      "metadata": {
        "colab": {
          "base_uri": "https://localhost:8080/"
        },
        "id": "A77l6SKDOFk3",
        "outputId": "171d5d40-f77e-4de5-90ce-812a172318f7"
      },
      "execution_count": null,
      "outputs": [
        {
          "output_type": "stream",
          "name": "stdout",
          "text": [
            "K-Means Clustering\n",
            "Silhouette Score: 0.2115070274505858\n",
            "Adjusted Rand Index: 1.0\n",
            "Normalized Mutual Info Score: 1.0\n",
            "Model training time: 9.5230 seconds\n"
          ]
        }
      ]
    },
    {
      "cell_type": "code",
      "source": [
        "plt.figure(figsize=(8, 6))\n",
        "sns.scatterplot(x=tfidf_df.iloc[:, 0], y=tfidf_df.iloc[:, 1], hue=tfidf_kmeans_labels, palette=\"viridis\", alpha=0.7)\n",
        "plt.title(\"K-Means Clustering Visualization\")\n",
        "plt.show()"
      ],
      "metadata": {
        "colab": {
          "base_uri": "https://localhost:8080/",
          "height": 564
        },
        "id": "ErnI7pRbPIMk",
        "outputId": "356d8212-21ac-4a6d-c58a-5f1fc93e14b1"
      },
      "execution_count": null,
      "outputs": [
        {
          "output_type": "display_data",
          "data": {
            "text/plain": [
              "<Figure size 800x600 with 1 Axes>"
            ],
            "image/png": "[encoded data removed]"
          },
          "metadata": {}
        }
      ]
    },
    {
      "cell_type": "markdown",
      "source": [
        "### Hierarchical Clustering (Agglomerative Clustering)"
      ],
      "metadata": {
        "id": "aPISuhdVQXDB"
      }
    },
    {
      "cell_type": "code",
      "source": [
        "tfidf_agglo_model = AgglomerativeClustering(n_clusters=5)\n",
        "\n",
        "start_time = time.time()\n",
        "\n",
        "tfidf_agglo_labels = tfidf_agglo_model.fit_predict(tfidf_df)\n",
        "\n",
        "end_time = time.time()\n",
        "tfidf_agglo_training_time = end_time - start_time\n",
        "\n",
        "tfidf_silhouette_agglo = silhouette_score(tfidf_df, tfidf_agglo_labels)\n",
        "tfidf_rand_index_agglo = adjusted_rand_score(y, tfidf_agglo_labels)\n",
        "tfidf_nmi_agglo = normalized_mutual_info_score(y, tfidf_agglo_labels)\n",
        "\n",
        "print(\"Agglomerative Clustering\")\n",
        "print(f\"Silhouette Score: {tfidf_silhouette_agglo}\")\n",
        "print(f\"Adjusted Rand Index: {tfidf_rand_index_agglo}\")\n",
        "print(f\"Normalized Mutual Info Score: {tfidf_nmi_agglo}\")\n",
        "print(f\"Model training time: {tfidf_agglo_training_time:.4f} seconds\")"
      ],
      "metadata": {
        "colab": {
          "base_uri": "https://localhost:8080/"
        },
        "id": "oPlatrX4PXx_",
        "outputId": "ec8f9e1f-0a99-4aca-caf8-f867af15e7f8"
      },
      "execution_count": null,
      "outputs": [
        {
          "output_type": "stream",
          "name": "stdout",
          "text": [
            "Agglomerative Clustering\n",
            "Silhouette Score: 0.2115070274505859\n",
            "Adjusted Rand Index: 1.0\n",
            "Normalized Mutual Info Score: 1.0\n",
            "Model training time: 107.4606 seconds\n"
          ]
        }
      ]
    },
    {
      "cell_type": "code",
      "source": [
        "plt.figure(figsize=(8, 6))\n",
        "sns.scatterplot(x=tfidf_df.iloc[:, 0], y=tfidf_df.iloc[:, 1], hue=tfidf_agglo_labels, palette=\"coolwarm\", alpha=0.7)\n",
        "plt.title(\"Agglomerative Clustering Visualization\")\n",
        "plt.show()"
      ],
      "metadata": {
        "colab": {
          "base_uri": "https://localhost:8080/",
          "height": 564
        },
        "id": "fCrDJEMTQuJv",
        "outputId": "a54e38b7-b1a1-4217-b13c-b5b09b408411"
      },
      "execution_count": null,
      "outputs": [
        {
          "output_type": "display_data",
          "data": {
            "text/plain": [
              "<Figure size 800x600 with 1 Axes>"
            ],
            "image/png": "[encoded data removed]"
          },
          "metadata": {}
        }
      ]
    },
    {
      "cell_type": "markdown",
      "source": [
        "### DBSCAN Clustering"
      ],
      "metadata": {
        "id": "QC3rtBXgRKLH"
      }
    },
    {
      "cell_type": "code",
      "source": [
        "tfidf_dbscan_model = DBSCAN(eps=0.5, min_samples=5)\n",
        "\n",
        "start_time = time.time()\n",
        "\n",
        "tfidf_dbscan_labels = tfidf_dbscan_model.fit_predict(tfidf_df)\n",
        "\n",
        "end_time = time.time()\n",
        "tfidf_dbscan_training_time = end_time - start_time\n",
        "\n",
        "tfidf_silhouette_dbscan = silhouette_score(tfidf_df, tfidf_dbscan_labels) if len(set(tfidf_dbscan_labels)) > 1 else -1\n",
        "tfidf_rand_index_dbscan = adjusted_rand_score(y, tfidf_dbscan_labels)\n",
        "tfidf_nmi_dbscan = normalized_mutual_info_score(y, tfidf_dbscan_labels)\n",
        "\n",
        "print(\"DBSCAN Clustering\")\n",
        "print(f\"Silhouette Score: {tfidf_silhouette_dbscan}\")\n",
        "print(f\"Adjusted Rand Index: {tfidf_rand_index_dbscan}\")\n",
        "print(f\"Normalized Mutual Info Score: {tfidf_nmi_dbscan}\")\n",
        "print(f\"Model training time: {tfidf_dbscan_training_time:.4f} seconds\")"
      ],
      "metadata": {
        "colab": {
          "base_uri": "https://localhost:8080/"
        },
        "id": "18nyqhlZQzIa",
        "outputId": "46e486c8-80d0-4c6b-cf86-c6ca1a5dbf6c"
      },
      "execution_count": null,
      "outputs": [
        {
          "output_type": "stream",
          "name": "stdout",
          "text": [
            "DBSCAN Clustering\n",
            "Silhouette Score: -0.29791574150549066\n",
            "Adjusted Rand Index: 1.7031286182843419e-06\n",
            "Normalized Mutual Info Score: 0.00218842975377574\n",
            "Model training time: 33.7541 seconds\n"
          ]
        }
      ]
    },
    {
      "cell_type": "code",
      "source": [
        "plt.figure(figsize=(8, 6))\n",
        "sns.scatterplot(x=tfidf_df.iloc[:, 0], y=tfidf_df.iloc[:, 1], hue=tfidf_dbscan_labels, palette=\"Set1\", alpha=0.7)\n",
        "plt.title(\"DBSCAN Clustering Visualization\")\n",
        "plt.show()\n"
      ],
      "metadata": {
        "colab": {
          "base_uri": "https://localhost:8080/",
          "height": 564
        },
        "id": "TX7cWZWURWHr",
        "outputId": "e7116168-04ea-426d-8af0-f3bf11ca26b8"
      },
      "execution_count": null,
      "outputs": [
        {
          "output_type": "display_data",
          "data": {
            "text/plain": [
              "<Figure size 800x600 with 1 Axes>"
            ],
            "image/png": "[encoded data removed]"
          },
          "metadata": {}
        }
      ]
    },
    {
      "cell_type": "markdown",
      "source": [
        "# Word to Vector Text Representation"
      ],
      "metadata": {
        "id": "zunggeEGSrqR"
      }
    },
    {
      "cell_type": "code",
      "source": [
        "!pip install gensim\n",
        "!pip install nltk"
      ],
      "metadata": {
        "colab": {
          "base_uri": "https://localhost:8080/"
        },
        "id": "hYEAAZ293cqb",
        "outputId": "df7d6e52-a7c9-429d-f6d5-fb67a3542774"
      },
      "execution_count": null,
      "outputs": [
        {
          "output_type": "stream",
          "name": "stdout",
          "text": [
            "Collecting gensim\n",
            "  Downloading gensim-4.3.3-cp311-cp311-manylinux_2_17_x86_64.manylinux2014_x86_64.whl.metadata (8.1 kB)\n",
            "Collecting numpy<2.0,>=1.18.5 (from gensim)\n",
            "  Downloading numpy-1.26.4-cp311-cp311-manylinux_2_17_x86_64.manylinux2014_x86_64.whl.metadata (61 kB)\n",
            "\u001b[2K     \u001b[90m━━━━━━━━━━━━━━━━━━━━━━━━━━━━━━━━━━━━━━━━\u001b[0m \u001b[32m61.0/61.0 kB\u001b[0m \u001b[31m2.4 MB/s\u001b[0m eta \u001b[36m0:00:00\u001b[0m\n",
            "\u001b[?25hCollecting scipy<1.14.0,>=1.7.0 (from gensim)\n",
            "  Downloading scipy-1.13.1-cp311-cp311-manylinux_2_17_x86_64.manylinux2014_x86_64.whl.metadata (60 kB)\n",
            "\u001b[2K     \u001b[90m━━━━━━━━━━━━━━━━━━━━━━━━━━━━━━━━━━━━━━━━\u001b[0m \u001b[32m60.6/60.6 kB\u001b[0m \u001b[31m4.2 MB/s\u001b[0m eta \u001b[36m0:00:00\u001b[0m\n",
            "\u001b[?25hRequirement already satisfied: smart-open>=1.8.1 in /usr/local/lib/python3.11/dist-packages (from gensim) (7.1.0)\n",
            "Requirement already satisfied: wrapt in /usr/local/lib/python3.11/dist-packages (from smart-open>=1.8.1->gensim) (1.17.2)\n",
            "Downloading gensim-4.3.3-cp311-cp311-manylinux_2_17_x86_64.manylinux2014_x86_64.whl (26.7 MB)\n",
            "\u001b[2K   \u001b[90m━━━━━━━━━━━━━━━━━━━━━━━━━━━━━━━━━━━━━━━━\u001b[0m \u001b[32m26.7/26.7 MB\u001b[0m \u001b[31m49.7 MB/s\u001b[0m eta \u001b[36m0:00:00\u001b[0m\n",
            "\u001b[?25hDownloading numpy-1.26.4-cp311-cp311-manylinux_2_17_x86_64.manylinux2014_x86_64.whl (18.3 MB)\n",
            "\u001b[2K   \u001b[90m━━━━━━━━━━━━━━━━━━━━━━━━━━━━━━━━━━━━━━━━\u001b[0m \u001b[32m18.3/18.3 MB\u001b[0m \u001b[31m63.9 MB/s\u001b[0m eta \u001b[36m0:00:00\u001b[0m\n",
            "\u001b[?25hDownloading scipy-1.13.1-cp311-cp311-manylinux_2_17_x86_64.manylinux2014_x86_64.whl (38.6 MB)\n",
            "\u001b[2K   \u001b[90m━━━━━━━━━━━━━━━━━━━━━━━━━━━━━━━━━━━━━━━━\u001b[0m \u001b[32m38.6/38.6 MB\u001b[0m \u001b[31m12.5 MB/s\u001b[0m eta \u001b[36m0:00:00\u001b[0m\n",
            "\u001b[?25hInstalling collected packages: numpy, scipy, gensim\n",
            "  Attempting uninstall: numpy\n",
            "    Found existing installation: numpy 2.0.2\n",
            "    Uninstalling numpy-2.0.2:\n",
            "      Successfully uninstalled numpy-2.0.2\n",
            "  Attempting uninstall: scipy\n",
            "    Found existing installation: scipy 1.14.1\n",
            "    Uninstalling scipy-1.14.1:\n",
            "      Successfully uninstalled scipy-1.14.1\n",
            "Successfully installed gensim-4.3.3 numpy-1.26.4 scipy-1.13.1\n",
            "Requirement already satisfied: nltk in /usr/local/lib/python3.11/dist-packages (3.9.1)\n",
            "Requirement already satisfied: click in /usr/local/lib/python3.11/dist-packages (from nltk) (8.1.8)\n",
            "Requirement already satisfied: joblib in /usr/local/lib/python3.11/dist-packages (from nltk) (1.4.2)\n",
            "Requirement already satisfied: regex>=2021.8.3 in /usr/local/lib/python3.11/dist-packages (from nltk) (2024.11.6)\n",
            "Requirement already satisfied: tqdm in /usr/local/lib/python3.11/dist-packages (from nltk) (4.67.1)\n"
          ]
        }
      ]
    },
    {
      "cell_type": "code",
      "source": [
        "!pip install --upgrade gensim numpy"
      ],
      "metadata": {
        "colab": {
          "base_uri": "https://localhost:8080/"
        },
        "id": "s5i-7cYQ36Ye",
        "outputId": "08351f34-ba52-4d42-d651-8bb2500c2fd9"
      },
      "execution_count": null,
      "outputs": [
        {
          "output_type": "stream",
          "name": "stdout",
          "text": [
            "Requirement already satisfied: gensim in /usr/local/lib/python3.11/dist-packages (4.3.3)\n",
            "Requirement already satisfied: numpy in /usr/local/lib/python3.11/dist-packages (1.26.4)\n",
            "Collecting numpy\n",
            "  Downloading numpy-2.2.4-cp311-cp311-manylinux_2_17_x86_64.manylinux2014_x86_64.whl.metadata (62 kB)\n",
            "\u001b[2K     \u001b[90m━━━━━━━━━━━━━━━━━━━━━━━━━━━━━━━━━━━━━━━━\u001b[0m \u001b[32m62.0/62.0 kB\u001b[0m \u001b[31m1.6 MB/s\u001b[0m eta \u001b[36m0:00:00\u001b[0m\n",
            "\u001b[?25hRequirement already satisfied: scipy<1.14.0,>=1.7.0 in /usr/local/lib/python3.11/dist-packages (from gensim) (1.13.1)\n",
            "Requirement already satisfied: smart-open>=1.8.1 in /usr/local/lib/python3.11/dist-packages (from gensim) (7.1.0)\n",
            "Requirement already satisfied: wrapt in /usr/local/lib/python3.11/dist-packages (from smart-open>=1.8.1->gensim) (1.17.2)\n"
          ]
        }
      ]
    },
    {
      "cell_type": "code",
      "source": [
        "import gensim\n",
        "from gensim.models import Word2Vec\n",
        "import nltk\n",
        "from nltk.tokenize import word_tokenize\n",
        "from sklearn.preprocessing import LabelEncoder\n",
        "\n",
        "nltk.download('punkt')"
      ],
      "metadata": {
        "id": "xuNm7RJUSXW7",
        "colab": {
          "base_uri": "https://localhost:8080/"
        },
        "outputId": "9f03d3e7-8dab-4c60-d9ec-367ca83b744f"
      },
      "execution_count": null,
      "outputs": [
        {
          "output_type": "stream",
          "name": "stderr",
          "text": [
            "[nltk_data] Downloading package punkt to /root/nltk_data...\n",
            "[nltk_data]   Unzipping tokenizers/punkt.zip.\n"
          ]
        },
        {
          "output_type": "execute_result",
          "data": {
            "text/plain": [
              "True"
            ]
          },
          "metadata": {},
          "execution_count": 1
        }
      ]
    },
    {
      "cell_type": "code",
      "source": [
        "nltk.download('punkt_tab')"
      ],
      "metadata": {
        "colab": {
          "base_uri": "https://localhost:8080/"
        },
        "id": "QTDLAr9b7DQb",
        "outputId": "8ee146eb-c4c5-46b6-af03-76df8fb5a49f"
      },
      "execution_count": null,
      "outputs": [
        {
          "output_type": "stream",
          "name": "stderr",
          "text": [
            "[nltk_data] Downloading package punkt_tab to /root/nltk_data...\n",
            "[nltk_data]   Unzipping tokenizers/punkt_tab.zip.\n"
          ]
        },
        {
          "output_type": "execute_result",
          "data": {
            "text/plain": [
              "True"
            ]
          },
          "metadata": {},
          "execution_count": 2
        }
      ]
    },
    {
      "cell_type": "code",
      "source": [
        "import pandas as pd\n",
        "df = pd.read_csv(\"/content/cleaned_data.csv\")"
      ],
      "metadata": {
        "id": "Gy5XHsIE5yGO"
      },
      "execution_count": null,
      "outputs": []
    },
    {
      "cell_type": "code",
      "source": [
        "df.shape"
      ],
      "metadata": {
        "colab": {
          "base_uri": "https://localhost:8080/"
        },
        "id": "ZPefesSs7B56",
        "outputId": "18a35005-88aa-45f3-9548-72bd4f26f93b"
      },
      "execution_count": null,
      "outputs": [
        {
          "output_type": "execute_result",
          "data": {
            "text/plain": [
              "(10000, 2)"
            ]
          },
          "metadata": {},
          "execution_count": 13
        }
      ]
    },
    {
      "cell_type": "code",
      "source": [
        "df['Tokenized_Content'] = df['Content'].apply(lambda x: word_tokenize(x.lower()))"
      ],
      "metadata": {
        "id": "lGXvGjnP2pBx"
      },
      "execution_count": null,
      "outputs": []
    },
    {
      "cell_type": "code",
      "source": [
        "word2vec_model = Word2Vec(sentences=df['Tokenized_Content'], vector_size=100, window=5, min_count=1, workers=4)\n",
        "\n",
        "def get_sentence_vector(tokens, model):\n",
        "    vectors = [model.wv[word] for word in tokens if word in model.wv]\n",
        "    return sum(vectors) / len(vectors) if vectors else [0] * model.vector_size\n",
        "\n",
        "df[\"sentence_vector\"] = df[\"Tokenized_Content\"].apply(lambda x: get_sentence_vector(x, word2vec_model))\n",
        "\n",
        "print(df[[\"sentence_vector\"]].head())"
      ],
      "metadata": {
        "id": "T7VLZVvU7j01",
        "colab": {
          "base_uri": "https://localhost:8080/"
        },
        "outputId": "a40e4b48-32fe-41f5-ad51-32b7b1a8d180"
      },
      "execution_count": null,
      "outputs": [
        {
          "output_type": "stream",
          "name": "stdout",
          "text": [
            "                                     sentence_vector\n",
            "0  [0.06119333, 0.034441255, 0.5643723, 0.0958600...\n",
            "1  [0.1576463, 0.012201299, 1.1225768, 1.2292982,...\n",
            "2  [-0.29521596, 0.58442605, 0.066413224, 0.22296...\n",
            "3  [-0.13022439, 0.2173624, 0.4833659, -0.0656553...\n",
            "4  [-0.044627253, 0.5860854, 0.035271313, 0.49975...\n"
          ]
        }
      ]
    },
    {
      "cell_type": "code",
      "source": [
        "df.shape"
      ],
      "metadata": {
        "id": "_EoJBt7d3Kv6",
        "colab": {
          "base_uri": "https://localhost:8080/"
        },
        "outputId": "49fd27fb-2fd6-4cfd-b72d-b3d9c64018ce"
      },
      "execution_count": null,
      "outputs": [
        {
          "output_type": "execute_result",
          "data": {
            "text/plain": [
              "(10000, 4)"
            ]
          },
          "metadata": {},
          "execution_count": 16
        }
      ]
    },
    {
      "cell_type": "code",
      "source": [
        "df.info()"
      ],
      "metadata": {
        "id": "fcU8LZ2z8KDk",
        "colab": {
          "base_uri": "https://localhost:8080/"
        },
        "outputId": "fb584ddb-609e-49aa-f654-9c919f5ab8ba"
      },
      "execution_count": null,
      "outputs": [
        {
          "output_type": "stream",
          "name": "stdout",
          "text": [
            "<class 'pandas.core.frame.DataFrame'>\n",
            "RangeIndex: 10000 entries, 0 to 9999\n",
            "Data columns (total 4 columns):\n",
            " #   Column             Non-Null Count  Dtype \n",
            "---  ------             --------------  ----- \n",
            " 0   Category           10000 non-null  int64 \n",
            " 1   Content            10000 non-null  object\n",
            " 2   Tokenized_Content  10000 non-null  object\n",
            " 3   sentence_vector    10000 non-null  object\n",
            "dtypes: int64(1), object(3)\n",
            "memory usage: 312.6+ KB\n"
          ]
        }
      ]
    },
    {
      "cell_type": "code",
      "source": [
        "df.to_csv(\"word2vec_df.csv\", index=False)"
      ],
      "metadata": {
        "id": "Yv_N56Ti_DE2"
      },
      "execution_count": null,
      "outputs": []
    },
    {
      "cell_type": "markdown",
      "source": [
        "## Classification Models"
      ],
      "metadata": {
        "id": "38rS0geA9yyo"
      }
    },
    {
      "cell_type": "code",
      "source": [
        "import numpy as np\n",
        "from sklearn.model_selection import train_test_split\n",
        "X = np.vstack(df['sentence_vector'])\n",
        "y = df['Category']\n",
        "\n",
        "X_train, X_test, y_train, y_test = train_test_split(X, y, test_size=0.2, random_state=42)"
      ],
      "metadata": {
        "id": "0Bwc6Pp78NpN"
      },
      "execution_count": null,
      "outputs": []
    },
    {
      "cell_type": "markdown",
      "source": [
        "### Logistic Regression (Multinomial)"
      ],
      "metadata": {
        "id": "evujdyXh-F4l"
      }
    },
    {
      "cell_type": "code",
      "source": [
        "from sklearn.linear_model import LogisticRegression\n",
        "wrd2vec_log_reg = LogisticRegression(multi_class=\"multinomial\", max_iter=1000)\n",
        "\n",
        "start_time = time.time()\n",
        "\n",
        "wrd2vec_log_reg.fit(X_train, y_train)\n",
        "\n",
        "end_time = time.time()\n",
        "wrd2vec_log_reg_training_time = end_time - start_time\n",
        "\n",
        "y_pred = wrd2vec_log_reg.predict(X_test)\n",
        "\n",
        "wrd2vec_log_reg_accuracy = accuracy_score(y_test, y_pred)\n",
        "wrd2vec_log_reg_precision = precision_score(y_test, y_pred, average='weighted')\n",
        "wrd2vec_log_reg_recall = recall_score(y_test, y_pred, average='weighted')\n",
        "wrd2vec_log_reg_f1 = f1_score(y_test, y_pred, average='weighted')\n",
        "wrd2vec_log_reg_class_report = classification_report(y_test, y_pred)\n",
        "wrd2vec_log_reg_conf_matrix = confusion_matrix(y_test, y_pred)\n",
        "\n",
        "print(\"Logistic Regression Model\")\n",
        "print(f\"Accuracy: {wrd2vec_log_reg_accuracy}\")\n",
        "print(f\"Precision: {wrd2vec_log_reg_precision}\")\n",
        "print(f\"Recall: {wrd2vec_log_reg_recall}\")\n",
        "print(f\"F1 Score: {wrd2vec_log_reg_f1}\")\n",
        "print(\"Classification Report:\\n\", wrd2vec_log_reg_class_report)\n",
        "print(\"Confusion Matrix:\\n\", wrd2vec_log_reg_conf_matrix)\n",
        "print(f\"Model training time: {wrd2vec_log_reg_training_time:.4f} seconds\")"
      ],
      "metadata": {
        "id": "LMJIUzwk9qRM",
        "colab": {
          "base_uri": "https://localhost:8080/"
        },
        "outputId": "cf5da488-f491-4cda-b129-442a9a229905"
      },
      "execution_count": null,
      "outputs": [
        {
          "output_type": "stream",
          "name": "stderr",
          "text": [
            "/usr/local/lib/python3.11/dist-packages/sklearn/linear_model/_logistic.py:1247: FutureWarning: 'multi_class' was deprecated in version 1.5 and will be removed in 1.7. From then on, it will always use 'multinomial'. Leave it to its default value to avoid this warning.\n",
            "  warnings.warn(\n"
          ]
        },
        {
          "output_type": "stream",
          "name": "stdout",
          "text": [
            "Logistic Regression Model\n",
            "Accuracy: 0.9685\n",
            "Precision: 0.9684206412316444\n",
            "Recall: 0.9685\n",
            "F1 Score: 0.9683876606797819\n",
            "Classification Report:\n",
            "               precision    recall  f1-score   support\n",
            "\n",
            "           0       0.98      0.98      0.98       399\n",
            "           1       0.95      0.95      0.95       383\n",
            "           2       0.99      0.99      0.99       403\n",
            "           3       0.97      0.99      0.98       392\n",
            "           4       0.95      0.93      0.94       423\n",
            "\n",
            "    accuracy                           0.97      2000\n",
            "   macro avg       0.97      0.97      0.97      2000\n",
            "weighted avg       0.97      0.97      0.97      2000\n",
            "\n",
            "Confusion Matrix:\n",
            " [[393   0   3   0   3]\n",
            " [  1 365   0   2  15]\n",
            " [  5   0 397   0   1]\n",
            " [  1   0   0 390   1]\n",
            " [  3  18   0  10 392]]\n",
            "Model training time: 0.2762 seconds\n"
          ]
        }
      ]
    },
    {
      "cell_type": "code",
      "source": [
        "joblib.dump(wrd2vec_log_reg, 'wrd2vec_log_reg.pkl')"
      ],
      "metadata": {
        "colab": {
          "base_uri": "https://localhost:8080/"
        },
        "id": "oaHV3ZFP7tPH",
        "outputId": "4170c5f1-def5-4219-9cd9-82160adb2bbe"
      },
      "execution_count": null,
      "outputs": [
        {
          "output_type": "execute_result",
          "data": {
            "text/plain": [
              "['wrd2vec_log_reg.pkl']"
            ]
          },
          "metadata": {},
          "execution_count": 25
        }
      ]
    },
    {
      "cell_type": "markdown",
      "source": [
        "### Decision Tree Classifier"
      ],
      "metadata": {
        "id": "DKgu8Mv9-4W_"
      }
    },
    {
      "cell_type": "code",
      "source": [
        "from sklearn.tree import DecisionTreeClassifier\n",
        "\n",
        "wrd2vec_dt = DecisionTreeClassifier(random_state=42)\n",
        "\n",
        "start_time = time.time()\n",
        "\n",
        "wrd2vec_dt.fit(X_train, y_train)\n",
        "\n",
        "end_time = time.time()\n",
        "wrd2vec_dt_training_time = end_time - start_time\n",
        "\n",
        "y_pred_dt = wrd2vec_dt.predict(X_test)\n",
        "\n",
        "wrd2vec_dt_accuracy = accuracy_score(y_test, y_pred_dt)\n",
        "wrd2vec_dt_precision = precision_score(y_test, y_pred_dt, average='weighted')\n",
        "wrd2vec_dt_recall = recall_score(y_test, y_pred_dt, average='weighted')\n",
        "wrd2vec_dt_f1 = f1_score(y_test, y_pred_dt, average='weighted')\n",
        "wrd2vec_dt_class_report = classification_report(y_test, y_pred_dt)\n",
        "wrd2vec_dt_conf_matrix = confusion_matrix(y_test, y_pred_dt)\n",
        "\n",
        "print(\"Decision Tree Model\")\n",
        "print(f\"Accuracy: {wrd2vec_dt_accuracy}\")\n",
        "print(f\"Precision: {wrd2vec_dt_precision}\")\n",
        "print(f\"Recall: {wrd2vec_dt_recall}\")\n",
        "print(f\"F1 Score: {wrd2vec_dt_f1}\")\n",
        "print(\"Classification Report:\\n\", wrd2vec_dt_class_report)\n",
        "print(\"Confusion Matrix:\\n\", wrd2vec_dt_conf_matrix)\n",
        "print(f\"Model training time: {wrd2vec_dt_training_time:.4f} seconds\")"
      ],
      "metadata": {
        "id": "-rZMixGb-s0x",
        "colab": {
          "base_uri": "https://localhost:8080/"
        },
        "outputId": "63227ea3-7508-4d31-ed5d-d5154ae61e8c"
      },
      "execution_count": null,
      "outputs": [
        {
          "output_type": "stream",
          "name": "stdout",
          "text": [
            "Decision Tree Model\n",
            "Accuracy: 0.9315\n",
            "Precision: 0.9314800556404402\n",
            "Recall: 0.9315\n",
            "F1 Score: 0.9312254141376043\n",
            "Classification Report:\n",
            "               precision    recall  f1-score   support\n",
            "\n",
            "           0       0.96      0.94      0.95       399\n",
            "           1       0.91      0.92      0.91       383\n",
            "           2       0.96      0.96      0.96       403\n",
            "           3       0.93      0.97      0.95       392\n",
            "           4       0.91      0.87      0.89       423\n",
            "\n",
            "    accuracy                           0.93      2000\n",
            "   macro avg       0.93      0.93      0.93      2000\n",
            "weighted avg       0.93      0.93      0.93      2000\n",
            "\n",
            "Confusion Matrix:\n",
            " [[376   1  13   4   5]\n",
            " [  2 353   1   9  18]\n",
            " [  7   3 387   1   5]\n",
            " [  1   3   0 381   7]\n",
            " [  7  30   4  16 366]]\n",
            "Model training time: 1.6006 seconds\n"
          ]
        }
      ]
    },
    {
      "cell_type": "code",
      "source": [
        "joblib.dump(wrd2vec_dt, 'wrd2vec_dt.pkl')"
      ],
      "metadata": {
        "colab": {
          "base_uri": "https://localhost:8080/"
        },
        "id": "90SfaQpP8Ut4",
        "outputId": "3a4e54f3-28f8-4454-89b2-a659f659e999"
      },
      "execution_count": null,
      "outputs": [
        {
          "output_type": "execute_result",
          "data": {
            "text/plain": [
              "['wrd2vec_dt.pkl']"
            ]
          },
          "metadata": {},
          "execution_count": 27
        }
      ]
    },
    {
      "cell_type": "markdown",
      "source": [
        "### Random Forest Classifier"
      ],
      "metadata": {
        "id": "ROEfTSrc_qE9"
      }
    },
    {
      "cell_type": "code",
      "source": [
        "from sklearn.ensemble import RandomForestClassifier\n",
        "wrd2vec_rf_model = RandomForestClassifier(n_estimators=100, random_state=42)\n",
        "\n",
        "start_time = time.time()\n",
        "\n",
        "wrd2vec_rf_model.fit(X_train, y_train)\n",
        "\n",
        "end_time = time.time()\n",
        "wrd2vec_rf_model_training_time = end_time - start_time\n",
        "\n",
        "\n",
        "y_pred_rf = wrd2vec_rf_model.predict(X_test)\n",
        "\n",
        "wrd2vec_rf_accuracy = accuracy_score(y_test, y_pred_rf)\n",
        "wrd2vec_rf_precision = precision_score(y_test, y_pred_rf, average='weighted')\n",
        "wrd2vec_rf_recall = recall_score(y_test, y_pred_rf, average='weighted')\n",
        "wrd2vec_rf_f1 = f1_score(y_test, y_pred_rf, average='weighted')\n",
        "wrd2vec_rf_class_report = classification_report(y_test, y_pred_rf)\n",
        "wrd2vec_rf_conf_matrix = confusion_matrix(y_test, y_pred_rf)\n",
        "\n",
        "print(\"Random Forest Model\")\n",
        "print(f\"Accuracy: {wrd2vec_rf_accuracy}\")\n",
        "print(f\"Precision: {wrd2vec_rf_precision}\")\n",
        "print(f\"Recall: {wrd2vec_rf_recall}\")\n",
        "print(f\"F1 Score: {wrd2vec_rf_f1}\")\n",
        "print(\"Classification Report:\\n\", wrd2vec_rf_class_report)\n",
        "print(\"Confusion Matrix:\\n\", wrd2vec_rf_conf_matrix)\n",
        "print(f\"Model training time: {wrd2vec_rf_model_training_time:.4f} seconds\")"
      ],
      "metadata": {
        "id": "fu9vFUfw_UTW",
        "colab": {
          "base_uri": "https://localhost:8080/"
        },
        "outputId": "ee100cd9-7c2e-4cae-a7f1-356e72cd7d5d"
      },
      "execution_count": null,
      "outputs": [
        {
          "output_type": "stream",
          "name": "stdout",
          "text": [
            "Random Forest Model\n",
            "Accuracy: 0.9635\n",
            "Precision: 0.9633626589873949\n",
            "Recall: 0.9635\n",
            "F1 Score: 0.9633818770743301\n",
            "Classification Report:\n",
            "               precision    recall  f1-score   support\n",
            "\n",
            "           0       0.97      0.97      0.97       399\n",
            "           1       0.95      0.95      0.95       383\n",
            "           2       0.99      0.98      0.98       403\n",
            "           3       0.97      0.99      0.98       392\n",
            "           4       0.94      0.92      0.93       423\n",
            "\n",
            "    accuracy                           0.96      2000\n",
            "   macro avg       0.96      0.96      0.96      2000\n",
            "weighted avg       0.96      0.96      0.96      2000\n",
            "\n",
            "Confusion Matrix:\n",
            " [[388   1   6   0   4]\n",
            " [  1 363   0   2  17]\n",
            " [  6   0 396   0   1]\n",
            " [  0   0   0 390   2]\n",
            " [  6  18   0   9 390]]\n",
            "Model training time: 9.9291 seconds\n"
          ]
        }
      ]
    },
    {
      "cell_type": "code",
      "source": [
        "joblib.dump(wrd2vec_rf_model, 'wrd2vec_rf_model.pkl')"
      ],
      "metadata": {
        "colab": {
          "base_uri": "https://localhost:8080/"
        },
        "id": "Giv2Ty0P961J",
        "outputId": "327458c2-f2ea-4d75-b8ee-883877d05ac6"
      },
      "execution_count": null,
      "outputs": [
        {
          "output_type": "execute_result",
          "data": {
            "text/plain": [
              "['wrd2vec_rf_model.pkl']"
            ]
          },
          "metadata": {},
          "execution_count": 29
        }
      ]
    },
    {
      "cell_type": "markdown",
      "source": [
        "### Multinomial Naive Bayes"
      ],
      "metadata": {
        "id": "0nN_a_czAACE"
      }
    },
    {
      "cell_type": "code",
      "source": [
        "from sklearn.preprocessing import MinMaxScaler\n",
        "\n",
        "scaler = MinMaxScaler()\n",
        "X_train_scaled = scaler.fit_transform(X_train)\n",
        "X_test_scaled = scaler.transform(X_test)"
      ],
      "metadata": {
        "id": "uAtQ2yu4Anvd"
      },
      "execution_count": null,
      "outputs": []
    },
    {
      "cell_type": "code",
      "source": [
        "from sklearn.naive_bayes import MultinomialNB\n",
        "\n",
        "wrd2vec_nb_model = MultinomialNB()\n",
        "\n",
        "start_time = time.time()\n",
        "\n",
        "wrd2vec_nb_model.fit(X_train_scaled, y_train)\n",
        "\n",
        "end_time = time.time()\n",
        "wrd2vec_nb_model_training_time = end_time - start_time\n",
        "\n",
        "y_pred_nb = wrd2vec_nb_model.predict(X_test_scaled)\n",
        "\n",
        "wrd2vec_nb_accuracy = accuracy_score(y_test, y_pred_nb)\n",
        "wrd2vec_nb_precision = precision_score(y_test, y_pred_nb, average='weighted')\n",
        "wrd2vec_nb_recall = recall_score(y_test, y_pred_nb, average='weighted')\n",
        "wrd2vec_nb_f1 = f1_score(y_test, y_pred_nb, average='weighted')\n",
        "wrd2vec_nb_class_report = classification_report(y_test, y_pred_nb)\n",
        "wrd2vec_nb_conf_matrix = confusion_matrix(y_test, y_pred_nb)\n",
        "\n",
        "print(\"Multinomial Naive Bayes Model\")\n",
        "print(f\"Accuracy: {wrd2vec_nb_accuracy}\")\n",
        "print(f\"Precision: {wrd2vec_nb_precision}\")\n",
        "print(f\"Recall: {wrd2vec_nb_recall}\")\n",
        "print(f\"F1 Score: {wrd2vec_nb_f1}\")\n",
        "print(\"Classification Report:\\n\", wrd2vec_nb_class_report)\n",
        "print(\"Confusion Matrix:\\n\", wrd2vec_nb_conf_matrix)\n",
        "print(f\"Model training time: {wrd2vec_nb_model_training_time:.4f} seconds\")"
      ],
      "metadata": {
        "id": "a2gywDUW_xao",
        "colab": {
          "base_uri": "https://localhost:8080/"
        },
        "outputId": "c9244cb1-ec68-4c17-e9a8-102b3f02c2eb"
      },
      "execution_count": null,
      "outputs": [
        {
          "output_type": "stream",
          "name": "stdout",
          "text": [
            "Multinomial Naive Bayes Model\n",
            "Accuracy: 0.9445\n",
            "Precision: 0.9457304832557585\n",
            "Recall: 0.9445\n",
            "F1 Score: 0.9448406470381451\n",
            "Classification Report:\n",
            "               precision    recall  f1-score   support\n",
            "\n",
            "           0       0.95      0.96      0.96       399\n",
            "           1       0.93      0.92      0.93       383\n",
            "           2       0.97      0.97      0.97       403\n",
            "           3       0.99      0.94      0.97       392\n",
            "           4       0.88      0.93      0.90       423\n",
            "\n",
            "    accuracy                           0.94      2000\n",
            "   macro avg       0.95      0.94      0.95      2000\n",
            "weighted avg       0.95      0.94      0.94      2000\n",
            "\n",
            "Confusion Matrix:\n",
            " [[383   2   9   0   5]\n",
            " [  1 353   0   0  29]\n",
            " [  8   0 391   0   4]\n",
            " [  2   4   0 370  16]\n",
            " [  8  19   2   2 392]]\n",
            "Model training time: 0.0085 seconds\n"
          ]
        }
      ]
    },
    {
      "cell_type": "code",
      "source": [
        "joblib.dump(wrd2vec_nb_model, 'wrd2vec_nb_model.pkl')"
      ],
      "metadata": {
        "colab": {
          "base_uri": "https://localhost:8080/"
        },
        "id": "O5XtzMZO-IJW",
        "outputId": "9788ebb2-db5c-4c4d-9d5d-6627af398b2e"
      },
      "execution_count": null,
      "outputs": [
        {
          "output_type": "execute_result",
          "data": {
            "text/plain": [
              "['wrd2vec_nb_model.pkl']"
            ]
          },
          "metadata": {},
          "execution_count": 32
        }
      ]
    },
    {
      "cell_type": "markdown",
      "source": [
        "### XGBoost Classifier"
      ],
      "metadata": {
        "id": "QzFQKGVTIFkN"
      }
    },
    {
      "cell_type": "code",
      "source": [
        "from xgboost import XGBClassifier\n",
        "\n",
        "wrd2vec_xgb_model = XGBClassifier(use_label_encoder=False, eval_metric='mlogloss', random_state=42)\n",
        "\n",
        "start_time = time.time()\n",
        "\n",
        "wrd2vec_xgb_model.fit(X_train, y_train)\n",
        "\n",
        "end_time = time.time()\n",
        "wrd2vec_xgb_model_training_time = end_time - start_time\n",
        "\n",
        "y_pred_xgb = wrd2vec_xgb_model.predict(X_test)\n",
        "\n",
        "wrd2vec_xgb_accuracy = accuracy_score(y_test, y_pred_xgb)\n",
        "wrd2vec_xgb_precision = precision_score(y_test, y_pred_xgb, average='weighted')\n",
        "wrd2vec_xgb_recall = recall_score(y_test, y_pred_xgb, average='weighted')\n",
        "wrd2vec_xgb_f1 = f1_score(y_test, y_pred_xgb, average='weighted')\n",
        "wrd2vec_xgb_class_report = classification_report(y_test, y_pred_xgb)\n",
        "wrd2vec_xgb_conf_matrix = confusion_matrix(y_test, y_pred_xgb)\n",
        "\n",
        "print(\"XGBoost Model\")\n",
        "print(f\"Accuracy: {wrd2vec_xgb_accuracy}\")\n",
        "print(f\"Precision: {wrd2vec_xgb_precision}\")\n",
        "print(f\"Recall: {wrd2vec_xgb_recall}\")\n",
        "print(f\"F1 Score: {wrd2vec_xgb_f1}\")\n",
        "print(\"Classification Report:\\n\", wrd2vec_xgb_class_report)\n",
        "print(\"Confusion Matrix:\\n\", wrd2vec_xgb_conf_matrix)\n",
        "print(f\"Model training time: {wrd2vec_xgb_model_training_time:.4f} seconds\")"
      ],
      "metadata": {
        "id": "QtvdKbXVAIzH",
        "colab": {
          "base_uri": "https://localhost:8080/"
        },
        "outputId": "079fb6a7-0d34-46dd-bb66-a757d8c22004"
      },
      "execution_count": null,
      "outputs": [
        {
          "output_type": "stream",
          "name": "stderr",
          "text": [
            "/usr/local/lib/python3.11/dist-packages/xgboost/core.py:158: UserWarning: [17:22:58] WARNING: /workspace/src/learner.cc:740: \n",
            "Parameters: { \"use_label_encoder\" } are not used.\n",
            "\n",
            "  warnings.warn(smsg, UserWarning)\n"
          ]
        },
        {
          "output_type": "stream",
          "name": "stdout",
          "text": [
            "XGBoost Model\n",
            "Accuracy: 0.9665\n",
            "Precision: 0.9664894132841175\n",
            "Recall: 0.9665\n",
            "F1 Score: 0.9664022154647646\n",
            "Classification Report:\n",
            "               precision    recall  f1-score   support\n",
            "\n",
            "           0       0.98      0.97      0.98       399\n",
            "           1       0.94      0.96      0.95       383\n",
            "           2       0.99      0.99      0.99       403\n",
            "           3       0.97      0.99      0.98       392\n",
            "           4       0.95      0.92      0.93       423\n",
            "\n",
            "    accuracy                           0.97      2000\n",
            "   macro avg       0.97      0.97      0.97      2000\n",
            "weighted avg       0.97      0.97      0.97      2000\n",
            "\n",
            "Confusion Matrix:\n",
            " [[389   2   5   1   2]\n",
            " [  0 368   0   1  14]\n",
            " [  3   0 398   0   2]\n",
            " [  0   0   0 389   3]\n",
            " [  3  21   1   9 389]]\n",
            "Model training time: 5.7917 seconds\n"
          ]
        }
      ]
    },
    {
      "cell_type": "code",
      "source": [
        "joblib.dump(wrd2vec_xgb_model, 'wrd2vec_xgb_model.pkl')"
      ],
      "metadata": {
        "colab": {
          "base_uri": "https://localhost:8080/"
        },
        "id": "7fqxRTRe-c-r",
        "outputId": "6468cc7f-a2d9-41b7-c2f3-1cef5ee2fdca"
      },
      "execution_count": null,
      "outputs": [
        {
          "output_type": "execute_result",
          "data": {
            "text/plain": [
              "['wrd2vec_xgb_model.pkl']"
            ]
          },
          "metadata": {},
          "execution_count": 34
        }
      ]
    },
    {
      "cell_type": "markdown",
      "source": [
        "## Clustering"
      ],
      "metadata": {
        "id": "ZngpSVxBIXXZ"
      }
    },
    {
      "cell_type": "code",
      "source": [
        "from sklearn.cluster import KMeans, DBSCAN, AgglomerativeClustering\n",
        "from sklearn.metrics import silhouette_score, adjusted_rand_score, normalized_mutual_info_score\n",
        "import matplotlib.pyplot as plt\n",
        "import seaborn as sns"
      ],
      "metadata": {
        "id": "kGnhqPDRIIto"
      },
      "execution_count": null,
      "outputs": []
    },
    {
      "cell_type": "code",
      "source": [
        "X = np.vstack(df['sentence_vector'])"
      ],
      "metadata": {
        "id": "FHSnop2fI5iG"
      },
      "execution_count": null,
      "outputs": []
    },
    {
      "cell_type": "markdown",
      "source": [
        "### K-Means Clustering (k=5)"
      ],
      "metadata": {
        "id": "QthSdrUWIdaF"
      }
    },
    {
      "cell_type": "code",
      "source": [
        "wrd2vec_kmeans_model = KMeans(n_clusters=5, random_state=42, n_init=10)\n",
        "\n",
        "start_time = time.time()\n",
        "\n",
        "wrd2vec_kmeans_labels = wrd2vec_kmeans_model.fit_predict(X)\n",
        "\n",
        "end_time = time.time()\n",
        "wrd2vec_kmeans_training_time = end_time - start_time\n",
        "\n",
        "wrd2vec_silhouette_kmeans = silhouette_score(X, wrd2vec_kmeans_labels)\n",
        "wrd2vec_rand_index_kmeans = adjusted_rand_score(y, wrd2vec_kmeans_labels)\n",
        "wrd2vec_nmi_kmeans = normalized_mutual_info_score(y, wrd2vec_kmeans_labels)\n",
        "\n",
        "print(\"K-Means Clustering\")\n",
        "print(f\"Silhouette Score: {wrd2vec_silhouette_kmeans}\")\n",
        "print(f\"Adjusted Rand Index: {wrd2vec_rand_index_kmeans}\")\n",
        "print(f\"Normalized Mutual Info Score: {wrd2vec_nmi_kmeans}\")\n",
        "print(f\"Model training time: {wrd2vec_kmeans_training_time:.4f} seconds\")"
      ],
      "metadata": {
        "id": "qwHHGA7aIcRD"
      },
      "execution_count": null,
      "outputs": []
    },
    {
      "cell_type": "code",
      "source": [
        "from sklearn.decomposition import PCA\n",
        "\n",
        "pca = PCA(n_components=2)\n",
        "X_pca = pca.fit_transform(X)\n",
        "\n",
        "plt.figure(figsize=(8, 6))\n",
        "sns.scatterplot(x=X_pca[:, 0], y=X_pca[:, 1], hue=wrd2vec_kmeans_labels, palette=\"viridis\", alpha=0.7)\n",
        "plt.title(\"K-Means Clustering on Word2Vec Representations (PCA Reduced)\")\n",
        "plt.xlabel(\"Principal Component 1\")\n",
        "plt.ylabel(\"Principal Component 2\")\n",
        "plt.show()"
      ],
      "metadata": {
        "id": "7spY0bKsKjO3"
      },
      "execution_count": null,
      "outputs": []
    },
    {
      "cell_type": "markdown",
      "source": [
        "### Hierarchical Clustering (Agglomerative Clustering)"
      ],
      "metadata": {
        "id": "mfLLn4YuNBmZ"
      }
    },
    {
      "cell_type": "code",
      "source": [
        "wrd2vec_agglo_model = AgglomerativeClustering(n_clusters=5)\n",
        "\n",
        "start_time = time.time()\n",
        "\n",
        "wrd2vec_agglo_labels = wrd2vec_agglo_model.fit_predict(X)\n",
        "\n",
        "end_time = time.time()\n",
        "wrd2vec_agglo_training_time = end_time - start_time\n",
        "\n",
        "wrd2vec_silhouette_agglo = silhouette_score(X, wrd2vec_agglo_labels)\n",
        "wrd2vec_rand_index_agglo = adjusted_rand_score(y, wrd2vec_agglo_labels)\n",
        "wrd2vec_nmi_agglo = normalized_mutual_info_score(y, wrd2vec_agglo_labels)\n",
        "\n",
        "print(\"Agglomerative Clustering\")\n",
        "print(f\"Silhouette Score: {wrd2vec_silhouette_agglo}\")\n",
        "print(f\"Adjusted Rand Index: {wrd2vec_rand_index_agglo}\")\n",
        "print(f\"Normalized Mutual Info Score: {wrd2vec_nmi_agglo}\")\n",
        "print(f\"Model training time: {wrd2vec_agglo_training_time:.4f} seconds\")"
      ],
      "metadata": {
        "id": "x5Ldva9NK0UU"
      },
      "execution_count": null,
      "outputs": []
    },
    {
      "cell_type": "code",
      "source": [
        "plt.figure(figsize=(8, 6))\n",
        "sns.scatterplot(x=X_pca[:, 0], y=X_pca[:, 1], hue=wrd2vec_agglo_labels, palette=\"viridis\", alpha=0.7)\n",
        "plt.title(\"Agglomerative Clustering on Word2Vec Representations (PCA Reduced)\")\n",
        "plt.xlabel(\"Principal Component 1\")\n",
        "plt.ylabel(\"Principal Component 2\")\n",
        "plt.show()"
      ],
      "metadata": {
        "id": "IHGuVmM8MSyL"
      },
      "execution_count": null,
      "outputs": []
    },
    {
      "cell_type": "markdown",
      "source": [
        "### DBSCAN Clustering"
      ],
      "metadata": {
        "id": "P0hq1qN0NPkT"
      }
    },
    {
      "cell_type": "code",
      "source": [
        "wrd2vec_dbscan_model = DBSCAN(eps=0.5, min_samples=5)\n",
        "\n",
        "start_time = time.time()\n",
        "\n",
        "wrd2vec_dbscan_labels = wrd2vec_dbscan_model.fit_predict(X)\n",
        "\n",
        "end_time = time.time()\n",
        "wrd2vec_dbscan_training_time = end_time - start_time\n",
        "\n",
        "wrd2vec_silhouette_dbscan = silhouette_score(X, wrd2vec_dbscan_labels) if len(set(wrd2vec_dbscan_labels)) > 1 else -1\n",
        "wrd2vec_rand_index_dbscan = adjusted_rand_score(y, wrd2vec_dbscan_labels)\n",
        "wrd2vec_nmi_dbscan = normalized_mutual_info_score(y, wrd2vec_dbscan_labels)\n",
        "\n",
        "print(\"DBSCAN Clustering\")\n",
        "print(f\"Silhouette Score: {wrd2vec_silhouette_dbscan}\")\n",
        "print(f\"Adjusted Rand Index: {wrd2vec_rand_index_dbscan}\")\n",
        "print(f\"Normalized Mutual Info Score: {wrd2vec_nmi_dbscan}\")\n",
        "print(f\"Model training time: {wrd2vec_dbscan_training_time:.4f} seconds\")"
      ],
      "metadata": {
        "id": "vhp204ZlM4YB"
      },
      "execution_count": null,
      "outputs": []
    },
    {
      "cell_type": "code",
      "source": [
        "pca = PCA(n_components=2)\n",
        "X_pca = pca.fit_transform(X)\n",
        "\n",
        "labels = np.array(wrd2vec_dbscan_labels)\n",
        "\n",
        "plt.figure(figsize=(8, 6))\n",
        "unique_labels = set(labels)\n",
        "\n",
        "for cluster in unique_labels:\n",
        "    cluster_mask = labels == cluster\n",
        "    if cluster == -1:\n",
        "        plt.scatter(X_pca[cluster_mask, 0], X_pca[cluster_mask, 1], c='red', label=\"Noise\", alpha=0.5, edgecolors='k')\n",
        "    else:\n",
        "        plt.scatter(X_pca[cluster_mask, 0], X_pca[cluster_mask, 1], label=f\"Cluster {cluster}\", alpha=0.7)\n",
        "\n",
        "plt.title(\"DBSCAN Clustering on Word2Vec Representations (PCA Reduced)\")\n",
        "plt.xlabel(\"Principal Component 1\")\n",
        "plt.ylabel(\"Principal Component 2\")\n",
        "plt.legend()\n",
        "plt.show()"
      ],
      "metadata": {
        "id": "m1Q0ur9bNeZ9"
      },
      "execution_count": null,
      "outputs": []
    },
    {
      "cell_type": "code",
      "source": [],
      "metadata": {
        "id": "CAvwX0D6NzMi"
      },
      "execution_count": null,
      "outputs": []
    },
    {
      "cell_type": "code",
      "source": [
        "import matplotlib.pyplot as plt\n",
        "import seaborn as sns\n",
        "import pandas as pd\n",
        "\n",
        "# Make sure seaborn style is nice\n",
        "sns.set(style='whitegrid')\n",
        "plt.rcParams.update({'figure.figsize': (12, 6), 'font.size': 12})\n",
        "\n",
        "# Dictionary of all metrics\n",
        "data = {\n",
        "    'Model': [\n",
        "        'TFIDF_LogReg', 'TFIDF_DT', 'TFIDF_RF', 'TFIDF_NB', 'TFIDF_XGB',\n",
        "        'W2V_LogReg', 'W2V_DT', 'W2V_RF', 'W2V_NB', 'W2V_XGB'\n",
        "    ],\n",
        "    'Representation': ['TF-IDF']*5 + ['Word2Vec']*5,\n",
        "    'Accuracy': [\n",
        "        tfidf_log_reg_accuracy, tfidf_dt_accuracy, tfidf_rf_accuracy, tfidf_nb_accuracy, tfidf_xgb_accuracy,\n",
        "        wrd2vec_log_reg_accuracy, wrd2vec_dt_accuracy, wrd2vec_rf_accuracy, wrd2vec_nb_accuracy, wrd2vec_xgb_accuracy\n",
        "    ],\n",
        "    'Precision': [\n",
        "        tfidf_log_reg_precision, tfidf_dt_precision, tfidf_rf_precision, tfidf_nb_precision, tfidf_xgb_precision,\n",
        "        wrd2vec_log_reg_precision, wrd2vec_dt_precision, wrd2vec_rf_precision, wrd2vec_nb_precision, wrd2vec_xgb_precision\n",
        "    ],\n",
        "    'Recall': [\n",
        "        tfidf_log_reg_recall, tfidf_dt_recall, tfidf_rf_recall, tfidf_nb_recall, tfidf_xgb_recall,\n",
        "        wrd2vec_log_reg_recall, wrd2vec_dt_recall, wrd2vec_rf_recall, wrd2vec_nb_recall, wrd2vec_xgb_recall\n",
        "    ],\n",
        "    'F1 Score': [\n",
        "        tfidf_log_reg_f1, tfidf_dt_f1, tfidf_rf_f1, tfidf_nb_f1, tfidf_xgb_f1,\n",
        "        wrd2vec_log_reg_f1, wrd2vec_dt_f1, wrd2vec_rf_f1, wrd2vec_nb_f1, wrd2vec_xgb_f1\n",
        "    ],\n",
        "    'Training Time (s)': [\n",
        "        tfidf_log_reg_training_time, tfidf_dt_training_time, tfidf_rf_model_training_time, tfidf_nb_model_training_time, tfidf_xgb_model_training_time,\n",
        "        wrd2vec_log_reg_training_time, wrd2vec_dt_training_time, wrd2vec_rf_model_training_time, wrd2vec_nb_model_training_time, wrd2vec_xgb_model_training_time\n",
        "    ]\n",
        "}\n",
        "\n",
        "# Convert to DataFrame\n",
        "df = pd.DataFrame(data)\n",
        "\n",
        "# Melt for seaborn compatibility\n",
        "metrics_df = df.melt(id_vars=['Model', 'Representation'],\n",
        "                     value_vars=['Accuracy', 'Precision', 'Recall', 'F1 Score'],\n",
        "                     var_name='Metric', value_name='Score')\n",
        "\n",
        "# ---------- Plot 1: Metric Comparison Across Models ----------\n",
        "plt.figure(figsize=(16, 8))\n",
        "sns.barplot(x='Model', y='Score', hue='Metric', data=metrics_df)\n",
        "plt.title('Model Performance Metrics Comparison')\n",
        "plt.xticks(rotation=45)\n",
        "plt.legend(loc='lower right')\n",
        "plt.tight_layout()\n",
        "plt.show()"
      ],
      "metadata": {
        "colab": {
          "base_uri": "https://localhost:8080/",
          "height": 635
        },
        "id": "XGaI5CrHFj6q",
        "outputId": "dae0d8b2-ce11-48e2-e2af-3b19b7234aec"
      },
      "execution_count": null,
      "outputs": [
        {
          "output_type": "display_data",
          "data": {
            "text/plain": [
              "<Figure size 1600x800 with 1 Axes>"
            ],
            "image/png": "[encoded data removed]"
          },
          "metadata": {}
        }
      ]
    },
    {
      "cell_type": "code",
      "source": [
        "\n",
        "# ---------- Plot 2: Representation-wise Accuracy ----------\n",
        "plt.figure(figsize=(10, 6))\n",
        "sns.boxplot(x='Representation', y='Accuracy', data=df)\n",
        "plt.title('Accuracy Distribution Across Representations')\n",
        "plt.tight_layout()\n",
        "plt.show()"
      ],
      "metadata": {
        "colab": {
          "base_uri": "https://localhost:8080/",
          "height": 601
        },
        "id": "uatL4t7kFlM4",
        "outputId": "2ce6e023-89b3-499e-8e98-8bcbbc0c9556"
      },
      "execution_count": null,
      "outputs": [
        {
          "output_type": "display_data",
          "data": {
            "text/plain": [
              "<Figure size 1000x600 with 1 Axes>"
            ],
            "image/png": "[encoded data removed]"
          },
          "metadata": {}
        }
      ]
    },
    {
      "cell_type": "code",
      "source": [
        "\n",
        "# ---------- Plot 3: Training Time ----------\n",
        "plt.figure(figsize=(16, 6))\n",
        "sns.barplot(x='Model', y='Training Time (s)', hue='Representation', data=df, palette='coolwarm')\n",
        "plt.title('Model Training Time Comparison')\n",
        "plt.xticks(rotation=45)\n",
        "plt.tight_layout()\n",
        "plt.show()"
      ],
      "metadata": {
        "colab": {
          "base_uri": "https://localhost:8080/",
          "height": 478
        },
        "id": "FAEDoQfNHHDE",
        "outputId": "575fa32a-73a1-40b5-9bca-57e38452a973"
      },
      "execution_count": null,
      "outputs": [
        {
          "output_type": "display_data",
          "data": {
            "text/plain": [
              "<Figure size 1600x600 with 1 Axes>"
            ],
            "image/png": "[encoded data removed]"
          },
          "metadata": {}
        }
      ]
    },
    {
      "cell_type": "code",
      "source": [
        "\n",
        "# ---------- Optional: Individual Metric Comparison ----------\n",
        "for metric in ['Accuracy', 'Precision', 'Recall', 'F1 Score']:\n",
        "    plt.figure(figsize=(12, 5))\n",
        "    sns.barplot(x='Model', y=metric, hue='Representation', data=df, palette='viridis')\n",
        "    plt.title(f'{metric} Comparison Across Models')\n",
        "    plt.xticks(rotation=45)\n",
        "    plt.tight_layout()\n",
        "    plt.show()\n"
      ],
      "metadata": {
        "colab": {
          "base_uri": "https://localhost:8080/",
          "height": 1000
        },
        "id": "2Cag5frTHI3r",
        "outputId": "e4b440a1-5eb7-4bd2-e62f-9e404e8577a8"
      },
      "execution_count": null,
      "outputs": [
        {
          "output_type": "display_data",
          "data": {
            "text/plain": [
              "<Figure size 1200x500 with 1 Axes>"
            ],
            "image/png": "[encoded data removed]"
          },
          "metadata": {}
        },
        {
          "output_type": "display_data",
          "data": {
            "text/plain": [
              "<Figure size 1200x500 with 1 Axes>"
            ],
            "image/png": "[encoded data removed]"
          },
          "metadata": {}
        },
        {
          "output_type": "display_data",
          "data": {
            "text/plain": [
              "<Figure size 1200x500 with 1 Axes>"
            ],
            "image/png": "[encoded data removed]"
          },
          "metadata": {}
        },
        {
          "output_type": "display_data",
          "data": {
            "text/plain": [
              "<Figure size 1200x500 with 1 Axes>"
            ],
            "image/png": "[encoded data removed]"
          },
          "metadata": {}
        }
      ]
    },
    {
      "cell_type": "code",
      "source": [
        "!pip install adjustText"
      ],
      "metadata": {
        "colab": {
          "base_uri": "https://localhost:8080/"
        },
        "id": "izreQ46WIjRL",
        "outputId": "4e55571c-46d9-42e9-e621-695d39076a6c"
      },
      "execution_count": null,
      "outputs": [
        {
          "output_type": "stream",
          "name": "stdout",
          "text": [
            "Collecting adjustText\n",
            "  Downloading adjustText-1.3.0-py3-none-any.whl.metadata (3.1 kB)\n",
            "Requirement already satisfied: numpy in /usr/local/lib/python3.11/dist-packages (from adjustText) (1.26.4)\n",
            "Requirement already satisfied: matplotlib in /usr/local/lib/python3.11/dist-packages (from adjustText) (3.10.0)\n",
            "Requirement already satisfied: scipy in /usr/local/lib/python3.11/dist-packages (from adjustText) (1.13.1)\n",
            "Requirement already satisfied: contourpy>=1.0.1 in /usr/local/lib/python3.11/dist-packages (from matplotlib->adjustText) (1.3.1)\n",
            "Requirement already satisfied: cycler>=0.10 in /usr/local/lib/python3.11/dist-packages (from matplotlib->adjustText) (0.12.1)\n",
            "Requirement already satisfied: fonttools>=4.22.0 in /usr/local/lib/python3.11/dist-packages (from matplotlib->adjustText) (4.56.0)\n",
            "Requirement already satisfied: kiwisolver>=1.3.1 in /usr/local/lib/python3.11/dist-packages (from matplotlib->adjustText) (1.4.8)\n",
            "Requirement already satisfied: packaging>=20.0 in /usr/local/lib/python3.11/dist-packages (from matplotlib->adjustText) (24.2)\n",
            "Requirement already satisfied: pillow>=8 in /usr/local/lib/python3.11/dist-packages (from matplotlib->adjustText) (11.1.0)\n",
            "Requirement already satisfied: pyparsing>=2.3.1 in /usr/local/lib/python3.11/dist-packages (from matplotlib->adjustText) (3.2.3)\n",
            "Requirement already satisfied: python-dateutil>=2.7 in /usr/local/lib/python3.11/dist-packages (from matplotlib->adjustText) (2.8.2)\n",
            "Requirement already satisfied: six>=1.5 in /usr/local/lib/python3.11/dist-packages (from python-dateutil>=2.7->matplotlib->adjustText) (1.17.0)\n",
            "Downloading adjustText-1.3.0-py3-none-any.whl (13 kB)\n",
            "Installing collected packages: adjustText\n",
            "Successfully installed adjustText-1.3.0\n"
          ]
        }
      ]
    },
    {
      "cell_type": "code",
      "source": [
        "import matplotlib.pyplot as plt\n",
        "import seaborn as sns\n",
        "from adjustText import adjust_text  # 📦 Install this if not already: pip install adjustText\n",
        "\n",
        "plt.figure(figsize=(10, 6))\n",
        "sns.scatterplot(\n",
        "    x='Training Time (s)',\n",
        "    y='Accuracy',\n",
        "    hue='Representation',\n",
        "    style='Representation',\n",
        "    data=df,\n",
        "    s=150,\n",
        "    palette='Set2'\n",
        ")\n",
        "\n",
        "# Use adjustText to prevent overlaps\n",
        "texts = []\n",
        "for i in range(df.shape[0]):\n",
        "    texts.append(\n",
        "        plt.text(\n",
        "            df['Training Time (s)'][i],\n",
        "            df['Accuracy'][i],\n",
        "            df['Model'][i],\n",
        "            fontsize=9\n",
        "        )\n",
        "    )\n",
        "\n",
        "from adjustText import adjust_text\n",
        "adjust_text(texts, arrowprops=dict(arrowstyle='-', color='gray', lw=0.5))\n",
        "\n",
        "plt.title('Training Time vs Accuracy Tradeoff')\n",
        "plt.xlabel('Training Time (seconds)')\n",
        "plt.ylabel('Accuracy')\n",
        "plt.grid(True)\n",
        "plt.tight_layout()\n",
        "plt.show()\n"
      ],
      "metadata": {
        "colab": {
          "base_uri": "https://localhost:8080/",
          "height": 601
        },
        "id": "c8J5PEwlHKBz",
        "outputId": "6e906859-3e8d-4855-d880-5c0599c01489"
      },
      "execution_count": null,
      "outputs": [
        {
          "output_type": "display_data",
          "data": {
            "text/plain": [
              "<Figure size 1000x600 with 1 Axes>"
            ],
            "image/png": "[encoded data removed]"
          },
          "metadata": {}
        }
      ]
    },
    {
      "cell_type": "code",
      "source": [
        "df['Accuracy_per_Second'] = df['Accuracy'] / df['Training Time (s)']\n",
        "\n",
        "best_tradeoff_models = df.loc[df.groupby('Representation')['Accuracy_per_Second'].idxmax()]\n",
        "\n",
        "print(\"Best Models for Training Time vs Accuracy Tradeoff:\\n\")\n",
        "for i, row in best_tradeoff_models.iterrows():\n",
        "    print(f\"Representation: {row['Representation']}\")\n",
        "    print(f\"Model: {row['Model']}\")\n",
        "    print(f\"Accuracy per Second: {row['Accuracy_per_Second']:.4f}\")\n",
        "    print(f\"Accuracy: {row['Accuracy']:.4f}\")\n",
        "    print(f\"Training Time: {row['Training Time (s)']:.4f} seconds\")\n",
        "    print(f\"Precision: {row['Precision']:.4f}\")\n",
        "    print(f\"Recall: {row['Recall']:.4f}\")\n",
        "    print(f\"F1 Score: {row['F1 Score']:.4f}\\n\")\n"
      ],
      "metadata": {
        "colab": {
          "base_uri": "https://localhost:8080/"
        },
        "id": "zkHqMmGOJCzp",
        "outputId": "68209ee8-e432-4947-dfdf-2b0f701479fe"
      },
      "execution_count": null,
      "outputs": [
        {
          "output_type": "stream",
          "name": "stdout",
          "text": [
            "Best Models for Training Time vs Accuracy Tradeoff:\n",
            "\n",
            "Representation: TF-IDF\n",
            "Model: TFIDF_NB\n",
            "Accuracy per Second: 13.3440\n",
            "Accuracy: 0.9680\n",
            "Training Time: 0.0725 seconds\n",
            "Precision: 0.9680\n",
            "Recall: 0.9680\n",
            "F1 Score: 0.9680\n",
            "\n",
            "Representation: Word2Vec\n",
            "Model: W2V_NB\n",
            "Accuracy per Second: 111.5701\n",
            "Accuracy: 0.9445\n",
            "Training Time: 0.0085 seconds\n",
            "Precision: 0.9457\n",
            "Recall: 0.9445\n",
            "F1 Score: 0.9448\n",
            "\n"
          ]
        }
      ]
    },
    {
      "cell_type": "code",
      "source": [
        "best_models = df.loc[df.groupby('Representation')['Accuracy'].idxmax()]\n",
        "\n",
        "print(\"Best Models for Each Text Representation:\\n\")\n",
        "for i, row in best_models.iterrows():\n",
        "    print(f\"Representation: {row['Representation']}\")\n",
        "    print(f\"Model: {row['Model']}\")\n",
        "    print(f\"Accuracy: {row['Accuracy']:.4f}\")\n",
        "    print(f\"Precision: {row['Precision']:.4f}\")\n",
        "    print(f\"Recall: {row['Recall']:.4f}\")\n",
        "    print(f\"F1 Score: {row['F1 Score']:.4f}\")\n",
        "    print(f\"Training Time: {row['Training Time (s)']:.4f} seconds\\n\")\n"
      ],
      "metadata": {
        "colab": {
          "base_uri": "https://localhost:8080/"
        },
        "id": "N6ZLAiQqHO6Z",
        "outputId": "ff220e0b-a336-4293-b1ed-7e0a21bf2f59"
      },
      "execution_count": null,
      "outputs": [
        {
          "output_type": "stream",
          "name": "stdout",
          "text": [
            "Best Models for Each Text Representation:\n",
            "\n",
            "Representation: TF-IDF\n",
            "Model: TFIDF_LogReg\n",
            "Accuracy: 0.9765\n",
            "Precision: 0.9765\n",
            "Recall: 0.9765\n",
            "F1 Score: 0.9765\n",
            "Training Time: 5.2140 seconds\n",
            "\n",
            "Representation: Word2Vec\n",
            "Model: W2V_LogReg\n",
            "Accuracy: 0.9685\n",
            "Precision: 0.9684\n",
            "Recall: 0.9685\n",
            "F1 Score: 0.9684\n",
            "Training Time: 0.2762 seconds\n",
            "\n"
          ]
        }
      ]
    },
    {
      "cell_type": "code",
      "source": [],
      "metadata": {
        "id": "OS3JMkoEH5SI"
      },
      "execution_count": null,
      "outputs": []
    }
  ]
}
